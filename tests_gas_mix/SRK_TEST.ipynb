{
 "cells": [
  {
   "cell_type": "markdown",
   "source": [
    "### This file is not supposed to be included in the final PR\n",
    "\n",
    "This script is used to produce verified compressibilty factor (Z) values based on molar fractions, pressure and temperature using the CoolProp package.\n",
    "These values are used (hardcoded) in the test functions for the gas mixture functionality in pandapipes.\n",
    "It would be helpful to save this script somewhere in order to clarify the source of the hardcoded compressibilty factor values\n",
    "in the test files and produce more of them if necessary.\n"
   ],
   "metadata": {
    "collapsed": false
   }
  },
  {
   "cell_type": "code",
   "execution_count": null,
   "metadata": {
    "ExecuteTime": {
     "end_time": "2023-06-06T14:53:00.973598Z",
     "start_time": "2023-06-06T14:53:00.895365Z"
    }
   },
   "outputs": [],
   "source": [
    "import numpy as np\n",
    "from CoolProp.CoolProp import PropsSI\n",
    "from thermo.eos_mix import SRKMIX\n",
    "\n",
    "# to display full output of a code cell\n",
    "from IPython.core.interactiveshell import InteractiveShell\n",
    "InteractiveShell.ast_node_interactivity = \"all\"\n"
   ]
  },
  {
   "cell_type": "code",
   "execution_count": null,
   "metadata": {
    "ExecuteTime": {
     "end_time": "2023-06-06T14:53:01.069874Z",
     "start_time": "2023-06-06T14:53:01.050092Z"
    },
    "collapsed": true
   },
   "outputs": [],
   "source": [
    "T = 283.15\n",
    "\n",
    "T_0 = 283.15\n",
    "T_1 = 283.15\n",
    "T_2 = 283.15\n",
    "T_3 = 283.15\n",
    "\n",
    "\n",
    "# p_0 = 1*1e5\n",
    "# p_1 = 25*1e5\n",
    "# p_2 = 50*1e5\n",
    "\n",
    "p_0 = 20*1e5 # pressures after 4 \"solve hydraulics\" iterations\n",
    "p_1 = 19.988986*1e5\n",
    "p_2 = 19.940612*1e5\n",
    "p_3 = 19.996754*1e5\n",
    "\n",
    "p_n = 101325\n",
    "T_n = 273.15\n",
    "# methane\n",
    "# critical temperature [K]\n",
    "T_crit_meth = 190.55\n",
    "# critical pressure [Pa]\n",
    "p_crit_meth = 45.95e5\n",
    "# acentric factor - dimensionless\n",
    "acent_fact_meth = 0.01142\n",
    "\n",
    "# h2\n",
    "# critical temperature [K]\n",
    "T_crit_h2 = 33.20\n",
    "# critical pressure [Pa]\n",
    "p_crit_h2 = 13e5\n",
    "# acentric factor - dimensionless\n",
    "acent_fact_h2 = -0.219\n",
    "\n",
    "\n",
    "T_crit = np.array([T_crit_meth, T_crit_h2])\n",
    "p_crit = np.array([p_crit_meth, p_crit_h2])\n",
    "acent_fact = np.array([acent_fact_meth, acent_fact_h2])"
   ]
  },
  {
   "cell_type": "code",
   "execution_count": null,
   "metadata": {
    "ExecuteTime": {
     "end_time": "2023-06-06T14:53:01.303319Z",
     "start_time": "2023-06-06T14:53:01.294485Z"
    }
   },
   "outputs": [],
   "source": [
    "# Zum Testen'\n",
    "molar_fraction_0 = np.array([0, 1])\n",
    "molar_fraction_1 = np.array([0.50135, 0.49865])\n",
    "molar_fraction_2 = np.array([1, 0])\n"
   ]
  },
  {
   "cell_type": "code",
   "execution_count": null,
   "metadata": {
    "ExecuteTime": {
     "end_time": "2023-06-06T14:53:01.570114Z",
     "start_time": "2023-06-06T14:53:01.550971Z"
    }
   },
   "outputs": [],
   "source": [
    "SRKMIX(Tcs=T_crit, Pcs=p_crit, omegas=acent_fact, zs=molar_fraction_0, T=T, P=p_0).Z_g"
   ]
  },
  {
   "cell_type": "code",
   "execution_count": null,
   "metadata": {
    "ExecuteTime": {
     "end_time": "2023-06-06T14:53:03.103714Z",
     "start_time": "2023-06-06T14:53:03.088745Z"
    }
   },
   "outputs": [],
   "source": [
    "a =PropsSI(\"Z\", \"T\", T_0, \"P\", p_0, \"SRK::Methane[1]&Hydrogen[0]\")\n",
    "b= PropsSI(\"Z\", \"T\", T_1, \"P\", p_1, \"SRK::Methane[0.30549509]&Hydrogen[0.69450491]\") # [.6, .4])\n",
    "c= PropsSI(\"Z\", \"T\", T_2, \"P\", p_2, \"SRK::Methane[0.30549509]&Hydrogen[0.69450491]\") # [.6, .4])\n",
    "d= PropsSI(\"Z\", \"T\", T_3, \"P\", p_3, \"SRK::Methane[0]&Hydrogen[1]\") # [.9, .1])\n",
    "\n",
    "# e=PropsSI(\"Z\", \"T\", T_n, \"P\", p_n, \"SRK::Methane[1]&Hydrogen[0]\") # [.9, .1])\n",
    "# f=PropsSI(\"Z\", \"T\", T_n, \"P\", p_n, \"SRK::Methane[0.50135]&Hydrogen[0.49865]\") # [.9, .1])\n",
    "# g=PropsSI(\"Z\", \"T\", T_n, \"P\", p_n, \"SRK::Methane[0.50135]&Hydrogen[0.49865]\") # [.9, .1])\n",
    "# h=PropsSI(\"Z\", \"T\", T_n, \"P\", p_n, \"SRK::Methane[0]&Hydrogen[1]\") # [.9, .1])\n",
    "\n",
    "a\n",
    "b\n",
    "c\n",
    "d"
   ]
  },
  {
   "cell_type": "code",
   "execution_count": null,
   "outputs": [],
   "source": [],
   "metadata": {
    "collapsed": false
   }
  }
 ],
 "metadata": {
  "kernelspec": {
   "display_name": "Python 3 (ipykernel)",
   "language": "python",
   "name": "python3"
  },
  "language_info": {
   "codemirror_mode": {
    "name": "ipython",
    "version": 3
   },
   "file_extension": ".py",
   "mimetype": "text/x-python",
   "name": "python",
   "nbconvert_exporter": "python",
   "pygments_lexer": "ipython3",
   "version": "3.9.13"
  }
 },
 "nbformat": 4,
 "nbformat_minor": 1
}

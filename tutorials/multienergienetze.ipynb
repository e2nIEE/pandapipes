{
 "cells": [
  {
   "cell_type": "markdown",
   "metadata": {
    "collapsed": true,
    "pycharm": {
     "name": "#%% md\n"
    }
   },
   "source": [
    "# Gekoppelte Netze berechnen"
   ]
  },
  {
   "cell_type": "markdown",
   "metadata": {},
   "source": [
    "Sie haben bereits gelernt, wie man Netze in pandapower und pandapipes aufsetzen und berechnen kann. Wesentliches Merkmal der Simulationsumgebung ist zudem die Möglichkeit, Netze miteinander zu koppeln, um analysieren zu können, wie sich der Zustand des einen auf den Zustand des anderen auswirkt. Um eine solche Berechnung durchzuführen, sind die folgenden Dinge vonnöten:\n",
    "\n",
    "- Die zwei zu verbindenden Netze\n",
    "- Das Hinzufügen von Kopplungselementen zwischen den Netzen. Dabei kann es sich bspw. um eine P2G-Anlage handeln. Kopplungselemente werden als Controller modelliert, da diese auch zur Regelung bestimmter Größen eingesetzt werden können. Controller existieren aber nicht nur zur Kopplung der Netze untereinander. Wir werden auch Fälle kennenlernen, in denen diese nur in einem Netz definiert sind.\n",
    "- Üblicherweise werden gekoppelte Netze immer über einen längeren Zeitraum beobachtet. Deswegen sehen wir uns auch an, wie man eine Zeitreihensimulation durchführen kann.\n",
    "\n",
    "In diesem Tutorial wird eine P2G-Anlage und eine G2P-Einheit genutzt, um ein Strom- mit einem Gasnetz zu verbinden. Eingabewerte für diese Anlagen werden zu Beginn der Simulation festgelegt. Während der Simulation werden Ausgabegrößen anhand von Effizienzfaktoren berechnet.\n",
    "\n",
    "Die Kopplung der Netze untereinenader erfolgt zunächst in drei Schritten. Eine Zeitreihenbetrachtung ist zunächst nicht enthalten, wird aufbauend auf der Kopplung aber hinzugefügt:\n",
    "\n",
    "1. Erzeugen eines Containers zur Aufnahme der zu koppelnden Netze\n",
    "2. Hinzufügen der Controller für die Kopplungselemente\n",
    "3. Durchführen der Berechnung"
   ]
  },
  {
   "cell_type": "markdown",
   "metadata": {
    "pycharm": {
     "name": "#%% md\n"
    }
   },
   "source": [
    "##  Erzeugen eines \"Multi-Nets\"\n",
    "\n",
    "Im Gegensatz zu den bereits erstellten Netzwerken, machen wir uns diesmal nicht die Arbeit, Netze in der Konsole zu generieren. Stattdessen laden wir bereits vorhandene Netze einfach und definieren das Fluid.\n"
   ]
  },
  {
   "cell_type": "code",
   "execution_count": null,
   "metadata": {
    "pycharm": {
     "name": "#%%\n"
    }
   },
   "outputs": [],
   "source": [
    "from pandapower import networks as e_nw\n",
    "net_power = e_nw.example_simple()\n",
    "\n",
    "import pandapipes as ppipes\n",
    "from pandapipes import networks as g_nw\n",
    "\n",
    "net_gas = g_nw.gas_meshed_square()\n",
    "# some adjustments:\n",
    "net_gas.junction.pn_bar = net_gas.ext_grid.p_bar = 30\n",
    "net_gas.pipe.diameter_m = 0.4\n",
    "\n",
    "# set fluid:\n",
    "ppipes.create_fluid_from_lib(net_gas, 'hydrogen', overwrite=True)\n",
    "net_gas.ext_grid.fluid = 'hydrogen'"
   ]
  },
  {
   "cell_type": "markdown",
   "metadata": {
    "pycharm": {
     "name": "#%% md\n"
    }
   },
   "source": [
    "\n",
    " Anschließend wird der \"Multinet\"-Container erstellt. Er nimmt die zu verbindenden Netzwerke im Rahmen einer gekoppelten Anaylse auf. Jedes Netz muss einen eigenen Namen zugewiesen bekommen. Standardnamen sind \"power\" und \"gas\", aber es kann jeder beliebige Name gewählt werden. Die Zahl der Netze ist nicht begrenzt."
   ]
  },
  {
   "cell_type": "code",
   "execution_count": null,
   "metadata": {
    "pycharm": {
     "name": "#%%\n"
    }
   },
   "outputs": [],
   "source": [
    "from pandapipes.multinet.create_multinet import create_empty_multinet, add_net_to_multinet\n",
    "multinet = create_empty_multinet('tutorial_multinet')\n",
    "add_net_to_multinet(multinet, net_power, 'power')\n",
    "add_net_to_multinet(multinet, net_gas, 'gas')"
   ]
  },
  {
   "cell_type": "markdown",
   "metadata": {
    "pycharm": {
     "name": "#%% md\n"
    }
   },
   "source": [
    "Die einzelnen Netzwerke können über den Variablennamen oder den Multinet-Container angesprochen werden:"
   ]
  },
  {
   "cell_type": "code",
   "execution_count": null,
   "metadata": {
    "pycharm": {
     "name": "#%%\n"
    }
   },
   "outputs": [],
   "source": [
    "print(multinet.nets['power'])\n",
    "print(multinet.nets['gas'])"
   ]
  },
  {
   "cell_type": "code",
   "execution_count": null,
   "metadata": {
    "pycharm": {
     "name": "#%%\n"
    }
   },
   "outputs": [],
   "source": [
    "print(net_power)\n",
    "print(net_gas)"
   ]
  },
  {
   "cell_type": "code",
   "execution_count": null,
   "metadata": {
    "pycharm": {
     "name": "#%%\n"
    }
   },
   "outputs": [],
   "source": [
    "print(net_power is multinet.nets['power'])\n",
    "print(net_gas is multinet.nets['gas'])"
   ]
  },
  {
   "cell_type": "markdown",
   "metadata": {
    "pycharm": {
     "name": "#%% md\n"
    }
   },
   "source": [
    "Folglich werden Änderungen in den jeweils vom \"Multinet\" losgelösten Netzen auf die im \"Multinet\" übertragen."
   ]
  },
  {
   "cell_type": "markdown",
   "metadata": {},
   "source": [
    "## Kopplungspunkte hinzufügen\n",
    "\n",
    "Jetzt werden Elemente für die P2G und G2P-Controller hinzugefügt. Jeder Controller ist mit mindestens einem Element eines Netzwerks verbunden, von welchem er Elemente entnimmt oder dorthin überträgt. Im Falle von Kopplungspunkten für Multienergienetze gibt es zwei Verbindungen: Eine Verbindung zu einem Element des Gasnetzes und eine Verbindung zu einem Element des Stromnetzes. \n",
    "\n",
    "Im Folgenden werden zunächst die Elemente erzeugt, mit denen die Controller verbunden werden:"
   ]
  },
  {
   "cell_type": "code",
   "execution_count": null,
   "metadata": {
    "pycharm": {
     "name": "#%%\n"
    }
   },
   "outputs": [],
   "source": [
    "import pandapower as ppower\n",
    "import pandapipes as ppipes\n",
    "\n",
    "p2g_id_el = ppower.create_load(net_power, bus=3, p_mw=2, name=\"power to gas consumption\")\n",
    "p2g_id_gas = ppipes.create_source(net_gas, junction=1, mdot_kg_per_s=0, name=\"power to gas feed in\", fluid='hydrogen')\n",
    "\n",
    "g2p_id_gas = ppipes.create_sink(net_gas, junction=1, mdot_kg_per_s=0.1, name=\"gas to power consumption\")\n",
    "g2p_id_el = ppower.create_sgen(net_power, bus=5, p_mw=0, name=\"fuel cell feed in\")"
   ]
  },
  {
   "cell_type": "markdown",
   "metadata": {},
   "source": [
    "Jetzt werden die eigentlichen Controller erzeugt und initialisiert. Die Netzelemente, die mit den Controllern verbunden sind, werden als Parameter übergeben. Der Controller agiert damit als Kopplungspunkt zwischen den Netzen.\n"
   ]
  },
  {
   "cell_type": "code",
   "execution_count": null,
   "metadata": {
    "pycharm": {
     "name": "#%%\n"
    }
   },
   "outputs": [],
   "source": [
    "from pandapipes.multinet.control.controller.multinet_control import P2GControlMultiEnergy, \\\n",
    "    G2PControlMultiEnergy\n",
    "\n",
    "p2g_ctrl = P2GControlMultiEnergy(multinet, p2g_id_el, p2g_id_gas, efficiency=0.7,\n",
    "                          name_power_net=\"power\", name_gas_net=\"gas\")\n",
    "\n",
    "g2p_ctrl = G2PControlMultiEnergy(multinet, g2p_id_el, g2p_id_gas, efficiency=0.65,\n",
    "                          name_power_net=\"power\", name_gas_net=\"gas\")"
   ]
  },
  {
   "cell_type": "markdown",
   "metadata": {
    "pycharm": {
     "name": "#%% md\n"
    }
   },
   "source": [
    "Intern arbeiten die Controller mit einem importierten Brennwert. Dieser stammt aus den Fluideigenschaften des Netzes\n",
    "\n",
    "*pandapipes/properties/[fluid_name]/higher_heating_value.txt*)\n",
    "\n",
    "Controller können auf vielfältige Weise eingesetzt werden. Alle Aspekte kann dieses Tutorial nicht abdecken. Weitere Infos finden Sie aber unter:https://pandapower.readthedocs.io/en/latest/control/control_loop.html"
   ]
  },
  {
   "cell_type": "markdown",
   "metadata": {
    "pycharm": {
     "name": "#%% md\n"
    }
   },
   "source": [
    "## Simulation\n",
    "\n",
    "Jetzt, wo die Netze und die Controller erstellt worden sind, kann die Berechnung gestartet werden. Es ist bekannt, dass die Berechnung von pandapower und pandapipes-Netzen mit den Kommandos `runpp` bzw. `pipeflow` gestartet wird. Werden gekoppelte Netze berechnet, so wird stattdessen der Befehl `run_control` eingesetzt, der intern die Berechnung der Teilnetze startet, aber auch dafür sorgt, dass die Controller aufgerufen werden."
   ]
  },
  {
   "cell_type": "code",
   "execution_count": null,
   "metadata": {
    "pycharm": {
     "name": "#%%\n"
    }
   },
   "outputs": [],
   "source": [
    "from pandapipes.multinet.control.run_control_multinet import run_control\n",
    "run_control(multinet)"
   ]
  },
  {
   "cell_type": "markdown",
   "metadata": {
    "pycharm": {
     "name": "#%% md\n"
    }
   },
   "source": [
    "Nach der Berechnung wurden die Ausgabewerte aktualisiert und entsprechen der Eingangsleistung multipliziert mit dem Effizienzfaktor.\n"
   ]
  },
  {
   "cell_type": "code",
   "execution_count": null,
   "metadata": {
    "pycharm": {
     "name": "#%%\n"
    }
   },
   "outputs": [],
   "source": [
    "print(net_gas.source.loc[p2g_id_gas, 'mdot_kg_per_s'])\n",
    "print(net_power.sgen.loc[g2p_id_el, 'p_mw'])"
   ]
  },
  {
   "cell_type": "markdown",
   "metadata": {
    "pycharm": {
     "name": "#%% md\n"
    }
   },
   "source": [
    "Zusammengefasst:"
   ]
  },
  {
   "cell_type": "code",
   "execution_count": null,
   "metadata": {
    "pycharm": {
     "name": "#%%\n"
    }
   },
   "outputs": [],
   "source": [
    "import pandapipes as ppipes\n",
    "import pandapower as ppower\n",
    "\n",
    "from pandapipes import networks as g_nw\n",
    "from pandapower import networks as e_nw\n",
    "from pandapipes.multinet.create_multinet import create_empty_multinet, add_net_to_multinet\n",
    "from pandapipes.multinet.control.controller.multinet_control import P2GControlMultiEnergy, G2PControlMultiEnergy\n",
    "from pandapipes.multinet.control.run_control_multinet import run_control\n",
    "\n",
    "# get networks:\n",
    "net_power = e_nw.example_simple()\n",
    "net_gas = g_nw.gas_meshed_square()\n",
    "# some adjustments:\n",
    "net_gas.junction.pn_bar = net_gas.ext_grid.p_bar = 30\n",
    "net_gas.pipe.diameter_m = 0.4\n",
    "net_gas.ext_grid.fluid = 'hydrogen'\n",
    "net_gas.controller.rename(columns={'controller': 'object'}, inplace=True) # due to new version\n",
    "\n",
    "# set fluid:\n",
    "fluid = {'name':'hydrogen', 'cal_value':38.4}\n",
    "ppipes.create_fluid_from_lib(net_gas, fluid['name'], overwrite=True)\n",
    "\n",
    "# create multinet and add networks:\n",
    "multinet = create_empty_multinet('tutorial_multinet')\n",
    "add_net_to_multinet(multinet, net_power, 'power')\n",
    "add_net_to_multinet(multinet, net_gas, 'gas')\n",
    "\n",
    "# create elements corresponding to conversion units:\n",
    "p2g_id_el = ppower.create_load(net_power, bus=3, p_mw=2, name=\"power to gas consumption\")\n",
    "p2g_id_gas = ppipes.create_source(net_gas, junction=1, mdot_kg_per_s=0, name=\"power to gas feed in\", fluid='hydrogen')\n",
    "\n",
    "g2p_id_gas = ppipes.create_sink(net_gas, junction=1, mdot_kg_per_s=0.1, name=\"gas to power consumption\")\n",
    "g2p_id_el = ppower.create_sgen(net_power, bus=5, p_mw=0, name=\"fuel cell feed in\")\n",
    "\n",
    "# create coupling controllers:\n",
    "p2g_ctrl = P2GControlMultiEnergy(multinet, p2g_id_el, p2g_id_gas, efficiency=0.7,\n",
    "                                 name_power_net=\"power\", name_gas_net=\"gas\")\n",
    "\n",
    "g2p_ctrl = G2PControlMultiEnergy(multinet, g2p_id_el, g2p_id_gas, efficiency=0.65,\n",
    "                                 name_power_net=\"power\", name_gas_net=\"gas\")\n",
    "\n",
    "# run simulation:\n",
    "run_control(multinet)"
   ]
  },
  {
   "cell_type": "markdown",
   "metadata": {
    "pycharm": {
     "name": "#%% md\n"
    }
   },
   "source": [
    "## Durchführung einer zeitabhängigen Simulation\n",
    "\n",
    "In der Regel möchte man die Zustände des Systems für den Fall ermitteln, dass Eingabedaten mit der Zeit variieren. Dies kann dann der Fall sein, wenn z. B. Lasten ein zeitlich nicht konstantes Profil aufweisen. Die Controller, die wir im vorigen Abschnitt eingeführt haben, bilden selbst kein zeitabhängiges Verhalten ab. Sie können aber mit einem sogenennaten ConstController kombiniert werden, welche Zeitreihen einlesen und in jedem Zeitschritt einen anderen Wert zur Verfügung stellen kann. Es gibt Funktionen, welche die kombinierten Controller direkt erzeugen können. Die Namen dieser Funktionen sind `coupled_p2g_const_control` und `coupled_g2p_const_control`.\n"
   ]
  },
  {
   "cell_type": "markdown",
   "metadata": {
    "pycharm": {
     "name": "#%% md\n"
    }
   },
   "source": [
    "Das Beispiel des letzten Abschnitts wird jetzt um eine zeitabhängige Simulation erweitert. Der folgende Block richtet die Netze wieder ein. Noch fehlen allerdings die Controller."
   ]
  },
  {
   "cell_type": "code",
   "execution_count": null,
   "metadata": {
    "pycharm": {
     "name": "#%%\n"
    }
   },
   "outputs": [],
   "source": [
    "# prepare just like before\n",
    "net_power = e_nw.example_simple()\n",
    "net_gas = g_nw.gas_meshed_square()\n",
    "net_gas.junction.pn_bar = net_gas.ext_grid.p_bar = 30\n",
    "net_gas.pipe.diameter_m = 0.4\n",
    "net_gas.ext_grid.fluid = 'hydrogen'\n",
    "net_gas.controller.rename(columns={'controller': 'object'}, inplace=True) # due to new version\n",
    "fluid = {'name':'hydrogen', 'cal_value':38.4}\n",
    "ppipes.create_fluid_from_lib(net_gas, fluid['name'], overwrite=True)\n",
    "multinet = create_empty_multinet('tutorial_multinet')\n",
    "add_net_to_multinet(multinet, net_power, 'power_net')\n",
    "add_net_to_multinet(multinet, net_gas, 'gas_net')\n",
    "\n",
    "p2g_id_el = ppower.create_load(net_power, bus=3, p_mw=2, name=\"power to gas consumption\")\n",
    "p2g_id_gas = ppipes.create_source(net_gas, junction=1, mdot_kg_per_s=0, name=\"power to gas feed in\", fluid = 'hydrogen')\n",
    "g2p_id_gas = ppipes.create_sink(net_gas, junction=1, mdot_kg_per_s=0.1, name=\"gas to power consumption\")\n",
    "g2p_id_el = ppower.create_sgen(net_power, bus=5, p_mw=0, name=\"fuel cell feed in\")"
   ]
  },
  {
   "cell_type": "markdown",
   "metadata": {
    "pycharm": {
     "name": "#%% md\n"
    }
   },
   "source": [
    "Der folgende Block erstellt eine Funktion, die Zufallsdaten für die Zeitreihen erzeugt. Insgesamt werden 10 Zeitschritte berechnet, wie am Parameter der Funktion zu erkennen ist. Der mit Zufallszahlen gefüllte pandas DataFrame wird am Ende der Funktion als Attribut eines Objekts der DFData-Klasse gespeichert. Diese wird von pandapower definiert und dient dem einfacheren Zugriff auf die im Frame gespeichertern Daten. Alle Controller können mit dieser Datenstruktur umgehen."
   ]
  },
  {
   "cell_type": "code",
   "execution_count": null,
   "metadata": {
    "pycharm": {
     "name": "#%%\n"
    }
   },
   "outputs": [],
   "source": [
    "from pandas import DataFrame\n",
    "from numpy.random import random\n",
    "from pandapower.timeseries import DFData\n",
    "\n",
    "def create_data_source(n_timesteps=10):\n",
    "    profiles = DataFrame()\n",
    "    profiles['power to gas consumption'] = random(n_timesteps) * 2 + 1\n",
    "    profiles['gas to power consumption'] = random(n_timesteps) * 0.1\n",
    "    ds = DFData(profiles)\n",
    "\n",
    "    return profiles, ds\n",
    "\n",
    "profiles, ds = create_data_source(10)"
   ]
  },
  {
   "cell_type": "markdown",
   "metadata": {
    "pycharm": {
     "name": "#%% md\n"
    }
   },
   "source": [
    "Im Rahmen von zeitabhängigen Simulationen fallen größere Ergebnismengen an. Für jeden Zeitschritt kann der gesamte Zustand des Netzes gespeichert und anschließend ausgewertet werden. Für die Ergebnisse zeitabhängiger Simulationen wird eine weitere Datenstruktur bereitgestellt: Der OutputWriter. Auch bei diesem handelt es sich um eine Klasse.\n",
    "\n",
    "Die folgende Funktion legt für jedes Teilnetz einen eigenen OutputWriter an und speichert diese in einem Python-dictionary. Für jedes Netz wird eine Liste auszugebener Größen, die `log_variables`, erstellt. Es können Spalten verschiedener Ergebnistabellen kombiniert werden. Die erstellten Listen werden anschließend im OutputWriter gespeichert."
   ]
  },
  {
   "cell_type": "code",
   "execution_count": null,
   "metadata": {
    "pycharm": {
     "name": "#%%\n"
    }
   },
   "outputs": [],
   "source": [
    "from os.path import join, dirname\n",
    "from pandapower.timeseries import OutputWriter\n",
    "\n",
    "def create_output_writers(multinet, time_steps=None):\n",
    "    nets = multinet[\"nets\"]\n",
    "    ows = dict()\n",
    "    for key_net in nets.keys():\n",
    "        ows[key_net] = {}\n",
    "        if isinstance(nets[key_net], ppower.pandapowerNet):\n",
    "            log_variables = [('res_bus', 'vm_pu'),\n",
    "                             ('res_line', 'loading_percent'),\n",
    "                             ('res_line', 'i_ka'),\n",
    "                             ('res_bus', 'p_mw'),\n",
    "                             ('res_bus', 'q_mvar'),\n",
    "                             ('res_load', 'p_mw'),\n",
    "                             ('res_load', 'q_mvar')]\n",
    "            ow = OutputWriter(nets[key_net], time_steps=time_steps,\n",
    "                              log_variables=log_variables,\n",
    "                              output_path=join(dirname('__file__'),'timeseries', 'results', 'power'),\n",
    "                              output_file_type=\".csv\")\n",
    "            ows[key_net] = ow\n",
    "        elif isinstance(nets[key_net], ppipes.pandapipesNet):\n",
    "            log_variables = [('res_sink', 'mdot_kg_per_s'),\n",
    "                             ('res_source', 'mdot_kg_per_s'),\n",
    "                             ('res_ext_grid', 'mdot_kg_per_s'),\n",
    "                             ('res_pipe', 'v_mean_m_per_s'),\n",
    "                             ('res_junction', 'p_bar'),\n",
    "                             ('res_junction', 't_k')]\n",
    "            ow = OutputWriter(nets[key_net], time_steps=time_steps,\n",
    "                              log_variables=log_variables,\n",
    "                              output_path=join(dirname('__file__'), 'timeseries', 'results', 'gas'),\n",
    "                              output_file_type=\".csv\")\n",
    "            ows[key_net] = ow\n",
    "        else:\n",
    "            raise AttributeError(\"Could not create an output writer for nets of kind \" + str(key_net))\n",
    "    return ows\n",
    "\n",
    "ows = create_output_writers(multinet, 10)"
   ]
  },
  {
   "cell_type": "markdown",
   "metadata": {
    "pycharm": {
     "name": "#%% md\n"
    }
   },
   "source": [
    "Jetzt werden die bereits erwähnten Controller hinzugefügt.  Es ist zu beachten, dass die data_source, welche die Zeitreihen beschreibt, als Parameter mit übergeben wird. So weiß der jeweilige Controller, woher er die Eingangsdaten des aktuellen Zeitschritts nehmen soll."
   ]
  },
  {
   "cell_type": "code",
   "execution_count": null,
   "metadata": {
    "pycharm": {
     "name": "#%%\n"
    }
   },
   "outputs": [],
   "source": [
    "from pandapipes.multinet.control.controller.multinet_control import coupled_p2g_const_control, \\\n",
    "    coupled_g2p_const_control\n",
    "coupled_p2g_const_control(multinet, p2g_id_el, p2g_id_gas,\n",
    "                          name_power_net=\"power_net\", name_gas_net=\"gas_net\",\n",
    "                          profile_name='power to gas consumption', data_source=ds,\n",
    "                          p2g_efficiency=0.7)\n",
    "coupled_g2p_const_control(multinet, g2p_id_el, g2p_id_gas,\n",
    "                          name_power_net=\"power_net\", name_gas_net=\"gas_net\",\n",
    "                          element_type_power=\"sgen\",\n",
    "                          profile_name='gas to power consumption', data_source=ds,\n",
    "                          g2p_efficiency=0.65)"
   ]
  },
  {
   "cell_type": "markdown",
   "metadata": {
    "pycharm": {
     "name": "#%% md\n"
    }
   },
   "source": [
    "Die ConstControllers werden in den Teilnetzen gespeichert. Die Kopplungscontroller, welche die Verbindung zwischen den Netzen herstellen, befinden sich dagegen im multinet.\n"
   ]
  },
  {
   "cell_type": "code",
   "execution_count": null,
   "metadata": {
    "pycharm": {
     "name": "#%%\n"
    }
   },
   "outputs": [],
   "source": [
    "print(multinet.controller)\n",
    "print(net_power.controller)\n",
    "print(net_gas.controller)\n"
   ]
  },
  {
   "cell_type": "markdown",
   "metadata": {
    "pycharm": {
     "name": "#%% md\n"
    }
   },
   "source": [
    "Die Simulation wird mit dem Befehl `run_timeseries` gestartet. Zu beachten sind die Parameter der `run_timeseries`-Funktion. Sowohl die Zeitschrittweite, als auch die erstellte OutputWriter-Struktur wird der Funktion mit übergeben. Nach der Simulation kann auf die Outputwriter zugegriffen werden, um die gewünschten Größen zu extrahieren. Übriges: Innerhalb der `run_timeseries`-Funktion ruft pandapipes wieder die bereits bekannte `run_control`-Funktion auf. Im Wesentlichen wird nur eine Schleife um letztere Funktion gelegt, um die Berechnung für die angegebene Zahl von Zeitschritten zu wiederholen."
   ]
  },
  {
   "cell_type": "code",
   "execution_count": null,
   "metadata": {
    "pycharm": {
     "name": "#%%\n"
    }
   },
   "outputs": [],
   "source": [
    "from pandapipes.multinet.timeseries.run_time_series_multinet import run_timeseries\n",
    "run_timeseries(multinet, time_steps=range(10), output_writers=ows)"
   ]
  },
  {
   "cell_type": "code",
   "execution_count": null,
   "metadata": {},
   "outputs": [],
   "source": []
  }
 ],
 "metadata": {
  "kernelspec": {
   "display_name": "Python 3 (ipykernel)",
   "language": "python",
   "name": "python3"
  },
  "language_info": {
   "codemirror_mode": {
    "name": "ipython",
    "version": 3
   },
   "file_extension": ".py",
   "mimetype": "text/x-python",
   "name": "python",
   "nbconvert_exporter": "python",
   "pygments_lexer": "ipython3",
   "version": "3.10.8"
  }
 },
 "nbformat": 4,
 "nbformat_minor": 1
}

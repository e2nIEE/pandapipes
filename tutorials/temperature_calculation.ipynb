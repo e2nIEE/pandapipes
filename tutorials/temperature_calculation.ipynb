{
 "cells": [
  {
   "cell_type": "markdown",
   "metadata": {},
   "source": [
    "# Calculation of temperatures in a pandapipes network"
   ]
  },
  {
   "cell_type": "markdown",
   "metadata": {},
   "source": [
    "This tutorial describes how temperatures inside pipes can be calculated. In comparison to the hydraulic property calculation, additional parameters must be specified for the pipes: The heat transfer coefficient (`alpha_w_per_m2k`), which determines how well or poorly the pipe insulates. Likewise the ambient temperature of the pipe (`text_k`) can be changed, which is 293 K by default. To increase the spatial resolution of the pipe, more than one section can be defined using the parameter `sections`.\n",
    "\n",
    "Please note that only incompressible media should be used for the heating network calculation and the [`mode`](https://pandapipes.readthedocs.io/en/latest/pipeflow/calculation_modes.html#temperature-calculations-pipeflow-option-mode-all-or-mode-heat) in the `pipeflow` function has to be set to \"all\" or \"heat\". In case `mode` equals \"heat\", the user must manually specify a solution vector for the hydraulic calculations. It should also be noted that the temperature calculations are currently still sequential. This means that the calculated temperature values do not influence the fluid properties of the medium (density and viscosity). Therefore, the calculations are only valid if the properties are not very temperature-dependent or if there are minor changes in temperature.\n",
    "                                                                                                            \n",
    "In the following, a simple example for the creation and calculation of a network is presented. Here water is used as fluid and the mode \"all\" is selected."
   ]
  },
  {
   "cell_type": "markdown",
   "metadata": {},
   "source": [
    "<img src=\"pics/heat_network_tutorial_example.png\">"
   ]
  },
  {
   "cell_type": "markdown",
   "metadata": {},
   "source": [
    "The next commands import necessary modules. The component module is used to evaluate results of internal nodes at the end of the calculation."
   ]
  },
  {
   "cell_type": "code",
   "execution_count": 1,
   "metadata": {},
   "outputs": [
    {
     "name": "stderr",
     "output_type": "stream",
     "text": [
      "hp.pandapower.plotting.plotly.traces - INFO: Failed to import plotly - interactive plotting will not be available\n"
     ]
    }
   ],
   "source": [
    "import pandapipes\n",
    "from pandapipes.component_models import Pipe"
   ]
  },
  {
   "cell_type": "markdown",
   "metadata": {},
   "source": [
    "Now, a net container, the fluid and the junctions defined in the network are added."
   ]
  },
  {
   "cell_type": "code",
   "execution_count": 2,
   "metadata": {},
   "outputs": [],
   "source": [
    "# create empty network\n",
    "net = pandapipes.create_empty_network(\"net\")\n",
    "\n",
    "# create fluid\n",
    "pandapipes.create_fluid_from_lib(net, \"water\", overwrite=True)\n",
    "\n",
    "# create junctions\n",
    "junction1 = pandapipes.create_junction(net, pn_bar=3, tfluid_k=290, name=\"Junction 1\")\n",
    "junction2 = pandapipes.create_junction(net, pn_bar=3, tfluid_k=290, name=\"Junction 2\")\n",
    "junction3 = pandapipes.create_junction(net, pn_bar=3, tfluid_k=290, name=\"Junction 3\")\n",
    "junction4 = pandapipes.create_junction(net, pn_bar=3, tfluid_k=290, name=\"Junction 4\")"
   ]
  },
  {
   "cell_type": "markdown",
   "metadata": {},
   "source": [
    "The external grid is specified with a `type` parameter \"pt\". This means that a temperature and a pressure are prescribed at the junction connected to the external grid. It would also be possible to set the type parameter to \"t\" or \"p\" only, having the effect that only the temperature or the pressure is fixed at the connected junction."
   ]
  },
  {
   "cell_type": "code",
   "execution_count": 3,
   "metadata": {},
   "outputs": [
    {
     "data": {
      "text/plain": [
       "0"
      ]
     },
     "execution_count": 3,
     "metadata": {},
     "output_type": "execute_result"
    }
   ],
   "source": [
    "# create external grid\n",
    "pandapipes.create_ext_grid(net, junction=junction1, fluid='water', p_bar=6, t_k=363.15, name=\"External Grid\", type=\"pt\")"
   ]
  },
  {
   "cell_type": "markdown",
   "metadata": {},
   "source": [
    "In the next section, sinks and pipes are added. Note that several internal sections are used for the pipes and that a heat transfer coefficient is defined."
   ]
  },
  {
   "cell_type": "code",
   "execution_count": 4,
   "metadata": {},
   "outputs": [
    {
     "data": {
      "text/plain": [
       "2"
      ]
     },
     "execution_count": 4,
     "metadata": {},
     "output_type": "execute_result"
    }
   ],
   "source": [
    "# create sinks\n",
    "pandapipes.create_sink(net, junction=junction3, mdot_kg_per_s=1, name=\"Sink 1\")\n",
    "pandapipes.create_sink(net, junction=junction4, mdot_kg_per_s=2, name=\"Sink 2\")\n",
    "\n",
    "# create pipes\n",
    "pandapipes.create_pipe_from_parameters(net, from_junction=junction1, to_junction=junction2, length_km=0.1,\n",
    "                                       diameter_m=0.075, k_mm=0.025, sections=5, alpha_w_per_m2k=100,\n",
    "                                       text_k=298.15, name=\"Pipe 1\")\n",
    "\n",
    "pandapipes.create_pipe_from_parameters(net, from_junction=junction2, to_junction=junction3, length_km=2,\n",
    "                                       diameter_m=0.05, k_mm=0.025, sections=4, alpha_w_per_m2k=100,\n",
    "                                       text_k=298.15, name=\"Pipe 2\")\n",
    "\n",
    "pandapipes.create_pipe_from_parameters(net, from_junction=junction2, to_junction=junction4, length_km=1,\n",
    "                                       diameter_m=0.1, k_mm=0.025, sections=8, alpha_w_per_m2k=50,\n",
    "                                       text_k=298.15, name=\"Pipe 3\")"
   ]
  },
  {
   "cell_type": "markdown",
   "metadata": {},
   "source": [
    "An additional note on the heat transfer coefficient: The unit of this coefficient is W/(m^2 $*$ K).\n",
    "Internally, this coefficient is multiplied with the pipes outer surface area ($\\pi * d * l$). Now\n",
    "the pipeflow can be run:"
   ]
  },
  {
   "cell_type": "code",
   "execution_count": 5,
   "metadata": {},
   "outputs": [],
   "source": [
    "# run pipeflow\n",
    "pandapipes.pipeflow(net, stop_condition=\"tol\", iter=3, friction_model=\"colebrook\",\n",
    "                    mode=\"all\", transient=False, nonlinear_method=\"automatic\", tol_p=1e-4,\n",
    "                    tol_v=1e-4)"
   ]
  },
  {
   "cell_type": "markdown",
   "metadata": {},
   "source": [
    "The general results for the junctions and pipes can still be accessed as follows:"
   ]
  },
  {
   "cell_type": "code",
   "execution_count": 6,
   "metadata": {},
   "outputs": [
    {
     "data": {
      "text/html": [
       "<div>\n",
       "<style scoped>\n",
       "    .dataframe tbody tr th:only-of-type {\n",
       "        vertical-align: middle;\n",
       "    }\n",
       "\n",
       "    .dataframe tbody tr th {\n",
       "        vertical-align: top;\n",
       "    }\n",
       "\n",
       "    .dataframe thead th {\n",
       "        text-align: right;\n",
       "    }\n",
       "</style>\n",
       "<table border=\"1\" class=\"dataframe\">\n",
       "  <thead>\n",
       "    <tr style=\"text-align: right;\">\n",
       "      <th></th>\n",
       "      <th>v_mean_m_per_s</th>\n",
       "      <th>p_from_bar</th>\n",
       "      <th>p_to_bar</th>\n",
       "      <th>t_from_k</th>\n",
       "      <th>t_to_k</th>\n",
       "      <th>mdot_from_kg_per_s</th>\n",
       "      <th>mdot_to_kg_per_s</th>\n",
       "      <th>vdot_norm_m3_per_s</th>\n",
       "      <th>reynolds</th>\n",
       "      <th>lambda</th>\n",
       "    </tr>\n",
       "  </thead>\n",
       "  <tbody>\n",
       "    <tr>\n",
       "      <th>0</th>\n",
       "      <td>0.689480</td>\n",
       "      <td>6.000000</td>\n",
       "      <td>5.938063</td>\n",
       "      <td>363.150000</td>\n",
       "      <td>352.030387</td>\n",
       "      <td>3.0</td>\n",
       "      <td>-3.0</td>\n",
       "      <td>0.003096</td>\n",
       "      <td>100603.925927</td>\n",
       "      <td>0.019853</td>\n",
       "    </tr>\n",
       "    <tr>\n",
       "      <th>1</th>\n",
       "      <td>0.509936</td>\n",
       "      <td>5.938063</td>\n",
       "      <td>4.586067</td>\n",
       "      <td>352.030387</td>\n",
       "      <td>298.150057</td>\n",
       "      <td>1.0</td>\n",
       "      <td>-1.0</td>\n",
       "      <td>0.001006</td>\n",
       "      <td>23500.176167</td>\n",
       "      <td>0.026029</td>\n",
       "    </tr>\n",
       "    <tr>\n",
       "      <th>2</th>\n",
       "      <td>0.254968</td>\n",
       "      <td>5.938063</td>\n",
       "      <td>5.855406</td>\n",
       "      <td>352.030387</td>\n",
       "      <td>306.337681</td>\n",
       "      <td>2.0</td>\n",
       "      <td>-2.0</td>\n",
       "      <td>0.002025</td>\n",
       "      <td>23500.176167</td>\n",
       "      <td>0.025461</td>\n",
       "    </tr>\n",
       "  </tbody>\n",
       "</table>\n",
       "</div>"
      ],
      "text/plain": [
       "   v_mean_m_per_s  p_from_bar  p_to_bar    t_from_k      t_to_k  \\\n",
       "0        0.689480    6.000000  5.938063  363.150000  352.030387   \n",
       "1        0.509936    5.938063  4.586067  352.030387  298.150057   \n",
       "2        0.254968    5.938063  5.855406  352.030387  306.337681   \n",
       "\n",
       "   mdot_from_kg_per_s  mdot_to_kg_per_s  vdot_norm_m3_per_s       reynolds  \\\n",
       "0                 3.0              -3.0            0.003096  100603.925927   \n",
       "1                 1.0              -1.0            0.001006   23500.176167   \n",
       "2                 2.0              -2.0            0.002025   23500.176167   \n",
       "\n",
       "     lambda  \n",
       "0  0.019853  \n",
       "1  0.026029  \n",
       "2  0.025461  "
      ]
     },
     "execution_count": 6,
     "metadata": {},
     "output_type": "execute_result"
    }
   ],
   "source": [
    "net.res_junction\n",
    "net.res_pipe"
   ]
  },
  {
   "cell_type": "markdown",
   "metadata": {},
   "source": [
    "To get the internal results regarding the division of the pipes into sections, use the following function:"
   ]
  },
  {
   "cell_type": "code",
   "execution_count": 7,
   "metadata": {},
   "outputs": [],
   "source": [
    "pipe_1_results = Pipe.get_internal_results(net, [0])"
   ]
  },
  {
   "cell_type": "markdown",
   "metadata": {},
   "source": [
    "Here the results of Pipe 1 (`[0]`) are accessed. In general these include three matrices with the values of `PINIT`, `VINIT` and `TINIT`. The internal results of the pipe can also be accessed separately, as shown here for Pipe 1:"
   ]
  },
  {
   "cell_type": "code",
   "execution_count": 8,
   "metadata": {},
   "outputs": [
    {
     "data": {
      "text/plain": [
       "array([[0.        , 0.70007241],\n",
       "       [0.        , 0.69379166],\n",
       "       [0.        , 0.68845174],\n",
       "       [0.        , 0.68412229],\n",
       "       [0.        , 0.68096171]])"
      ]
     },
     "execution_count": 8,
     "metadata": {},
     "output_type": "execute_result"
    }
   ],
   "source": [
    "pipe_1_results[\"VINIT_MEAN\"]"
   ]
  },
  {
   "cell_type": "code",
   "execution_count": 9,
   "metadata": {},
   "outputs": [
    {
     "data": {
      "text/plain": [
       "array([[0.        , 5.9882383 ],\n",
       "       [0.        , 5.97627979],\n",
       "       [0.        , 5.96402998],\n",
       "       [0.        , 5.95135627]])"
      ]
     },
     "execution_count": 9,
     "metadata": {},
     "output_type": "execute_result"
    }
   ],
   "source": [
    "pipe_1_results[\"PINIT\"]"
   ]
  },
  {
   "cell_type": "code",
   "execution_count": 10,
   "metadata": {},
   "outputs": [
    {
     "data": {
      "text/plain": [
       "array([[  0.        , 360.76322982],\n",
       "       [  0.        , 358.45871532],\n",
       "       [  0.        , 356.23563522],\n",
       "       [  0.        , 354.09292558]])"
      ]
     },
     "execution_count": 10,
     "metadata": {},
     "output_type": "execute_result"
    }
   ],
   "source": [
    "pipe_1_results[\"TINIT\"]"
   ]
  },
  {
   "cell_type": "markdown",
   "metadata": {},
   "source": [
    "For the pressures `PINIT` and the temperatures `TINIT` of the internal nodes of a pipe are `sections-1` values. For Pipe 1 they are 4, since `sections` is equal to 5 in this case. The internal flow velocities `VINIT` for each individual pipe section are therefore for `sections` pieces. The following figure illustrates this again, where the pipe is divided into `sections` equidistant segments and the orange lines represent the internal nodes:\n",
    "\n",
    "<img src=\"pics/heat_network_tutorial_pipe_sections.png\"> \n",
    "\n"
   ]
  }
 ],
 "metadata": {
  "kernelspec": {
   "display_name": "Python 3 (ipykernel)",
   "language": "python",
   "name": "python3"
  },
  "language_info": {
   "codemirror_mode": {
    "name": "ipython",
    "version": 3
   },
   "file_extension": ".py",
   "mimetype": "text/x-python",
   "name": "python",
   "nbconvert_exporter": "python",
   "pygments_lexer": "ipython3",
   "version": "3.10.8"
  }
 },
 "nbformat": 4,
 "nbformat_minor": 2
}

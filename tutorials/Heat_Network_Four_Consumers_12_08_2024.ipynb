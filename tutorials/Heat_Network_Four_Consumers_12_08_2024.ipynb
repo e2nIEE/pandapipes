{
 "cells": [
  {
   "cell_type": "markdown",
   "id": "375e1513",
   "metadata": {},
   "source": [
    "# Heating network with for heat comsumers (pandapipes Version 0.9.0)"
   ]
  },
  {
   "cell_type": "raw",
   "id": "196b3234",
   "metadata": {},
   "source": [
    "This example shows how to set up and solve a heating network\n"
   ]
  },
  {
   "cell_type": "raw",
   "id": "bed88633",
   "metadata": {},
   "source": [
    "In this example, we will not only calculate the pressure and velocity distribution in the network, but also determine the temperature levels. The pump feeds fluid of a given temperature into the grid. Due to losses, the temperature will fall. The 4 heat consumers remove more heat from the network. On its way back to the pump, the temperature will fall further, but then rise again because of the warmer return flow from the first heat consumpers."
   ]
  },
  {
   "cell_type": "raw",
   "id": "cf7d4edb",
   "metadata": {},
   "source": [
    "The network is based on the topology of a district heating grid, where the fluid returns to the pump after the consumers (heat exchangers) have been supplied."
   ]
  },
  {
   "cell_type": "raw",
   "id": "4d004c1a",
   "metadata": {},
   "source": [
    "To set up this network, at first, the pandapipes package has to be imported. Additionally, a net container is created and, at the same time, water as a fluid is chosen."
   ]
  },
  {
   "cell_type": "code",
   "execution_count": 296,
   "id": "f441de12",
   "metadata": {},
   "outputs": [],
   "source": [
    "import pandapipes as pp\n",
    "\n",
    "# create empty net\n",
    "net = pp.create_empty_network(fluid =\"water\")"
   ]
  },
  {
   "cell_type": "raw",
   "id": "66870dc7",
   "metadata": {},
   "source": [
    "Note that the flow of the example network flows in a closed loop. We start building up the network with the junctions connected to the circulation pump j11 for the flow and j00 for the return flow. Note that the numbers are abitary and can be chosen as you like. "
   ]
  },
  {
   "cell_type": "code",
   "execution_count": 297,
   "id": "5de82e86",
   "metadata": {},
   "outputs": [],
   "source": [
    "j11 = pp.create_junction(net, pn_bar=5, tfluid_k=293.15, name=\"junction 11\")\n",
    "j00 = pp.create_junction(net, pn_bar=5, tfluid_k=293.15, name=\"junction 00\")"
   ]
  },
  {
   "cell_type": "raw",
   "id": "a892382c",
   "metadata": {},
   "source": [
    "Then we add the junction j2, j3, j4 which are the the flow junction for the heat consumpers. Then we add the junction j5, j6, j7, and j0 "
   ]
  },
  {
   "cell_type": "code",
   "execution_count": 298,
   "id": "1552998b",
   "metadata": {},
   "outputs": [],
   "source": [
    "j1 = pp.create_junction(net, pn_bar=5, tfluid_k=293.15, name=\"junction 1\")\n",
    "j2 = pp.create_junction(net, pn_bar=5, tfluid_k=293.15, name=\"junction 2\")\n",
    "j3 = pp.create_junction(net, pn_bar=5, tfluid_k=293.15, name=\"junction 3\")\n",
    "j4 = pp.create_junction(net, pn_bar=5, tfluid_k=293.15, name=\"junction 4\")\n",
    "j5 = pp.create_junction(net, pn_bar=5, tfluid_k=293.15, name=\"junction 5\")\n",
    "j6 = pp.create_junction(net, pn_bar=5, tfluid_k=293.15, name=\"junction 6\")\n",
    "j7 = pp.create_junction(net, pn_bar=5, tfluid_k=293.15, name=\"junction 7\")\n",
    "j0 = pp.create_junction(net, pn_bar=5, tfluid_k=293.15, name=\"junction 0\")"
   ]
  },
  {
   "cell_type": "raw",
   "id": "e8eb3b68",
   "metadata": {},
   "source": [
    "Now, the pump will be created. Note that we use the Circulation Pump Pressure in this example, which is different from the Circulation Pump Mass component used in the \"cicular flow\" example."
   ]
  },
  {
   "cell_type": "code",
   "execution_count": 299,
   "id": "f6104681",
   "metadata": {},
   "outputs": [
    {
     "data": {
      "text/plain": [
       "0"
      ]
     },
     "execution_count": 299,
     "metadata": {},
     "output_type": "execute_result"
    }
   ],
   "source": [
    "pp.create_circ_pump_const_pressure(net, return_junction=j00, flow_junction=j11, p_flow_bar=5, plift_bar=0.7, t_flow_k=273.15+80)"
   ]
  },
  {
   "cell_type": "raw",
   "id": "001b4359",
   "metadata": {},
   "source": [
    "In the next step we add the four heat consumers. In the old version two elements were combined to create a decent heat consumer. Now it exists as one new element. There are diffrent ways to define the heat consumer as long as it is a combination of two defining variables which includes the mass flow, the exiting heat flow, the returning temperature and the temperature difference. This example for instance uses the mass flow and the exiting heat flow for the first two consumers and the returning temperature combined with the exit heat flow for the other two heat consumers."
   ]
  },
  {
   "cell_type": "code",
   "execution_count": 300,
   "id": "11ee0328",
   "metadata": {},
   "outputs": [
    {
     "data": {
      "text/plain": [
       "3"
      ]
     },
     "execution_count": 300,
     "metadata": {},
     "output_type": "execute_result"
    }
   ],
   "source": [
    "# 1. Heat consumer\n",
    "pp.create_heat_consumer(net,from_junction=j1, to_junction=j0, diameter_m=200e-3, controlled_mdot_kg_per_s=5, qext_w =100000)\n",
    "\n",
    "# 2. Heat consumer\n",
    "pp.create_heat_consumer(net,from_junction=j2, to_junction=j7, diameter_m=200e-3, controlled_mdot_kg_per_s=5, qext_w =100000)\n",
    "\n",
    "# 3. Heat consumer \n",
    "pp.create_heat_consumer(net,from_junction=j3, to_junction=j6, diameter_m=200e-3,treturn_k=363.15, qext_w =100000)\n",
    "\n",
    "# 4. Heat consumer \n",
    "pp.create_heat_consumer(net,from_junction=j4, to_junction=j5, diameter_m=200e-3, treturn_k=363.15, qext_w =100000)"
   ]
  },
  {
   "cell_type": "raw",
   "id": "87bbdc31",
   "metadata": {},
   "source": [
    "The missing elements are the pipes. Which will be created next. We start at the pump junction following the flow from consumer to consumer and then back on the return flow to the pump. (see Figure)"
   ]
  },
  {
   "cell_type": "code",
   "execution_count": 301,
   "id": "cd84392e",
   "metadata": {},
   "outputs": [
    {
     "data": {
      "text/plain": [
       "7"
      ]
     },
     "execution_count": 301,
     "metadata": {},
     "output_type": "execute_result"
    }
   ],
   "source": [
    "# from pump \"flow\" to first consumer\n",
    "pp.create_pipe_from_parameters(net, from_junction=j11, to_junction=j1, length_km=1,              \n",
    "                              diameter_m=200e-3, k_mm=.1, alpha_w_per_m2k=5, sections = 5, text_k=283)\n",
    "\n",
    "# from 1. consumer to 2.consumer \"flow\"\n",
    "pp.create_pipe_from_parameters(net, from_junction=j1, to_junction=j2, length_km=1,\n",
    "                              diameter_m=200e-3, k_mm=.1, alpha_w_per_m2k=5, sections = 5, text_k=283)\n",
    "\n",
    "# from 2. consumer to 3.consumer \"flow\"\n",
    "pp.create_pipe_from_parameters(net, from_junction=j2, to_junction=j3, length_km=1,\n",
    "                               diameter_m=200e-3, k_mm=.1, alpha_w_per_m2k=5, sections = 5, text_k=283)\n",
    "\n",
    "# from 3. consumer to 4.consumer \"flow\"\n",
    "pp.create_pipe_from_parameters(net, from_junction=j3, to_junction=j4, length_km=1,\n",
    "                              diameter_m=200e-3, k_mm=.1, alpha_w_per_m2k=5, sections = 5, text_k=283)\n",
    "\n",
    "# from 4. consumer to 3.consumer \"return flow\"\n",
    "pp.create_pipe_from_parameters(net, from_junction=j5, to_junction=j6, length_km=1,\n",
    "                              diameter_m=200e-3, k_mm=.1, alpha_w_per_m2k=5, sections = 5, text_k=283)\n",
    "\n",
    "# from 3. consumer to 2.consumer \"return flow\"\n",
    "pp.create_pipe_from_parameters(net, from_junction=j6, to_junction=j7, length_km=1,\n",
    "                               diameter_m=200e-3, k_mm=.1, alpha_w_per_m2k=5, sections = 5, text_k=283)\n",
    "\n",
    "# from 2.consumer to 1.consumer \"return flow\"\n",
    "pp.create_pipe_from_parameters(net, from_junction=j7, to_junction=j0, length_km=1,\n",
    "                               diameter_m=200e-3, k_mm=.1, alpha_w_per_m2k=5, sections = 5, text_k=283)\n",
    "\n",
    "# from 1.consumer to pump return flow\n",
    "pp.create_pipe_from_parameters(net, from_junction=j0, to_junction=j00, length_km=1,             \n",
    "                              diameter_m=200e-3, k_mm=.1, alpha_w_per_m2k=5, sections = 5, text_k=283)"
   ]
  },
  {
   "cell_type": "raw",
   "id": "eb7724f4",
   "metadata": {},
   "source": [
    "Now it is time to run the pipeflow. Within pipeflow are two different calculation modes \"sequential\" and \"bidirectional\". The sequential mode  corresponds to the “all” mode in earlier versions. In this mode the hydraulic calculation takes place first, automatically followed by the thermal calculation. The new mode calculates both, thermal and hydraulic, for each step almost simultaneously since it's working iteratively between the thermal and hydraulic calculations.\n",
    "Computed mass flows are used as an input for the temperature calculation. "
   ]
  },
  {
   "cell_type": "raw",
   "id": "3255ec46-ad7b-48a1-b6a4-6df7905ff5f0",
   "metadata": {},
   "source": [
    "Starting with the calculation of the pipeflow in sequential mode:"
   ]
  },
  {
   "cell_type": "code",
   "execution_count": 308,
   "id": "d02e3a0f",
   "metadata": {},
   "outputs": [],
   "source": [
    "import time\n",
    "start_seq = time.time() \n",
    "pp.pipeflow(net, mode='sequential')\n",
    "end_seq = time.time()\n",
    "time_seq=end_seq-start_seq"
   ]
  },
  {
   "cell_type": "raw",
   "id": "1b467003",
   "metadata": {},
   "source": [
    "By default, only the pressure and velocity distribution is calculated by the pipeflow function. After the computation, you can check the results for junctions and pipes:"
   ]
  },
  {
   "cell_type": "code",
   "execution_count": null,
   "id": "4045c2b6",
   "metadata": {},
   "outputs": [],
   "source": [
    "net.res_junction "
   ]
  },
  {
   "cell_type": "code",
   "execution_count": null,
   "id": "6eeef3fe",
   "metadata": {},
   "outputs": [],
   "source": [
    "net.res_pipe"
   ]
  },
  {
   "cell_type": "raw",
   "id": "0f34db00-95ac-4be6-9725-99b73c8b1d5b",
   "metadata": {},
   "source": [
    "To compare the results of both calculation modes, the results of sequential mode are saved as:"
   ]
  },
  {
   "cell_type": "code",
   "execution_count": 309,
   "id": "e68f60a7-f20a-477a-8d26-8d8d75ab373e",
   "metadata": {},
   "outputs": [],
   "source": [
    "net.res_junction_seq = net.res_junction.copy()\n",
    "net.res_pipe_seq = net.res_pipe.copy()"
   ]
  },
  {
   "cell_type": "raw",
   "id": "0111c2aa-e25f-4cf9-a11e-81dac67c9607",
   "metadata": {},
   "source": [
    "For the bidirectional mode the default settings exceed the interatig boundries, which means that the system cannot converge. Therefore the maximal interating steps have to be increased manually."
   ]
  },
  {
   "cell_type": "code",
   "execution_count": 310,
   "id": "abe169ae-51e9-4ae4-a9d2-81482713bb37",
   "metadata": {},
   "outputs": [],
   "source": [
    "start_bi = time.time() \n",
    "pp.pipeflow(net, max_iter_bidirect=100, mode='bidirectional')\n",
    "end_bi = time.time()\n",
    "time_bi=end_bi-start_bi"
   ]
  },
  {
   "cell_type": "code",
   "execution_count": null,
   "id": "1417c474-0571-4d01-bf1b-9340635b9b06",
   "metadata": {},
   "outputs": [],
   "source": [
    "net.res_junction "
   ]
  },
  {
   "cell_type": "code",
   "execution_count": null,
   "id": "ede94567-eda8-4e7f-92bb-ab33c6988974",
   "metadata": {},
   "outputs": [],
   "source": [
    "net.res_pipe"
   ]
  },
  {
   "cell_type": "raw",
   "id": "88ea651f-7b71-4c09-a4d5-2e7b55be1d80",
   "metadata": {},
   "source": [
    "The results of bidirectional mode are saved as:"
   ]
  },
  {
   "cell_type": "code",
   "execution_count": 311,
   "id": "d22c787f-145d-4170-b85f-cf425a85c696",
   "metadata": {},
   "outputs": [],
   "source": [
    "net.res_junction_bi = net.res_junction.copy()\n",
    "net.res_pipe_bi = net.res_pipe.copy()"
   ]
  },
  {
   "cell_type": "raw",
   "id": "b30d3eec-b56f-4cc7-bf6d-f775e1f1bfbd",
   "metadata": {},
   "source": [
    "Now it is possible to graphicly compare any of the calculated components: For example, the calculated temperatures in both modes or the mass flow can  be plotted. "
   ]
  },
  {
   "cell_type": "code",
   "execution_count": 312,
   "id": "f3643a15-ba3f-4d6f-bfbc-c722190c4cfb",
   "metadata": {},
   "outputs": [
    {
     "data": {
      "image/png": "[encoded data removed]",
      "text/plain": [
       "<Figure size 640x480 with 1 Axes>"
      ]
     },
     "metadata": {},
     "output_type": "display_data"
    }
   ],
   "source": [
    "import matplotlib.pyplot as plt\n",
    "plt.plot(net.res_pipe_seq.t_from_k, color='blue', marker='o',label='sequential',linestyle='None')\n",
    "plt.plot(net.res_pipe_bi.t_from_k, color = 'orange', marker='x',label='bidirectional',linestyle='None')\n",
    "plt.xlabel('Pipe number')\n",
    "plt.ylabel('Temperature in K')\n",
    "plt.legend()\n",
    "plt.show()"
   ]
  },
  {
   "cell_type": "code",
   "execution_count": null,
   "id": "7562fb7f-7e79-44fc-b3c8-74ec95254c11",
   "metadata": {},
   "outputs": [],
   "source": [
    "plt.plot(net.res_pipe_seq.mdot_from_kg_per_s,color='blue', marker='o',label='sequential',linestyle='None')\n",
    "plt.plot(net.res_pipe_bi.mdot_from_kg_per_s, color = 'orange', marker='x',label='bidirectional',linestyle='None')\n",
    "plt.xlabel('Pipe number')\n",
    "plt.ylabel('Mass flow in kg/s')\n",
    "plt.legend()\n",
    "plt.show()"
   ]
  },
  {
   "cell_type": "raw",
   "id": "154ee211-c2c4-48ed-b195-10ae4113e539",
   "metadata": {},
   "source": [
    "To estimate the real differences, the absolute and percentage differences are calculated and displayed in a table. The respective runtimes for the calculation modes can also be found here."
   ]
  },
  {
   "cell_type": "code",
   "execution_count": 313,
   "id": "1dbe89b8-d571-44d8-b60d-7035f16c339f",
   "metadata": {},
   "outputs": [
    {
     "name": "stdout",
     "output_type": "stream",
     "text": [
      "   Diff_t_from  Diff_t_from_in_percent  Diff_mass  Diff_mass_in_percent  \\\n",
      "0     0.000000                0.000000   0.017405              0.186807   \n",
      "1     0.009707                0.002791   0.017405              0.403168   \n",
      "2     0.217888                0.065632   0.017405              2.548372   \n",
      "3     2.234560                0.682596   0.038830             11.370867   \n",
      "4     0.432291                0.151910   0.038830             11.370867   \n",
      "5     0.350282                0.117685   0.017405              2.548372   \n",
      "6     0.217977                0.066618   0.017405              0.403168   \n",
      "7     0.079587                0.023944   0.017405              0.186807   \n",
      "\n",
      "   time_seq   time_bi  \n",
      "0  0.013051  0.024827  \n",
      "1  0.013051  0.024827  \n",
      "2  0.013051  0.024827  \n",
      "3  0.013051  0.024827  \n",
      "4  0.013051  0.024827  \n",
      "5  0.013051  0.024827  \n",
      "6  0.013051  0.024827  \n",
      "7  0.013051  0.024827  \n"
     ]
    }
   ],
   "source": [
    "# Temperatur output\n",
    "import pandas as pd\n",
    "Diff_t_from=abs(net.res_pipe_seq.t_from_k-net.res_pipe_bi.t_from_k)\n",
    "Diff_t_from_percent=abs(net.res_pipe_seq.t_from_k-net.res_pipe_bi.t_from_k)/net.res_pipe_seq.t_from_k*100\n",
    "# Massflow\n",
    "Diff_mass=abs(net.res_pipe_seq.mdot_from_kg_per_s-net.res_pipe_bi.mdot_from_kg_per_s)\n",
    "Diff_mass_percent=abs(net.res_pipe_seq.mdot_from_kg_per_s-net.res_pipe_bi.mdot_from_kg_per_s)/abs(net.res_pipe_seq.mdot_from_kg_per_s)*100\n",
    "\n",
    "diff_tab =pd.DataFrame({'Diff_t_from':Diff_t_from,\n",
    "                        'Diff_t_from_in_percent':Diff_t_from_percent,\n",
    "                        'Diff_mass':Diff_mass,\n",
    "                        'Diff_mass_in_percent':Diff_mass_percent,\n",
    "                        'time_seq':time_seq,\n",
    "                        'time_bi':time_bi})\n",
    "print(diff_tab)"
   ]
  },
  {
   "cell_type": "raw",
   "id": "3cd5261d-c328-4eb1-9c51-c0b04716bcb4",
   "metadata": {},
   "source": [
    "This shows that with different calculation modes, slight deviations in temperature and some in the mass flow occur using the diffrent calculation modes."
   ]
  },
  {
   "cell_type": "raw",
   "id": "2dd64725-d547-4668-b8c5-a70485a14b27",
   "metadata": {},
   "source": [
    "Questions:\n",
    "- How do I know which one is better? Can I compare it to reallife measurments or how do I validate and evaluate the results?\n",
    "- The measured time varies sometimes if the hole tutorial is repeated. Is that normal or does it affect the significance of the time so that it isn't a good criteria?\n",
    "- Is it smart to compare the output temperature or a temperature in general? "
   ]
  },
  {
   "cell_type": "code",
   "execution_count": null,
   "id": "bb4a3f9f-f6ca-4b2e-b4f5-6c5a75681054",
   "metadata": {},
   "outputs": [],
   "source": [
    "net._internal_results"
   ]
  }
 ],
 "metadata": {
  "kernelspec": {
   "display_name": "Python 3 (ipykernel)",
   "language": "python",
   "name": "python3"
  },
  "language_info": {
   "codemirror_mode": {
    "name": "ipython",
    "version": 3
   },
   "file_extension": ".py",
   "mimetype": "text/x-python",
   "name": "python",
   "nbconvert_exporter": "python",
   "pygments_lexer": "ipython3",
   "version": "3.10.14"
  }
 },
 "nbformat": 4,
 "nbformat_minor": 5
}

{
 "cells": [
  {
   "cell_type": "markdown",
   "metadata": {},
   "source": [
    "# Creating pandapipes Networks"
   ]
  },
  {
   "cell_type": "markdown",
   "metadata": {},
   "source": [
    "This tutorial will introduce the user into the pandapipes datastructure and how to create networks through the pandapipes API. The following minimal example contains the most common elements that are supported by the pandapipes format. \n",
    "\n",
    "<img src=\"pics/simple_network-1.png\">\n",
    "\n",
    "The datastructure of the pandapipes framework is based on the Python library pandas. A pandapipes network consist of separate tables for each component type that is used in the network and each table holds the elements of its component type. Each row is indexed and represents a single element. The parameters are organized in columns.\n",
    "\n",
    "By executing the follwing code cells you generate the different component tables. You can find detailed descriptions about each parameter in the pandapipes documentation under bulletpoint \"Datastructure and Components\"."
   ]
  },
  {
   "cell_type": "markdown",
   "metadata": {},
   "source": [
    "### Empty Network"
   ]
  },
  {
   "cell_type": "markdown",
   "metadata": {},
   "source": [
    "First, we import pandapipes and create an empty network:\n",
    "We have to state the name of the fluid for the network. In pandapipes, some fluids are already\n",
    "pre-defined, e.g. <span style=\"color:green\">hgas</span>, <span style=\"color:green\">lgas</span>\n",
    "(high and low calorific natural gas),  <span style=\"color:green\">hydrogen</span>,\n",
    "<span style=\"color:green\">water</span>, <span style=\"color:green\">biomethane_pure</span>, <span style=\"color:green\">biomethane_treated</span> (see [here](https://pandapipes.readthedocs.io/en/latest/fluid_properties/fluids.html) for the composition) and <span style=\"color:green\">air</span>. It is\n",
    "also possible to create a fluid if needed (tutorial in preparation).\n",
    "\n",
    "In this example, we will create a medium pressure gas network and choose <span style=\"color:green\">lgas</span> from the predefined fluids in pandapipes."
   ]
  },
  {
   "cell_type": "code",
   "execution_count": 1,
   "metadata": {
    "scrolled": true
   },
   "outputs": [
    {
     "name": "stderr",
     "output_type": "stream",
     "text": [
      "hp.pandapower.plotting.plotly.traces - INFO: Failed to import plotly - interactive plotting will not be available\n"
     ]
    }
   ],
   "source": [
    "import pandapipes as pp"
   ]
  },
  {
   "cell_type": "code",
   "execution_count": 2,
   "metadata": {},
   "outputs": [],
   "source": [
    "net = pp.create_empty_network() # create an empty network"
   ]
  },
  {
   "cell_type": "markdown",
   "metadata": {},
   "source": [
    "This network does not hold any elements yet. It serves as a container for the component tables and network specific parameters."
   ]
  },
  {
   "cell_type": "code",
   "execution_count": 3,
   "metadata": {},
   "outputs": [
    {
     "data": {
      "text/plain": [
       "This pandapipes network includes the following parameter tables:.\n",
       "It does not contain any defined fluid\n",
       "and uses the following component models:\n",
       "   - Junction\n",
       "   - Pipe\n",
       "   - ExtGrid"
      ]
     },
     "execution_count": 3,
     "metadata": {},
     "output_type": "execute_result"
    }
   ],
   "source": [
    "net"
   ]
  },
  {
   "cell_type": "markdown",
   "metadata": {},
   "source": [
    "We will now use the <span style=\"color:blue\">create</span> functions to create elements. They will be automatically added to the respective tables. "
   ]
  },
  {
   "cell_type": "markdown",
   "metadata": {},
   "source": [
    "### Junctions"
   ]
  },
  {
   "cell_type": "markdown",
   "metadata": {},
   "source": [
    "<img src=\"pics/simple_network-junc.png\">\n",
    "\n",
    "We now create 6 junctions with an intital pressure for the pipeflow calculation of 1.0 bar. For improved readability, we add names (optional)."
   ]
  },
  {
   "cell_type": "code",
   "execution_count": 4,
   "metadata": {},
   "outputs": [],
   "source": [
    "junction1 = pp.create_junction(net, pn_bar=1.0, tfluid_k=293.15, name=\"Connection to External Grid\")\n",
    "junction2 = pp.create_junction(net, pn_bar=1.0, tfluid_k=293.15, name=\"Junction 2\")\n",
    "junction3 = pp.create_junction(net, pn_bar=1.0, tfluid_k=293.15, name=\"Junction 3\")\n",
    "junction4 = pp.create_junction(net, pn_bar=1.0, tfluid_k=293.15, name=\"Junction 4\")\n",
    "junction5 = pp.create_junction(net, pn_bar=1.0, tfluid_k=293.15, name=\"Junction 5\")\n",
    "junction6 = pp.create_junction(net, pn_bar=1.0, tfluid_k=293.15, name=\"Junction 6\")"
   ]
  },
  {
   "cell_type": "markdown",
   "metadata": {},
   "source": [
    "The junctions are now in the net and can be called. Some parameters were filled with default values."
   ]
  },
  {
   "cell_type": "code",
   "execution_count": 5,
   "metadata": {},
   "outputs": [
    {
     "data": {
      "text/html": [
       "<div>\n",
       "<style scoped>\n",
       "    .dataframe tbody tr th:only-of-type {\n",
       "        vertical-align: middle;\n",
       "    }\n",
       "\n",
       "    .dataframe tbody tr th {\n",
       "        vertical-align: top;\n",
       "    }\n",
       "\n",
       "    .dataframe thead th {\n",
       "        text-align: right;\n",
       "    }\n",
       "</style>\n",
       "<table border=\"1\" class=\"dataframe\">\n",
       "  <thead>\n",
       "    <tr style=\"text-align: right;\">\n",
       "      <th></th>\n",
       "      <th>name</th>\n",
       "      <th>pn_bar</th>\n",
       "      <th>tfluid_k</th>\n",
       "      <th>height_m</th>\n",
       "      <th>in_service</th>\n",
       "      <th>type</th>\n",
       "    </tr>\n",
       "  </thead>\n",
       "  <tbody>\n",
       "    <tr>\n",
       "      <th>0</th>\n",
       "      <td>Connection to External Grid</td>\n",
       "      <td>1.0</td>\n",
       "      <td>293.15</td>\n",
       "      <td>0.0</td>\n",
       "      <td>True</td>\n",
       "      <td>junction</td>\n",
       "    </tr>\n",
       "    <tr>\n",
       "      <th>1</th>\n",
       "      <td>Junction 2</td>\n",
       "      <td>1.0</td>\n",
       "      <td>293.15</td>\n",
       "      <td>0.0</td>\n",
       "      <td>True</td>\n",
       "      <td>junction</td>\n",
       "    </tr>\n",
       "    <tr>\n",
       "      <th>2</th>\n",
       "      <td>Junction 3</td>\n",
       "      <td>1.0</td>\n",
       "      <td>293.15</td>\n",
       "      <td>0.0</td>\n",
       "      <td>True</td>\n",
       "      <td>junction</td>\n",
       "    </tr>\n",
       "    <tr>\n",
       "      <th>3</th>\n",
       "      <td>Junction 4</td>\n",
       "      <td>1.0</td>\n",
       "      <td>293.15</td>\n",
       "      <td>0.0</td>\n",
       "      <td>True</td>\n",
       "      <td>junction</td>\n",
       "    </tr>\n",
       "    <tr>\n",
       "      <th>4</th>\n",
       "      <td>Junction 5</td>\n",
       "      <td>1.0</td>\n",
       "      <td>293.15</td>\n",
       "      <td>0.0</td>\n",
       "      <td>True</td>\n",
       "      <td>junction</td>\n",
       "    </tr>\n",
       "    <tr>\n",
       "      <th>5</th>\n",
       "      <td>Junction 6</td>\n",
       "      <td>1.0</td>\n",
       "      <td>293.15</td>\n",
       "      <td>0.0</td>\n",
       "      <td>True</td>\n",
       "      <td>junction</td>\n",
       "    </tr>\n",
       "  </tbody>\n",
       "</table>\n",
       "</div>"
      ],
      "text/plain": [
       "                          name  pn_bar  tfluid_k  height_m  in_service  \\\n",
       "0  Connection to External Grid     1.0    293.15       0.0        True   \n",
       "1                   Junction 2     1.0    293.15       0.0        True   \n",
       "2                   Junction 3     1.0    293.15       0.0        True   \n",
       "3                   Junction 4     1.0    293.15       0.0        True   \n",
       "4                   Junction 5     1.0    293.15       0.0        True   \n",
       "5                   Junction 6     1.0    293.15       0.0        True   \n",
       "\n",
       "       type  \n",
       "0  junction  \n",
       "1  junction  \n",
       "2  junction  \n",
       "3  junction  \n",
       "4  junction  \n",
       "5  junction  "
      ]
     },
     "execution_count": 5,
     "metadata": {},
     "output_type": "execute_result"
    }
   ],
   "source": [
    "net.junction # show junction table"
   ]
  },
  {
   "cell_type": "markdown",
   "metadata": {},
   "source": [
    "All create functions return the pandapipes index of the element that was created, for example the variable junction1 is now equal to the index of the junction with the name \"Connection to External Grid\" (which is 0):\n"
   ]
  },
  {
   "cell_type": "code",
   "execution_count": 6,
   "metadata": {},
   "outputs": [
    {
     "data": {
      "text/plain": [
       "0"
      ]
     },
     "execution_count": 6,
     "metadata": {},
     "output_type": "execute_result"
    }
   ],
   "source": [
    "junction1"
   ]
  },
  {
   "cell_type": "code",
   "execution_count": 7,
   "metadata": {},
   "outputs": [
    {
     "data": {
      "text/plain": [
       "name          Connection to External Grid\n",
       "pn_bar                                1.0\n",
       "tfluid_k                           293.15\n",
       "height_m                              0.0\n",
       "in_service                           True\n",
       "type                             junction\n",
       "Name: 0, dtype: object"
      ]
     },
     "execution_count": 7,
     "metadata": {},
     "output_type": "execute_result"
    }
   ],
   "source": [
    "net.junction.loc[junction1]"
   ]
  },
  {
   "cell_type": "markdown",
   "metadata": {},
   "source": [
    "We use these variables for creating bus and branch elements in the following."
   ]
  },
  {
   "cell_type": "markdown",
   "metadata": {},
   "source": [
    "### External Grid"
   ]
  },
  {
   "cell_type": "markdown",
   "metadata": {},
   "source": [
    "<img src=\"pics/simple_network-ext_grid.png\">\n",
    "\n",
    "We now create a medium pressure external grid connection that serves as slack node for the pipe flow calculation. The pressure is set to 1.1 bar:"
   ]
  },
  {
   "cell_type": "code",
   "execution_count": 8,
   "metadata": {},
   "outputs": [
    {
     "data": {
      "text/html": [
       "<div>\n",
       "<style scoped>\n",
       "    .dataframe tbody tr th:only-of-type {\n",
       "        vertical-align: middle;\n",
       "    }\n",
       "\n",
       "    .dataframe tbody tr th {\n",
       "        vertical-align: top;\n",
       "    }\n",
       "\n",
       "    .dataframe thead th {\n",
       "        text-align: right;\n",
       "    }\n",
       "</style>\n",
       "<table border=\"1\" class=\"dataframe\">\n",
       "  <thead>\n",
       "    <tr style=\"text-align: right;\">\n",
       "      <th></th>\n",
       "      <th>name</th>\n",
       "      <th>junction</th>\n",
       "      <th>p_bar</th>\n",
       "      <th>t_k</th>\n",
       "      <th>fluid</th>\n",
       "      <th>in_service</th>\n",
       "      <th>type</th>\n",
       "    </tr>\n",
       "  </thead>\n",
       "  <tbody>\n",
       "    <tr>\n",
       "      <th>0</th>\n",
       "      <td>Grid Connection</td>\n",
       "      <td>0</td>\n",
       "      <td>1.1</td>\n",
       "      <td>293.15</td>\n",
       "      <td>lgas</td>\n",
       "      <td>True</td>\n",
       "      <td>pt</td>\n",
       "    </tr>\n",
       "  </tbody>\n",
       "</table>\n",
       "</div>"
      ],
      "text/plain": [
       "              name  junction  p_bar     t_k fluid  in_service type\n",
       "0  Grid Connection         0    1.1  293.15  lgas        True   pt"
      ]
     },
     "execution_count": 8,
     "metadata": {},
     "output_type": "execute_result"
    }
   ],
   "source": [
    "medium_pressure_grid = pp.create_ext_grid(net, junction=junction1, p_bar=1.1, t_k=293.15, fluid=\"lgas\", name=\"Grid Connection\")\n",
    "\n",
    "net.ext_grid # show external grid table"
   ]
  },
  {
   "cell_type": "markdown",
   "metadata": {},
   "source": [
    "### Pipes"
   ]
  },
  {
   "cell_type": "markdown",
   "metadata": {},
   "source": [
    "The network includes 5 pipes between two junctions each. The junctions and pipes lengths are defined in the network diagram:\n",
    "\n",
    "<img src=\"pics/simple_network-pipes.png\">\n",
    "\n",
    "For all pipes we want a diameter of 300 mm. "
   ]
  },
  {
   "cell_type": "code",
   "execution_count": 9,
   "metadata": {},
   "outputs": [],
   "source": [
    "pipe1 = pp.create_pipe_from_parameters(net, from_junction=junction1, to_junction=junction2, length_km=10, diameter_m=0.3, name=\"Pipe 1\")\n",
    "pipe2 = pp.create_pipe_from_parameters(net, from_junction=junction2, to_junction=junction3, length_km=2, diameter_m=0.3, name=\"Pipe 2\")\n",
    "pipe3 = pp.create_pipe_from_parameters(net, from_junction=junction2, to_junction=junction4, length_km=2.5, diameter_m=0.3, name=\"Pipe 3\")\n",
    "pipe4 = pp.create_pipe_from_parameters(net, from_junction=junction3, to_junction=junction5, length_km=1, diameter_m=0.3, name=\"Pipe 4\")\n",
    "pipe5 = pp.create_pipe_from_parameters(net, from_junction=junction4, to_junction=junction6, length_km=1, diameter_m=0.3, name=\"Pipe 5\")"
   ]
  },
  {
   "cell_type": "markdown",
   "metadata": {},
   "source": [
    "The full pipe table looks like this:"
   ]
  },
  {
   "cell_type": "code",
   "execution_count": 10,
   "metadata": {},
   "outputs": [
    {
     "data": {
      "text/html": [
       "<div>\n",
       "<style scoped>\n",
       "    .dataframe tbody tr th:only-of-type {\n",
       "        vertical-align: middle;\n",
       "    }\n",
       "\n",
       "    .dataframe tbody tr th {\n",
       "        vertical-align: top;\n",
       "    }\n",
       "\n",
       "    .dataframe thead th {\n",
       "        text-align: right;\n",
       "    }\n",
       "</style>\n",
       "<table border=\"1\" class=\"dataframe\">\n",
       "  <thead>\n",
       "    <tr style=\"text-align: right;\">\n",
       "      <th></th>\n",
       "      <th>name</th>\n",
       "      <th>from_junction</th>\n",
       "      <th>to_junction</th>\n",
       "      <th>std_type</th>\n",
       "      <th>length_km</th>\n",
       "      <th>diameter_m</th>\n",
       "      <th>k_mm</th>\n",
       "      <th>loss_coefficient</th>\n",
       "      <th>alpha_w_per_m2k</th>\n",
       "      <th>text_k</th>\n",
       "      <th>qext_w</th>\n",
       "      <th>sections</th>\n",
       "      <th>in_service</th>\n",
       "      <th>type</th>\n",
       "    </tr>\n",
       "  </thead>\n",
       "  <tbody>\n",
       "    <tr>\n",
       "      <th>0</th>\n",
       "      <td>Pipe 1</td>\n",
       "      <td>0</td>\n",
       "      <td>1</td>\n",
       "      <td>None</td>\n",
       "      <td>10.0</td>\n",
       "      <td>0.3</td>\n",
       "      <td>0.2</td>\n",
       "      <td>0.0</td>\n",
       "      <td>0.0</td>\n",
       "      <td>293.0</td>\n",
       "      <td>0.0</td>\n",
       "      <td>1</td>\n",
       "      <td>True</td>\n",
       "      <td>pipe</td>\n",
       "    </tr>\n",
       "    <tr>\n",
       "      <th>1</th>\n",
       "      <td>Pipe 2</td>\n",
       "      <td>1</td>\n",
       "      <td>2</td>\n",
       "      <td>None</td>\n",
       "      <td>2.0</td>\n",
       "      <td>0.3</td>\n",
       "      <td>0.2</td>\n",
       "      <td>0.0</td>\n",
       "      <td>0.0</td>\n",
       "      <td>293.0</td>\n",
       "      <td>0.0</td>\n",
       "      <td>1</td>\n",
       "      <td>True</td>\n",
       "      <td>pipe</td>\n",
       "    </tr>\n",
       "    <tr>\n",
       "      <th>2</th>\n",
       "      <td>Pipe 3</td>\n",
       "      <td>1</td>\n",
       "      <td>3</td>\n",
       "      <td>None</td>\n",
       "      <td>2.5</td>\n",
       "      <td>0.3</td>\n",
       "      <td>0.2</td>\n",
       "      <td>0.0</td>\n",
       "      <td>0.0</td>\n",
       "      <td>293.0</td>\n",
       "      <td>0.0</td>\n",
       "      <td>1</td>\n",
       "      <td>True</td>\n",
       "      <td>pipe</td>\n",
       "    </tr>\n",
       "    <tr>\n",
       "      <th>3</th>\n",
       "      <td>Pipe 4</td>\n",
       "      <td>2</td>\n",
       "      <td>4</td>\n",
       "      <td>None</td>\n",
       "      <td>1.0</td>\n",
       "      <td>0.3</td>\n",
       "      <td>0.2</td>\n",
       "      <td>0.0</td>\n",
       "      <td>0.0</td>\n",
       "      <td>293.0</td>\n",
       "      <td>0.0</td>\n",
       "      <td>1</td>\n",
       "      <td>True</td>\n",
       "      <td>pipe</td>\n",
       "    </tr>\n",
       "    <tr>\n",
       "      <th>4</th>\n",
       "      <td>Pipe 5</td>\n",
       "      <td>3</td>\n",
       "      <td>5</td>\n",
       "      <td>None</td>\n",
       "      <td>1.0</td>\n",
       "      <td>0.3</td>\n",
       "      <td>0.2</td>\n",
       "      <td>0.0</td>\n",
       "      <td>0.0</td>\n",
       "      <td>293.0</td>\n",
       "      <td>0.0</td>\n",
       "      <td>1</td>\n",
       "      <td>True</td>\n",
       "      <td>pipe</td>\n",
       "    </tr>\n",
       "  </tbody>\n",
       "</table>\n",
       "</div>"
      ],
      "text/plain": [
       "     name  from_junction  to_junction std_type  length_km  diameter_m  k_mm  \\\n",
       "0  Pipe 1              0            1     None       10.0         0.3   0.2   \n",
       "1  Pipe 2              1            2     None        2.0         0.3   0.2   \n",
       "2  Pipe 3              1            3     None        2.5         0.3   0.2   \n",
       "3  Pipe 4              2            4     None        1.0         0.3   0.2   \n",
       "4  Pipe 5              3            5     None        1.0         0.3   0.2   \n",
       "\n",
       "   loss_coefficient  alpha_w_per_m2k  text_k  qext_w  sections  in_service  \\\n",
       "0               0.0              0.0   293.0     0.0         1        True   \n",
       "1               0.0              0.0   293.0     0.0         1        True   \n",
       "2               0.0              0.0   293.0     0.0         1        True   \n",
       "3               0.0              0.0   293.0     0.0         1        True   \n",
       "4               0.0              0.0   293.0     0.0         1        True   \n",
       "\n",
       "   type  \n",
       "0  pipe  \n",
       "1  pipe  \n",
       "2  pipe  \n",
       "3  pipe  \n",
       "4  pipe  "
      ]
     },
     "execution_count": 10,
     "metadata": {},
     "output_type": "execute_result"
    }
   ],
   "source": [
    "net.pipe # show pipe table"
   ]
  },
  {
   "cell_type": "markdown",
   "metadata": {},
   "source": [
    "The parameters from_junction and to_junction define the orientation of the pipe. If the fluid streams in fact from the from_junction to to_junction, the resulting fluid velocity is positive. If the fluid stream direction is opposite, the resulting velocity is negative."
   ]
  },
  {
   "cell_type": "markdown",
   "metadata": {},
   "source": [
    "### Valve"
   ]
  },
  {
   "cell_type": "markdown",
   "metadata": {},
   "source": [
    "There is one valve between Junction 5 and Juncion 6. It is open so that the gas can circulate.\n",
    "\n",
    "<img src=\"pics/simple_network-valve.png\">"
   ]
  },
  {
   "cell_type": "code",
   "execution_count": 11,
   "metadata": {},
   "outputs": [],
   "source": [
    "valve = pp.create_valve(net, from_junction=junction5, to_junction=junction6, diameter_m=0.3, opened=True)"
   ]
  },
  {
   "cell_type": "markdown",
   "metadata": {},
   "source": [
    "As we see in the valve table below the default value for the loss_coefficient of the valve is zero. Also, all valves have a length of 0 meter, because we consider ideal valves. However, if needed you can change the loss_coefficient parameter. "
   ]
  },
  {
   "cell_type": "code",
   "execution_count": 12,
   "metadata": {},
   "outputs": [
    {
     "data": {
      "text/html": [
       "<div>\n",
       "<style scoped>\n",
       "    .dataframe tbody tr th:only-of-type {\n",
       "        vertical-align: middle;\n",
       "    }\n",
       "\n",
       "    .dataframe tbody tr th {\n",
       "        vertical-align: top;\n",
       "    }\n",
       "\n",
       "    .dataframe thead th {\n",
       "        text-align: right;\n",
       "    }\n",
       "</style>\n",
       "<table border=\"1\" class=\"dataframe\">\n",
       "  <thead>\n",
       "    <tr style=\"text-align: right;\">\n",
       "      <th></th>\n",
       "      <th>name</th>\n",
       "      <th>from_junction</th>\n",
       "      <th>to_junction</th>\n",
       "      <th>diameter_m</th>\n",
       "      <th>opened</th>\n",
       "      <th>loss_coefficient</th>\n",
       "      <th>type</th>\n",
       "    </tr>\n",
       "  </thead>\n",
       "  <tbody>\n",
       "    <tr>\n",
       "      <th>0</th>\n",
       "      <td>None</td>\n",
       "      <td>4</td>\n",
       "      <td>5</td>\n",
       "      <td>0.3</td>\n",
       "      <td>True</td>\n",
       "      <td>0.0</td>\n",
       "      <td>valve</td>\n",
       "    </tr>\n",
       "  </tbody>\n",
       "</table>\n",
       "</div>"
      ],
      "text/plain": [
       "   name  from_junction  to_junction  diameter_m  opened  loss_coefficient  \\\n",
       "0  None              4            5         0.3    True               0.0   \n",
       "\n",
       "    type  \n",
       "0  valve  "
      ]
     },
     "execution_count": 12,
     "metadata": {},
     "output_type": "execute_result"
    }
   ],
   "source": [
    "net.valve # show valve table"
   ]
  },
  {
   "cell_type": "markdown",
   "metadata": {},
   "source": [
    "### Sink\n",
    "\n",
    "<img src=\"pics/simple_network-sink.png\">"
   ]
  },
  {
   "cell_type": "markdown",
   "metadata": {},
   "source": [
    "The sink element is used to model by default a constant consumption. We create here a gas consumption sink with a mass flow of 545 gramm per second. Sinks and sources always have to be assigned to a particular junction. The sign of the mass flow is positive."
   ]
  },
  {
   "cell_type": "code",
   "execution_count": 13,
   "metadata": {},
   "outputs": [
    {
     "data": {
      "text/html": [
       "<div>\n",
       "<style scoped>\n",
       "    .dataframe tbody tr th:only-of-type {\n",
       "        vertical-align: middle;\n",
       "    }\n",
       "\n",
       "    .dataframe tbody tr th {\n",
       "        vertical-align: top;\n",
       "    }\n",
       "\n",
       "    .dataframe thead th {\n",
       "        text-align: right;\n",
       "    }\n",
       "</style>\n",
       "<table border=\"1\" class=\"dataframe\">\n",
       "  <thead>\n",
       "    <tr style=\"text-align: right;\">\n",
       "      <th></th>\n",
       "      <th>name</th>\n",
       "      <th>junction</th>\n",
       "      <th>mdot_kg_per_s</th>\n",
       "      <th>scaling</th>\n",
       "      <th>in_service</th>\n",
       "      <th>type</th>\n",
       "    </tr>\n",
       "  </thead>\n",
       "  <tbody>\n",
       "    <tr>\n",
       "      <th>0</th>\n",
       "      <td>Sink 1</td>\n",
       "      <td>3</td>\n",
       "      <td>0.545</td>\n",
       "      <td>1.0</td>\n",
       "      <td>True</td>\n",
       "      <td>sink</td>\n",
       "    </tr>\n",
       "  </tbody>\n",
       "</table>\n",
       "</div>"
      ],
      "text/plain": [
       "     name  junction  mdot_kg_per_s  scaling  in_service  type\n",
       "0  Sink 1         3          0.545      1.0        True  sink"
      ]
     },
     "execution_count": 13,
     "metadata": {},
     "output_type": "execute_result"
    }
   ],
   "source": [
    "sink = pp.create_sink(net, junction=junction4, mdot_kg_per_s=0.545, name=\"Sink 1\")\n",
    "net.sink"
   ]
  },
  {
   "cell_type": "markdown",
   "metadata": {},
   "source": [
    "### Source\n",
    "\n",
    "<img src=\"pics/simple_network-source.png\">"
   ]
  },
  {
   "cell_type": "markdown",
   "metadata": {},
   "source": [
    "The source element is used to model a generation of heat or gas. It could be for example a biogas plant that is directly connected to the gas network or a combined heat and power plant.\n",
    "In this example, we assume that a biogas plant is directly feeding into the gas grid with a constant value of 234 gramm per second. The sign of the mass flow is also positive."
   ]
  },
  {
   "cell_type": "code",
   "execution_count": 14,
   "metadata": {},
   "outputs": [],
   "source": [
    "source = pp.create_source(net, junction=junction3, mdot_kg_per_s=0.234, name=\"Source 1\", fluid='lgas')"
   ]
  },
  {
   "cell_type": "code",
   "execution_count": 15,
   "metadata": {},
   "outputs": [
    {
     "data": {
      "text/html": [
       "<div>\n",
       "<style scoped>\n",
       "    .dataframe tbody tr th:only-of-type {\n",
       "        vertical-align: middle;\n",
       "    }\n",
       "\n",
       "    .dataframe tbody tr th {\n",
       "        vertical-align: top;\n",
       "    }\n",
       "\n",
       "    .dataframe thead th {\n",
       "        text-align: right;\n",
       "    }\n",
       "</style>\n",
       "<table border=\"1\" class=\"dataframe\">\n",
       "  <thead>\n",
       "    <tr style=\"text-align: right;\">\n",
       "      <th></th>\n",
       "      <th>name</th>\n",
       "      <th>junction</th>\n",
       "      <th>mdot_kg_per_s</th>\n",
       "      <th>fluid</th>\n",
       "      <th>scaling</th>\n",
       "      <th>in_service</th>\n",
       "      <th>type</th>\n",
       "    </tr>\n",
       "  </thead>\n",
       "  <tbody>\n",
       "    <tr>\n",
       "      <th>0</th>\n",
       "      <td>Source 1</td>\n",
       "      <td>2</td>\n",
       "      <td>0.234</td>\n",
       "      <td>lgas</td>\n",
       "      <td>1.0</td>\n",
       "      <td>True</td>\n",
       "      <td>source</td>\n",
       "    </tr>\n",
       "  </tbody>\n",
       "</table>\n",
       "</div>"
      ],
      "text/plain": [
       "       name  junction  mdot_kg_per_s fluid  scaling  in_service    type\n",
       "0  Source 1         2          0.234  lgas      1.0        True  source"
      ]
     },
     "execution_count": 15,
     "metadata": {},
     "output_type": "execute_result"
    }
   ],
   "source": [
    "net.source"
   ]
  },
  {
   "cell_type": "markdown",
   "metadata": {},
   "source": [
    "We are done. Now, the net includes all the elements from the picture."
   ]
  },
  {
   "cell_type": "code",
   "execution_count": 16,
   "metadata": {},
   "outputs": [
    {
     "data": {
      "text/plain": [
       "This pandapipes network includes the following parameter tables:\n",
       "   - junction (6 elements)\n",
       "   - ext_grid (1 elements)\n",
       "   - pipe (5 elements)\n",
       "   - valve (1 elements)\n",
       "   - sink (1 elements)\n",
       "   - source (1 elements).\n",
       "It contains the following fluids: \n",
       "Fluid lgas (gas) with properties:\n",
       "   - density (InterExtra)\n",
       "   - viscosity (InterExtra)\n",
       "   - heat_capacity (InterExtra)\n",
       "   - molar_mass (Constant)\n",
       "   - compressibility (Linear)\n",
       "   - der_compressibility (Constant)\n",
       "   - lhv (Constant)\n",
       "   - hhv (Constant)\n",
       "   - critical_data (Constant)\n",
       "and uses the following component models:\n",
       "   - Junction\n",
       "   - Pipe\n",
       "   - Valve\n",
       "   - ExtGrid\n",
       "   - Sink\n",
       "   - Source"
      ]
     },
     "execution_count": 16,
     "metadata": {},
     "output_type": "execute_result"
    }
   ],
   "source": [
    "net"
   ]
  },
  {
   "cell_type": "markdown",
   "metadata": {},
   "source": [
    "Finally, the gas flow can be calculated with the `pipeflow` command:"
   ]
  },
  {
   "cell_type": "code",
   "execution_count": 17,
   "metadata": {},
   "outputs": [],
   "source": [
    "pp.pipeflow(net)"
   ]
  },
  {
   "cell_type": "markdown",
   "metadata": {},
   "source": [
    "The results are written to `res_...` tables. They were added to the `net`container. "
   ]
  },
  {
   "cell_type": "code",
   "execution_count": 18,
   "metadata": {},
   "outputs": [
    {
     "data": {
      "text/plain": [
       "This pandapipes network includes the following parameter tables:\n",
       "   - junction (6 elements)\n",
       "   - ext_grid (1 elements)\n",
       "   - pipe (5 elements)\n",
       "   - valve (1 elements)\n",
       "   - sink (1 elements)\n",
       "   - source (1 elements)\n",
       "and the following results tables:\n",
       "   - res_junction (6 elements)\n",
       "   - res_ext_grid (1 elements)\n",
       "   - res_sink (1 elements)\n",
       "   - res_source (1 elements)\n",
       "   - res_pipe (5 elements)\n",
       "   - res_valve (1 elements).\n",
       "It contains the following fluids: \n",
       "Fluid lgas (gas) with properties:\n",
       "   - density (InterExtra)\n",
       "   - viscosity (InterExtra)\n",
       "   - heat_capacity (InterExtra)\n",
       "   - molar_mass (Constant)\n",
       "   - compressibility (Linear)\n",
       "   - der_compressibility (Constant)\n",
       "   - lhv (Constant)\n",
       "   - hhv (Constant)\n",
       "   - critical_data (Constant)\n",
       "and uses the following component models:\n",
       "   - Junction\n",
       "   - Pipe\n",
       "   - Valve\n",
       "   - ExtGrid\n",
       "   - Sink\n",
       "   - Source"
      ]
     },
     "execution_count": 18,
     "metadata": {},
     "output_type": "execute_result"
    }
   ],
   "source": [
    "net # result tables have been added to the net "
   ]
  },
  {
   "cell_type": "code",
   "execution_count": 19,
   "metadata": {},
   "outputs": [
    {
     "data": {
      "text/html": [
       "<div>\n",
       "<style scoped>\n",
       "    .dataframe tbody tr th:only-of-type {\n",
       "        vertical-align: middle;\n",
       "    }\n",
       "\n",
       "    .dataframe tbody tr th {\n",
       "        vertical-align: top;\n",
       "    }\n",
       "\n",
       "    .dataframe thead th {\n",
       "        text-align: right;\n",
       "    }\n",
       "</style>\n",
       "<table border=\"1\" class=\"dataframe\">\n",
       "  <thead>\n",
       "    <tr style=\"text-align: right;\">\n",
       "      <th></th>\n",
       "      <th>p_bar</th>\n",
       "      <th>t_k</th>\n",
       "      <th>rho_kg_per_m3</th>\n",
       "    </tr>\n",
       "  </thead>\n",
       "  <tbody>\n",
       "    <tr>\n",
       "      <th>0</th>\n",
       "      <td>1.100000</td>\n",
       "      <td>293.15</td>\n",
       "      <td>1.453647</td>\n",
       "    </tr>\n",
       "    <tr>\n",
       "      <th>1</th>\n",
       "      <td>1.058782</td>\n",
       "      <td>293.15</td>\n",
       "      <td>1.425165</td>\n",
       "    </tr>\n",
       "    <tr>\n",
       "      <th>2</th>\n",
       "      <td>1.058518</td>\n",
       "      <td>293.15</td>\n",
       "      <td>1.424983</td>\n",
       "    </tr>\n",
       "    <tr>\n",
       "      <th>3</th>\n",
       "      <td>1.051473</td>\n",
       "      <td>293.15</td>\n",
       "      <td>1.420115</td>\n",
       "    </tr>\n",
       "    <tr>\n",
       "      <th>4</th>\n",
       "      <td>1.054999</td>\n",
       "      <td>293.15</td>\n",
       "      <td>1.422551</td>\n",
       "    </tr>\n",
       "    <tr>\n",
       "      <th>5</th>\n",
       "      <td>1.054999</td>\n",
       "      <td>293.15</td>\n",
       "      <td>1.422551</td>\n",
       "    </tr>\n",
       "  </tbody>\n",
       "</table>\n",
       "</div>"
      ],
      "text/plain": [
       "      p_bar     t_k  rho_kg_per_m3\n",
       "0  1.100000  293.15       1.453647\n",
       "1  1.058782  293.15       1.425165\n",
       "2  1.058518  293.15       1.424983\n",
       "3  1.051473  293.15       1.420115\n",
       "4  1.054999  293.15       1.422551\n",
       "5  1.054999  293.15       1.422551"
      ]
     },
     "execution_count": 19,
     "metadata": {},
     "output_type": "execute_result"
    }
   ],
   "source": [
    "net.res_junction # calculated pressure and temperature at junctions"
   ]
  },
  {
   "cell_type": "code",
   "execution_count": 20,
   "metadata": {},
   "outputs": [
    {
     "data": {
      "text/html": [
       "<div>\n",
       "<style scoped>\n",
       "    .dataframe tbody tr th:only-of-type {\n",
       "        vertical-align: middle;\n",
       "    }\n",
       "\n",
       "    .dataframe tbody tr th {\n",
       "        vertical-align: top;\n",
       "    }\n",
       "\n",
       "    .dataframe thead th {\n",
       "        text-align: right;\n",
       "    }\n",
       "</style>\n",
       "<table border=\"1\" class=\"dataframe\">\n",
       "  <thead>\n",
       "    <tr style=\"text-align: right;\">\n",
       "      <th></th>\n",
       "      <th>v_from_m_per_s</th>\n",
       "      <th>v_to_m_per_s</th>\n",
       "      <th>v_mean_m_per_s</th>\n",
       "      <th>p_from_bar</th>\n",
       "      <th>p_to_bar</th>\n",
       "      <th>t_from_k</th>\n",
       "      <th>t_to_k</th>\n",
       "      <th>mdot_from_kg_per_s</th>\n",
       "      <th>mdot_to_kg_per_s</th>\n",
       "      <th>vdot_norm_m3_per_s</th>\n",
       "      <th>reynolds</th>\n",
       "      <th>lambda</th>\n",
       "      <th>normfactor_from</th>\n",
       "      <th>normfactor_to</th>\n",
       "    </tr>\n",
       "  </thead>\n",
       "  <tbody>\n",
       "    <tr>\n",
       "      <th>0</th>\n",
       "      <td>3.026697</td>\n",
       "      <td>3.087187</td>\n",
       "      <td>3.056545</td>\n",
       "      <td>1.100000</td>\n",
       "      <td>1.058782</td>\n",
       "      <td>293.15</td>\n",
       "      <td>293.15</td>\n",
       "      <td>0.311000</td>\n",
       "      <td>-0.311000</td>\n",
       "      <td>0.417706</td>\n",
       "      <td>111395.955082</td>\n",
       "      <td>0.018389</td>\n",
       "      <td>0.512189</td>\n",
       "      <td>0.522426</td>\n",
       "    </tr>\n",
       "    <tr>\n",
       "      <th>1</th>\n",
       "      <td>0.510389</td>\n",
       "      <td>0.510454</td>\n",
       "      <td>0.510421</td>\n",
       "      <td>1.058782</td>\n",
       "      <td>1.058518</td>\n",
       "      <td>293.15</td>\n",
       "      <td>293.15</td>\n",
       "      <td>0.051416</td>\n",
       "      <td>-0.051416</td>\n",
       "      <td>0.069058</td>\n",
       "      <td>18416.668212</td>\n",
       "      <td>0.021290</td>\n",
       "      <td>0.522426</td>\n",
       "      <td>0.522493</td>\n",
       "    </tr>\n",
       "    <tr>\n",
       "      <th>2</th>\n",
       "      <td>2.576799</td>\n",
       "      <td>2.585962</td>\n",
       "      <td>2.581369</td>\n",
       "      <td>1.058782</td>\n",
       "      <td>1.051473</td>\n",
       "      <td>293.15</td>\n",
       "      <td>293.15</td>\n",
       "      <td>0.259584</td>\n",
       "      <td>-0.259584</td>\n",
       "      <td>0.348648</td>\n",
       "      <td>92979.286870</td>\n",
       "      <td>0.018503</td>\n",
       "      <td>0.522426</td>\n",
       "      <td>0.524284</td>\n",
       "    </tr>\n",
       "    <tr>\n",
       "      <th>3</th>\n",
       "      <td>2.833586</td>\n",
       "      <td>2.838430</td>\n",
       "      <td>2.836005</td>\n",
       "      <td>1.058518</td>\n",
       "      <td>1.054999</td>\n",
       "      <td>293.15</td>\n",
       "      <td>293.15</td>\n",
       "      <td>0.285416</td>\n",
       "      <td>-0.285416</td>\n",
       "      <td>0.383345</td>\n",
       "      <td>102232.274286</td>\n",
       "      <td>0.018441</td>\n",
       "      <td>0.522493</td>\n",
       "      <td>0.523386</td>\n",
       "    </tr>\n",
       "    <tr>\n",
       "      <th>4</th>\n",
       "      <td>-2.843299</td>\n",
       "      <td>-2.838430</td>\n",
       "      <td>-2.840862</td>\n",
       "      <td>1.051473</td>\n",
       "      <td>1.054999</td>\n",
       "      <td>293.15</td>\n",
       "      <td>293.15</td>\n",
       "      <td>-0.285416</td>\n",
       "      <td>0.285416</td>\n",
       "      <td>-0.383345</td>\n",
       "      <td>102232.274286</td>\n",
       "      <td>0.018441</td>\n",
       "      <td>0.524284</td>\n",
       "      <td>0.523386</td>\n",
       "    </tr>\n",
       "  </tbody>\n",
       "</table>\n",
       "</div>"
      ],
      "text/plain": [
       "   v_from_m_per_s  v_to_m_per_s  v_mean_m_per_s  p_from_bar  p_to_bar  \\\n",
       "0        3.026697      3.087187        3.056545    1.100000  1.058782   \n",
       "1        0.510389      0.510454        0.510421    1.058782  1.058518   \n",
       "2        2.576799      2.585962        2.581369    1.058782  1.051473   \n",
       "3        2.833586      2.838430        2.836005    1.058518  1.054999   \n",
       "4       -2.843299     -2.838430       -2.840862    1.051473  1.054999   \n",
       "\n",
       "   t_from_k  t_to_k  mdot_from_kg_per_s  mdot_to_kg_per_s  vdot_norm_m3_per_s  \\\n",
       "0    293.15  293.15            0.311000         -0.311000            0.417706   \n",
       "1    293.15  293.15            0.051416         -0.051416            0.069058   \n",
       "2    293.15  293.15            0.259584         -0.259584            0.348648   \n",
       "3    293.15  293.15            0.285416         -0.285416            0.383345   \n",
       "4    293.15  293.15           -0.285416          0.285416           -0.383345   \n",
       "\n",
       "        reynolds    lambda  normfactor_from  normfactor_to  \n",
       "0  111395.955082  0.018389         0.512189       0.522426  \n",
       "1   18416.668212  0.021290         0.522426       0.522493  \n",
       "2   92979.286870  0.018503         0.522426       0.524284  \n",
       "3  102232.274286  0.018441         0.522493       0.523386  \n",
       "4  102232.274286  0.018441         0.524284       0.523386  "
      ]
     },
     "execution_count": 20,
     "metadata": {},
     "output_type": "execute_result"
    }
   ],
   "source": [
    "net.res_pipe  # velocities, mass flows through pipes and other results\n",
    "\n"
   ]
  }
 ],
 "metadata": {
  "kernelspec": {
   "display_name": "Python 3 (ipykernel)",
   "language": "python",
   "name": "python3"
  },
  "language_info": {
   "codemirror_mode": {
    "name": "ipython",
    "version": 3
   },
   "file_extension": ".py",
   "mimetype": "text/x-python",
   "name": "python",
   "nbconvert_exporter": "python",
   "pygments_lexer": "ipython3",
   "version": "3.10.8"
  }
 },
 "nbformat": 4,
 "nbformat_minor": 2
}

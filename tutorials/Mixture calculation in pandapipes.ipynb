{
 "cells": [
  {
   "cell_type": "markdown",
   "id": "a1be2453",
   "metadata": {},
   "source": [
    "# Mixture calculations in a pandapipes network"
   ]
  },
  {
   "cell_type": "markdown",
   "id": "4939742e",
   "metadata": {},
   "source": [
    "Since pandapipes release v0.8.0, it is possible to conduct stationary mixture calculations, i.e. different fluids can be fed into a pandapipes grid and the fluid composition can be determined at each junction, respectivaley. With a simple example, we want to visualize the implementation.\n",
    "\n",
    "The simple example consists of four junctions, one external grid, two sources and three sinks. Both sources feed in hydrogen.\n",
    "\n",
    "First, we create an empty network and afterwards define the four junctions. Different from the versions before: you don't define one fluid for the entire grid. The nominal pressure is 0.1 bar and the nominal temperature 283.15 K."
   ]
  },
  {
   "cell_type": "code",
   "execution_count": 1,
   "id": "4dabb5cc",
   "metadata": {},
   "outputs": [
    {
     "name": "stderr",
     "output_type": "stream",
     "text": [
      "hp.pandapower.plotting.plotly.traces - INFO: Failed to import plotly - interactive plotting will not be available\n"
     ]
    }
   ],
   "source": [
    "import pandapipes as pps\n",
    "net = pps.create_empty_network()\n",
    "\n",
    "j0 = pps.create_junction(net, 0.1, 283.15)\n",
    "j1 = pps.create_junction(net, 0.1, 283.15)\n",
    "j2 = pps.create_junction(net, 0.1, 283.15)\n",
    "j3 = pps.create_junction(net, 0.1, 283.15)"
   ]
  },
  {
   "cell_type": "markdown",
   "id": "4cf39a75",
   "metadata": {},
   "source": [
    "The junctions are connected to each other resembling a t-cross network system. Each pipe has a lenght of 400 m and a diameter of 0.1 m. The other values use the default value."
   ]
  },
  {
   "cell_type": "code",
   "execution_count": 2,
   "id": "d6e0dfe6",
   "metadata": {},
   "outputs": [],
   "source": [
    "p1 = pps.create_pipe_from_parameters(net, j0, j1, 0.4, 0.1)\n",
    "p2 = pps.create_pipe_from_parameters(net, j1, j2, 0.4, 0.1)\n",
    "p3 = pps.create_pipe_from_parameters(net, j1, j3, 0.4, 0.1)"
   ]
  },
  {
   "cell_type": "markdown",
   "id": "7e7cfe84",
   "metadata": {},
   "source": [
    "Next, we define the external grid. Different to the versions before, you need to define a fluid, fed in by the external grid. The external grid is connected to junction 0."
   ]
  },
  {
   "cell_type": "code",
   "execution_count": 5,
   "id": "18dafbdf",
   "metadata": {},
   "outputs": [],
   "source": [
    "ext = pps.create_ext_grid(net, j0, 'hgas', 0.1, 283.15)"
   ]
  },
  {
   "cell_type": "markdown",
   "id": "5d2616c8",
   "metadata": {},
   "source": [
    "In the following step, we connect the three sinks to junction 1,2, and 3. The mass demand is 0.001, 0.002 and 0.003 kg per s. The sinks are connected to junction 1,2,3."
   ]
  },
  {
   "cell_type": "code",
   "execution_count": 6,
   "id": "01f29339",
   "metadata": {},
   "outputs": [],
   "source": [
    "si0 = pps.create_sink(net, j1, 0.001)\n",
    "si1 = pps.create_sink(net, j2, 0.002)\n",
    "si2 = pps.create_sink(net, j3, 0.003)"
   ]
  },
  {
   "cell_type": "markdown",
   "id": "d30ee6f4",
   "metadata": {},
   "source": [
    "Conducting a pipeflow leads to following results:"
   ]
  },
  {
   "cell_type": "code",
   "execution_count": 7,
   "id": "7faf58d0",
   "metadata": {},
   "outputs": [],
   "source": [
    "pps.pipeflow(net)"
   ]
  },
  {
   "cell_type": "markdown",
   "id": "0fb4b2fe",
   "metadata": {},
   "source": [
    "The results look as expected showing no other components besides hgas."
   ]
  },
  {
   "cell_type": "code",
   "execution_count": 8,
   "id": "43048a78",
   "metadata": {},
   "outputs": [
    {
     "data": {
      "text/html": [
       "<div>\n",
       "<style scoped>\n",
       "    .dataframe tbody tr th:only-of-type {\n",
       "        vertical-align: middle;\n",
       "    }\n",
       "\n",
       "    .dataframe tbody tr th {\n",
       "        vertical-align: top;\n",
       "    }\n",
       "\n",
       "    .dataframe thead th {\n",
       "        text-align: right;\n",
       "    }\n",
       "</style>\n",
       "<table border=\"1\" class=\"dataframe\">\n",
       "  <thead>\n",
       "    <tr style=\"text-align: right;\">\n",
       "      <th></th>\n",
       "      <th>p_bar</th>\n",
       "      <th>t_k</th>\n",
       "      <th>rho_kg_per_m3</th>\n",
       "    </tr>\n",
       "  </thead>\n",
       "  <tbody>\n",
       "    <tr>\n",
       "      <th>0</th>\n",
       "      <td>0.100000</td>\n",
       "      <td>283.15</td>\n",
       "      <td>0.751018</td>\n",
       "    </tr>\n",
       "    <tr>\n",
       "      <th>1</th>\n",
       "      <td>0.099497</td>\n",
       "      <td>283.15</td>\n",
       "      <td>0.750678</td>\n",
       "    </tr>\n",
       "    <tr>\n",
       "      <th>2</th>\n",
       "      <td>0.099410</td>\n",
       "      <td>283.15</td>\n",
       "      <td>0.750619</td>\n",
       "    </tr>\n",
       "    <tr>\n",
       "      <th>3</th>\n",
       "      <td>0.099336</td>\n",
       "      <td>283.15</td>\n",
       "      <td>0.750569</td>\n",
       "    </tr>\n",
       "  </tbody>\n",
       "</table>\n",
       "</div>"
      ],
      "text/plain": [
       "      p_bar     t_k  rho_kg_per_m3\n",
       "0  0.100000  283.15       0.751018\n",
       "1  0.099497  283.15       0.750678\n",
       "2  0.099410  283.15       0.750619\n",
       "3  0.099336  283.15       0.750569"
      ]
     },
     "execution_count": 8,
     "metadata": {},
     "output_type": "execute_result"
    }
   ],
   "source": [
    "net.res_junction"
   ]
  },
  {
   "cell_type": "code",
   "execution_count": 9,
   "id": "414a2ce6",
   "metadata": {},
   "outputs": [
    {
     "data": {
      "text/html": [
       "<div>\n",
       "<style scoped>\n",
       "    .dataframe tbody tr th:only-of-type {\n",
       "        vertical-align: middle;\n",
       "    }\n",
       "\n",
       "    .dataframe tbody tr th {\n",
       "        vertical-align: top;\n",
       "    }\n",
       "\n",
       "    .dataframe thead th {\n",
       "        text-align: right;\n",
       "    }\n",
       "</style>\n",
       "<table border=\"1\" class=\"dataframe\">\n",
       "  <thead>\n",
       "    <tr style=\"text-align: right;\">\n",
       "      <th></th>\n",
       "      <th>v_from_m_per_s</th>\n",
       "      <th>v_to_m_per_s</th>\n",
       "      <th>v_mean_m_per_s</th>\n",
       "      <th>p_from_bar</th>\n",
       "      <th>p_to_bar</th>\n",
       "      <th>t_from_k</th>\n",
       "      <th>t_to_k</th>\n",
       "      <th>mdot_from_kg_per_s</th>\n",
       "      <th>mdot_to_kg_per_s</th>\n",
       "      <th>vdot_norm_m3_per_s</th>\n",
       "      <th>reynolds</th>\n",
       "      <th>lambda</th>\n",
       "      <th>normfactor_from</th>\n",
       "      <th>normfactor_to</th>\n",
       "    </tr>\n",
       "  </thead>\n",
       "  <tbody>\n",
       "    <tr>\n",
       "      <th>0</th>\n",
       "      <td>1.017211</td>\n",
       "      <td>1.017672</td>\n",
       "      <td>1.017441</td>\n",
       "      <td>0.100000</td>\n",
       "      <td>0.099497</td>\n",
       "      <td>283.15</td>\n",
       "      <td>283.15</td>\n",
       "      <td>0.006</td>\n",
       "      <td>-0.006</td>\n",
       "      <td>0.008488</td>\n",
       "      <td>7133.391269</td>\n",
       "      <td>0.032367</td>\n",
       "      <td>0.941184</td>\n",
       "      <td>0.941610</td>\n",
       "    </tr>\n",
       "    <tr>\n",
       "      <th>1</th>\n",
       "      <td>0.339224</td>\n",
       "      <td>0.339251</td>\n",
       "      <td>0.339237</td>\n",
       "      <td>0.099497</td>\n",
       "      <td>0.099410</td>\n",
       "      <td>283.15</td>\n",
       "      <td>283.15</td>\n",
       "      <td>0.002</td>\n",
       "      <td>-0.002</td>\n",
       "      <td>0.002829</td>\n",
       "      <td>2377.797090</td>\n",
       "      <td>0.050310</td>\n",
       "      <td>0.941610</td>\n",
       "      <td>0.941684</td>\n",
       "    </tr>\n",
       "    <tr>\n",
       "      <th>2</th>\n",
       "      <td>0.508836</td>\n",
       "      <td>0.508910</td>\n",
       "      <td>0.508873</td>\n",
       "      <td>0.099497</td>\n",
       "      <td>0.099336</td>\n",
       "      <td>283.15</td>\n",
       "      <td>283.15</td>\n",
       "      <td>0.003</td>\n",
       "      <td>-0.003</td>\n",
       "      <td>0.004244</td>\n",
       "      <td>3566.695635</td>\n",
       "      <td>0.041339</td>\n",
       "      <td>0.941610</td>\n",
       "      <td>0.941746</td>\n",
       "    </tr>\n",
       "  </tbody>\n",
       "</table>\n",
       "</div>"
      ],
      "text/plain": [
       "   v_from_m_per_s  v_to_m_per_s  v_mean_m_per_s  p_from_bar  p_to_bar  \\\n",
       "0        1.017211      1.017672        1.017441    0.100000  0.099497   \n",
       "1        0.339224      0.339251        0.339237    0.099497  0.099410   \n",
       "2        0.508836      0.508910        0.508873    0.099497  0.099336   \n",
       "\n",
       "   t_from_k  t_to_k  mdot_from_kg_per_s  mdot_to_kg_per_s  vdot_norm_m3_per_s  \\\n",
       "0    283.15  283.15               0.006            -0.006            0.008488   \n",
       "1    283.15  283.15               0.002            -0.002            0.002829   \n",
       "2    283.15  283.15               0.003            -0.003            0.004244   \n",
       "\n",
       "      reynolds    lambda  normfactor_from  normfactor_to  \n",
       "0  7133.391269  0.032367         0.941184       0.941610  \n",
       "1  2377.797090  0.050310         0.941610       0.941684  \n",
       "2  3566.695635  0.041339         0.941610       0.941746  "
      ]
     },
     "execution_count": 9,
     "metadata": {},
     "output_type": "execute_result"
    }
   ],
   "source": [
    "net.res_pipe"
   ]
  },
  {
   "cell_type": "markdown",
   "id": "963957f6",
   "metadata": {},
   "source": [
    "You can also define another fluid, which will be listed in **net.fluid**. However, as long it is not definied as fluid for an external grid or a source, it doesn't anything in the results."
   ]
  },
  {
   "cell_type": "code",
   "execution_count": 10,
   "id": "2737d5f6",
   "metadata": {},
   "outputs": [
    {
     "data": {
      "text/plain": [
       "{'hgas': Fluid hgas (gas) with properties:\n",
       "    - density (InterExtra)\n",
       "    - viscosity (InterExtra)\n",
       "    - heat_capacity (InterExtra)\n",
       "    - molar_mass (Constant)\n",
       "    - compressibility (Linear)\n",
       "    - der_compressibility (Constant)\n",
       "    - lhv (Constant)\n",
       "    - hhv (Constant)\n",
       "    - critical_data (Constant),\n",
       " 'lgas': Fluid lgas (gas) with properties:\n",
       "    - density (InterExtra)\n",
       "    - viscosity (InterExtra)\n",
       "    - heat_capacity (InterExtra)\n",
       "    - molar_mass (Constant)\n",
       "    - compressibility (Linear)\n",
       "    - der_compressibility (Constant)\n",
       "    - lhv (Constant)\n",
       "    - hhv (Constant)\n",
       "    - critical_data (Constant)}"
      ]
     },
     "execution_count": 10,
     "metadata": {},
     "output_type": "execute_result"
    }
   ],
   "source": [
    "pps.create_fluid_from_lib(net, 'lgas')\n",
    "net.fluid"
   ]
  },
  {
   "cell_type": "code",
   "execution_count": 11,
   "id": "a992bfe9",
   "metadata": {},
   "outputs": [
    {
     "data": {
      "text/html": [
       "<div>\n",
       "<style scoped>\n",
       "    .dataframe tbody tr th:only-of-type {\n",
       "        vertical-align: middle;\n",
       "    }\n",
       "\n",
       "    .dataframe tbody tr th {\n",
       "        vertical-align: top;\n",
       "    }\n",
       "\n",
       "    .dataframe thead th {\n",
       "        text-align: right;\n",
       "    }\n",
       "</style>\n",
       "<table border=\"1\" class=\"dataframe\">\n",
       "  <thead>\n",
       "    <tr style=\"text-align: right;\">\n",
       "      <th></th>\n",
       "      <th>p_bar</th>\n",
       "      <th>t_k</th>\n",
       "      <th>rho_kg_per_m3</th>\n",
       "    </tr>\n",
       "  </thead>\n",
       "  <tbody>\n",
       "    <tr>\n",
       "      <th>0</th>\n",
       "      <td>0.100000</td>\n",
       "      <td>283.15</td>\n",
       "      <td>0.751018</td>\n",
       "    </tr>\n",
       "    <tr>\n",
       "      <th>1</th>\n",
       "      <td>0.099497</td>\n",
       "      <td>283.15</td>\n",
       "      <td>0.750678</td>\n",
       "    </tr>\n",
       "    <tr>\n",
       "      <th>2</th>\n",
       "      <td>0.099410</td>\n",
       "      <td>283.15</td>\n",
       "      <td>0.750619</td>\n",
       "    </tr>\n",
       "    <tr>\n",
       "      <th>3</th>\n",
       "      <td>0.099336</td>\n",
       "      <td>283.15</td>\n",
       "      <td>0.750569</td>\n",
       "    </tr>\n",
       "  </tbody>\n",
       "</table>\n",
       "</div>"
      ],
      "text/plain": [
       "      p_bar     t_k  rho_kg_per_m3\n",
       "0  0.100000  283.15       0.751018\n",
       "1  0.099497  283.15       0.750678\n",
       "2  0.099410  283.15       0.750619\n",
       "3  0.099336  283.15       0.750569"
      ]
     },
     "execution_count": 11,
     "metadata": {},
     "output_type": "execute_result"
    }
   ],
   "source": [
    "pps.pipeflow(net)\n",
    "net.res_junction"
   ]
  },
  {
   "cell_type": "markdown",
   "id": "a9b35f0f",
   "metadata": {},
   "source": [
    "A glimpse at the internal results reveals the number of iterations:"
   ]
  },
  {
   "cell_type": "code",
   "execution_count": 12,
   "id": "b8d6ab25",
   "metadata": {},
   "outputs": [
    {
     "data": {
      "text/plain": [
       "{'iterations': 3,\n",
       " 'error_p': 7.404491962981558e-12,\n",
       " 'error_v': 0.0,\n",
       " 'error_m': 0.0,\n",
       " 'error_w': 0,\n",
       " 'residual_norm': 2.267192045621032e-12}"
      ]
     },
     "execution_count": 12,
     "metadata": {},
     "output_type": "execute_result"
    }
   ],
   "source": [
    "net._internal_results"
   ]
  },
  {
   "cell_type": "markdown",
   "id": "fe967e58",
   "metadata": {},
   "source": [
    "To see an effect of different fluids being fed into a network, we define two sources. One feeds in 0.001 kg per s, the other one 0.004 kg per s. They are connected to junction 2 and 3. "
   ]
  },
  {
   "cell_type": "code",
   "execution_count": 13,
   "id": "2fad6e2d",
   "metadata": {},
   "outputs": [],
   "source": [
    "so0 = pps.create_source(net, j2, 0.001, fluid='hydrogen')\n",
    "so1 = pps.create_source(net, j3, 0.004, fluid='hydrogen')"
   ]
  },
  {
   "cell_type": "markdown",
   "id": "ea92ae60",
   "metadata": {},
   "source": [
    "Conducting a pipeflow changes the results as following:"
   ]
  },
  {
   "cell_type": "code",
   "execution_count": 14,
   "id": "86c48851",
   "metadata": {},
   "outputs": [
    {
     "data": {
      "text/html": [
       "<div>\n",
       "<style scoped>\n",
       "    .dataframe tbody tr th:only-of-type {\n",
       "        vertical-align: middle;\n",
       "    }\n",
       "\n",
       "    .dataframe tbody tr th {\n",
       "        vertical-align: top;\n",
       "    }\n",
       "\n",
       "    .dataframe thead th {\n",
       "        text-align: right;\n",
       "    }\n",
       "</style>\n",
       "<table border=\"1\" class=\"dataframe\">\n",
       "  <thead>\n",
       "    <tr style=\"text-align: right;\">\n",
       "      <th></th>\n",
       "      <th>p_bar</th>\n",
       "      <th>t_k</th>\n",
       "      <th>rho_kg_per_m3</th>\n",
       "      <th>w_hgas</th>\n",
       "      <th>w_hydrogen</th>\n",
       "      <th>rho_kg_per_m3_hgas</th>\n",
       "      <th>rho_kg_per_m3_hydrogen</th>\n",
       "    </tr>\n",
       "  </thead>\n",
       "  <tbody>\n",
       "    <tr>\n",
       "      <th>0</th>\n",
       "      <td>0.100000</td>\n",
       "      <td>283.15</td>\n",
       "      <td>0.747210</td>\n",
       "      <td>1.00</td>\n",
       "      <td>0.00</td>\n",
       "      <td>0.751018</td>\n",
       "      <td>0.090643</td>\n",
       "    </tr>\n",
       "    <tr>\n",
       "      <th>1</th>\n",
       "      <td>0.099967</td>\n",
       "      <td>283.15</td>\n",
       "      <td>0.161867</td>\n",
       "      <td>0.50</td>\n",
       "      <td>0.50</td>\n",
       "      <td>0.750995</td>\n",
       "      <td>0.090640</td>\n",
       "    </tr>\n",
       "    <tr>\n",
       "      <th>2</th>\n",
       "      <td>0.099828</td>\n",
       "      <td>283.15</td>\n",
       "      <td>0.116279</td>\n",
       "      <td>0.25</td>\n",
       "      <td>0.75</td>\n",
       "      <td>0.750901</td>\n",
       "      <td>0.090629</td>\n",
       "    </tr>\n",
       "    <tr>\n",
       "      <th>3</th>\n",
       "      <td>0.100205</td>\n",
       "      <td>283.15</td>\n",
       "      <td>0.090763</td>\n",
       "      <td>0.00</td>\n",
       "      <td>1.00</td>\n",
       "      <td>0.751156</td>\n",
       "      <td>0.090659</td>\n",
       "    </tr>\n",
       "  </tbody>\n",
       "</table>\n",
       "</div>"
      ],
      "text/plain": [
       "      p_bar     t_k  rho_kg_per_m3  w_hgas  w_hydrogen  rho_kg_per_m3_hgas  \\\n",
       "0  0.100000  283.15       0.747210    1.00        0.00            0.751018   \n",
       "1  0.099967  283.15       0.161867    0.50        0.50            0.750995   \n",
       "2  0.099828  283.15       0.116279    0.25        0.75            0.750901   \n",
       "3  0.100205  283.15       0.090763    0.00        1.00            0.751156   \n",
       "\n",
       "   rho_kg_per_m3_hydrogen  \n",
       "0                0.090643  \n",
       "1                0.090640  \n",
       "2                0.090629  \n",
       "3                0.090659  "
      ]
     },
     "execution_count": 14,
     "metadata": {},
     "output_type": "execute_result"
    }
   ],
   "source": [
    "pps.pipeflow(net, iter=100)\n",
    "net.res_junction"
   ]
  },
  {
   "cell_type": "markdown",
   "id": "466c2654",
   "metadata": {},
   "source": [
    "At junction 0, we have pure hgas. This makes sense, as the summed up mass of all sources are solely 0.005 kg per s, while sinks sum up to 0.006 kg per s.\n",
    "\n",
    "At junction 3, we have a composition of 100 % hydrogen, as more hydrogen is fed in compared to the entire load consumed. The difference is 0.001 kg per s, which are fed back to the network system. \n",
    "\n",
    "At junction 1, 0.001 kg per s are delivered by the external grid and another 0.001 kg per s come from the feeder leading to junction 3. Therefore, the composition at junction 1 is 50 % hydrogen and 50 % hgas. \n",
    "\n",
    "At junction 2, 0.001 kg per s are covered by the source directly connected to junction 2, while the other 0.001 kg per s are supplied through the network system. As junction 1 is directly connected to junction 2, the composition of that 0.001 kg per s are 50 % hydrogen and 50 % hgas. Therefore, in total 0.0015 kg per s hydrogen and 0.005 kg per s hgas are fed into junction 2 and consumed by sink 2, leaving a composition of 75 % hydrogen and 25 % hgas. \n",
    "\n",
    "Conclusively, pandapipes is calculating correctly and does this with an additional calcualation overhead of just two more iterations as seen in the internal results."
   ]
  },
  {
   "cell_type": "code",
   "execution_count": 15,
   "id": "8eb46267",
   "metadata": {},
   "outputs": [
    {
     "data": {
      "text/plain": [
       "{'iterations': 4,\n",
       " 'error_p': 9.798646416862713e-05,\n",
       " 'error_v': 5.340494598275943e-16,\n",
       " 'error_m': 2.168404344971009e-19,\n",
       " 'error_w': 2.3926610206402113e-16,\n",
       " 'residual_norm': 1.8208355855424462e-05}"
      ]
     },
     "execution_count": 15,
     "metadata": {},
     "output_type": "execute_result"
    }
   ],
   "source": [
    "net._internal_results"
   ]
  },
  {
   "cell_type": "markdown",
   "id": "3c5d9b65",
   "metadata": {},
   "source": [
    "Moreover, in **net.fluid** you can also find hydrogen, as automatically fluids defined in the library are added to the fluid list, if called the first time in an external grid or source."
   ]
  },
  {
   "cell_type": "code",
   "execution_count": 16,
   "id": "e08962de",
   "metadata": {},
   "outputs": [
    {
     "data": {
      "text/plain": [
       "{'hgas': Fluid hgas (gas) with properties:\n",
       "    - density (InterExtra)\n",
       "    - viscosity (InterExtra)\n",
       "    - heat_capacity (InterExtra)\n",
       "    - molar_mass (Constant)\n",
       "    - compressibility (Linear)\n",
       "    - der_compressibility (Constant)\n",
       "    - lhv (Constant)\n",
       "    - hhv (Constant)\n",
       "    - critical_data (Constant),\n",
       " 'lgas': Fluid lgas (gas) with properties:\n",
       "    - density (InterExtra)\n",
       "    - viscosity (InterExtra)\n",
       "    - heat_capacity (InterExtra)\n",
       "    - molar_mass (Constant)\n",
       "    - compressibility (Linear)\n",
       "    - der_compressibility (Constant)\n",
       "    - lhv (Constant)\n",
       "    - hhv (Constant)\n",
       "    - critical_data (Constant),\n",
       " 'hydrogen': Fluid hydrogen (gas) with properties:\n",
       "    - density (InterExtra)\n",
       "    - viscosity (InterExtra)\n",
       "    - heat_capacity (InterExtra)\n",
       "    - molar_mass (Constant)\n",
       "    - compressibility (Linear)\n",
       "    - der_compressibility (Constant)\n",
       "    - lhv (Constant)\n",
       "    - hhv (Constant)\n",
       "    - critical_data (Constant)}"
      ]
     },
     "execution_count": 16,
     "metadata": {},
     "output_type": "execute_result"
    }
   ],
   "source": [
    "net.fluid"
   ]
  },
  {
   "cell_type": "markdown",
   "id": "b90848bc",
   "metadata": {},
   "source": [
    "So, that's it for now. If you have any recommendations or find bugs, please get in touch with us through our issue board on https://github.com/e2nIEE/pandapipes/issues"
   ]
  }
 ],
 "metadata": {
  "kernelspec": {
   "display_name": "Python 3 (ipykernel)",
   "language": "python",
   "name": "python3"
  },
  "language_info": {
   "codemirror_mode": {
    "name": "ipython",
    "version": 3
   },
   "file_extension": ".py",
   "mimetype": "text/x-python",
   "name": "python",
   "nbconvert_exporter": "python",
   "pygments_lexer": "ipython3",
   "version": "3.10.8"
  }
 },
 "nbformat": 4,
 "nbformat_minor": 5
}

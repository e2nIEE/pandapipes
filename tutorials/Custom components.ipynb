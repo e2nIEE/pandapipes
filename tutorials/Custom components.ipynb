{
 "cells": [
  {
   "cell_type": "markdown",
   "id": "99f2c200-3c73-41d3-899b-1d5adaef0b89",
   "metadata": {},
   "source": [
    "## Creating a Custom Component "
   ]
  },
  {
   "cell_type": "markdown",
   "id": "defaec37-7c42-4a77-98ce-2ccfa854aa9b",
   "metadata": {},
   "source": [
    "The following documents the development of a custom component.\n",
    "All components such as the 'junction' or 'pipe' are classes based on the 'component' class. Further abstract subclasses define pandapipes internally required methods and variables.\n",
    "Every Component must be registered in the central COMPONENT_REGISTRY, which holds the instances of the components and through which the required formulas are retrieved from the components for the pipeflow.\n",
    "\n",
    "As a whole, this structure enhances pandapipes users with the possibility to create highly individual components outside of pandapipes, e.g. in your project repository."
   ]
  },
  {
   "cell_type": "markdown",
   "id": "fbe1dd3f-d986-4a34-b88d-b2cad91da0dd",
   "metadata": {},
   "source": [
    "First we define our new enhanced Component. We just want the component to have a different table name."
   ]
  },
  {
   "cell_type": "code",
   "execution_count": null,
   "id": "7d027c20-cf7a-4591-aa4e-4ab174a20bd2",
   "metadata": {},
   "outputs": [],
   "source": [
    "import pandapipes as pp\n",
    "from pandapipes.component_models import Pipe, register_component"
   ]
  },
  {
   "cell_type": "code",
   "execution_count": null,
   "id": "59e7f1e1-72f8-4f7b-aed8-f3a24ea1b846",
   "metadata": {},
   "outputs": [],
   "source": [
    "@register_component\n",
    "class MyPipe(Pipe):\n",
    "    @property\n",
    "    def table_name(self):\n",
    "        return \"mypipe\""
   ]
  },
  {
   "cell_type": "markdown",
   "id": "b34da359-aec2-4d45-9821-8d5f4b89ab7f",
   "metadata": {},
   "source": [
    "The custom component is now in the COMPONENT_REGISTRY and can be accessed with the table name or the class name."
   ]
  },
  {
   "cell_type": "code",
   "execution_count": null,
   "id": "6138474e-509f-40d0-a4e7-7624eb68a5f9",
   "metadata": {},
   "outputs": [],
   "source": [
    "from pandapipes.component_init import COMPONENT_REGISTRY"
   ]
  },
  {
   "cell_type": "code",
   "execution_count": null,
   "id": "110a7ef7-4b26-4269-880d-158605be9bbe",
   "metadata": {},
   "outputs": [],
   "source": [
    "COMPONENT_REGISTRY[\"mypipe\"]"
   ]
  },
  {
   "cell_type": "code",
   "execution_count": null,
   "id": "92702db0-97f9-4dea-8b1a-47aca3fe0de0",
   "metadata": {},
   "outputs": [],
   "source": [
    "COMPONENT_REGISTRY[MyPipe]"
   ]
  },
  {
   "cell_type": "markdown",
   "id": "3b67c375-396b-4f2f-afa3-c133dc8fd6c9",
   "metadata": {},
   "source": [
    "In the next step, the custom pipe is included in a net object"
   ]
  },
  {
   "cell_type": "code",
   "execution_count": null,
   "id": "498c33b5-0703-4607-9d83-510d84c18aee",
   "metadata": {},
   "outputs": [],
   "source": []
  }
 ],
 "metadata": {
  "kernelspec": {
   "display_name": "Python 3 (ipykernel)",
   "language": "python",
   "name": "python3"
  },
  "language_info": {
   "codemirror_mode": {
    "name": "ipython",
    "version": 3
   },
   "file_extension": ".py",
   "mimetype": "text/x-python",
   "name": "python",
   "nbconvert_exporter": "python",
   "pygments_lexer": "ipython3",
   "version": "3.12.7"
  }
 },
 "nbformat": 4,
 "nbformat_minor": 5
}

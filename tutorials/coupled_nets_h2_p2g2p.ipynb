{
 "cells": [
  {
   "cell_type": "markdown",
   "metadata": {
    "collapsed": true,
    "pycharm": {
     "name": "#%% md\n"
    }
   },
   "source": [
    "# Tutorial on how to couple a power grid and a gas network by a power-to-gas plant and a fuel cell"
   ]
  },
  {
   "cell_type": "markdown",
   "metadata": {},
   "source": [
    "In this tutorial, a power network and a gas network are coupled by a power-to-gas unit (P2G) and\n",
    "a gas-to-power unit (G2P), e.g. a fuel cell. The P2G and G2P have an input value that is set in one\n",
    "network (power or gas consumption, respectively). During the simulation, the output value is calculated\n",
    "by applying efficiency factors and is written then to the other network.\n",
    "\n",
    "There are three basic steps:\n",
    "1. bringing the networks together in a multinet-frame\n",
    "1. adding elements for the P2G and G2P units and coupling controller\n",
    "1. executing the coupled power and pipe flow"
   ]
  },
  {
   "cell_type": "markdown",
   "metadata": {
    "pycharm": {
     "name": "#%% md\n"
    }
   },
   "source": [
    "## Creating a multi-net\n",
    "First, we import some example networks and set the fluid for the gas net and\n",
    "P2G conversion."
   ]
  },
  {
   "cell_type": "code",
   "execution_count": 1,
   "metadata": {
    "pycharm": {
     "name": "#%%\n"
    }
   },
   "outputs": [
    {
     "name": "stderr",
     "output_type": "stream",
     "text": [
      "hp.pandapower.plotting.plotly.traces - INFO: Failed to import plotly - interactive plotting will not be available\n"
     ]
    }
   ],
   "source": [
    "from pandapower import networks as e_nw\n",
    "net_power = e_nw.example_simple()\n",
    "\n",
    "import pandapipes as ppipes\n",
    "from pandapipes import networks as g_nw\n",
    "\n",
    "net_gas = g_nw.gas_meshed_square()\n",
    "# some adjustments:\n",
    "net_gas.junction.pn_bar = net_gas.ext_grid.p_bar = 30\n",
    "net_gas.pipe.diameter_m = 0.4\n",
    "\n",
    "# set fluid:\n",
    "ppipes.create_fluid_from_lib(net_gas, 'hydrogen', overwrite=True)\n",
    "net_gas.ext_grid.fluid = 'hydrogen'\n"
   ]
  },
  {
   "cell_type": "markdown",
   "metadata": {
    "pycharm": {
     "name": "#%% md\n"
    }
   },
   "source": [
    "Then, we create a 'multinet'. It serves as a container for multiple networks to enable\n",
    "coupled simulation. Each net in the multinet has to have an unique name. Any name can be chosen - default\n",
    " names are 'power' and 'gas', but 'net1' and 'net2' would work just as fine. The number of\n",
    " networks in the multinet is not limited."
   ]
  },
  {
   "cell_type": "code",
   "execution_count": 2,
   "metadata": {
    "pycharm": {
     "name": "#%%\n"
    }
   },
   "outputs": [],
   "source": [
    "from pandapipes.multinet.create_multinet import create_empty_multinet, add_net_to_multinet\n",
    "multinet = create_empty_multinet('tutorial_multinet')\n",
    "add_net_to_multinet(multinet, net_power, 'power')\n",
    "add_net_to_multinet(multinet, net_gas, 'gas')"
   ]
  },
  {
   "cell_type": "markdown",
   "metadata": {
    "pycharm": {
     "name": "#%% md\n"
    }
   },
   "source": [
    "The individual networks can be called from the multinet or by the variable name - the result is\n",
    "identical:"
   ]
  },
  {
   "cell_type": "code",
   "execution_count": 3,
   "metadata": {
    "pycharm": {
     "name": "#%%\n"
    }
   },
   "outputs": [
    {
     "name": "stdout",
     "output_type": "stream",
     "text": [
      "This pandapower network includes the following parameter tables:\n",
      "   - bus (7 elements)\n",
      "   - load (1 element)\n",
      "   - sgen (1 element)\n",
      "   - gen (1 element)\n",
      "   - switch (8 elements)\n",
      "   - shunt (1 element)\n",
      "   - ext_grid (1 element)\n",
      "   - line (4 elements)\n",
      "   - trafo (1 element)\n",
      "This pandapipes network includes the following parameter tables:\n",
      "   - junction (6 elements)\n",
      "   - junction_geodata (6 elements)\n",
      "   - pipe (6 elements)\n",
      "   - ext_grid (1 elements)\n",
      "   - sink (1 elements).\n",
      "It contains the following fluids: \n",
      "Fluid STANET_fluid (gas) with properties:\n",
      "   - density (Constant)\n",
      "   - viscosity (Constant)\n",
      "   - heat_capacity (Constant)\n",
      "   - der_compressibility (Constant)\n",
      "   - compressibility (Constant)\n",
      "Fluid hydrogen (gas) with properties:\n",
      "   - density (InterExtra)\n",
      "   - viscosity (InterExtra)\n",
      "   - heat_capacity (InterExtra)\n",
      "   - molar_mass (Constant)\n",
      "   - compressibility (Linear)\n",
      "   - der_compressibility (Constant)\n",
      "   - lhv (Constant)\n",
      "   - hhv (Constant)\n",
      "   - critical_data (Constant)\n",
      "and uses the following component models:\n",
      "   - Junction\n",
      "   - Pipe\n",
      "   - ExtGrid\n",
      "   - Sink\n"
     ]
    }
   ],
   "source": [
    "print(multinet.nets['power'])\n",
    "print(multinet.nets['gas'])"
   ]
  },
  {
   "cell_type": "code",
   "execution_count": 4,
   "metadata": {
    "pycharm": {
     "name": "#%%\n"
    }
   },
   "outputs": [
    {
     "name": "stdout",
     "output_type": "stream",
     "text": [
      "This pandapower network includes the following parameter tables:\n",
      "   - bus (7 elements)\n",
      "   - load (1 element)\n",
      "   - sgen (1 element)\n",
      "   - gen (1 element)\n",
      "   - switch (8 elements)\n",
      "   - shunt (1 element)\n",
      "   - ext_grid (1 element)\n",
      "   - line (4 elements)\n",
      "   - trafo (1 element)\n",
      "This pandapipes network includes the following parameter tables:\n",
      "   - junction (6 elements)\n",
      "   - junction_geodata (6 elements)\n",
      "   - pipe (6 elements)\n",
      "   - ext_grid (1 elements)\n",
      "   - sink (1 elements).\n",
      "It contains the following fluids: \n",
      "Fluid STANET_fluid (gas) with properties:\n",
      "   - density (Constant)\n",
      "   - viscosity (Constant)\n",
      "   - heat_capacity (Constant)\n",
      "   - der_compressibility (Constant)\n",
      "   - compressibility (Constant)\n",
      "Fluid hydrogen (gas) with properties:\n",
      "   - density (InterExtra)\n",
      "   - viscosity (InterExtra)\n",
      "   - heat_capacity (InterExtra)\n",
      "   - molar_mass (Constant)\n",
      "   - compressibility (Linear)\n",
      "   - der_compressibility (Constant)\n",
      "   - lhv (Constant)\n",
      "   - hhv (Constant)\n",
      "   - critical_data (Constant)\n",
      "and uses the following component models:\n",
      "   - Junction\n",
      "   - Pipe\n",
      "   - ExtGrid\n",
      "   - Sink\n"
     ]
    }
   ],
   "source": [
    "print(net_power)\n",
    "print(net_gas)"
   ]
  },
  {
   "cell_type": "code",
   "execution_count": 5,
   "metadata": {
    "pycharm": {
     "name": "#%%\n"
    }
   },
   "outputs": [
    {
     "name": "stdout",
     "output_type": "stream",
     "text": [
      "True\n",
      "True\n"
     ]
    }
   ],
   "source": [
    "print(net_power is multinet.nets['power'])\n",
    "print(net_gas is multinet.nets['gas'])"
   ]
  },
  {
   "cell_type": "markdown",
   "metadata": {
    "pycharm": {
     "name": "#%% md\n"
    }
   },
   "source": [
    "Thus, changes to the networks will be found at both places."
   ]
  },
  {
   "cell_type": "markdown",
   "metadata": {},
   "source": [
    "## Add elements that represent the coupling units\n",
    "Now, we add elements to represent the input and output of the P2G and G2P units. They are\n",
    "assigned to specific buses / junctions. The input values have to be set. Since the output is\n",
    "calculated during the simulation, we can simply set it to 0 when calling the `create` function."
   ]
  },
  {
   "cell_type": "code",
   "execution_count": 6,
   "metadata": {
    "pycharm": {
     "name": "#%%\n"
    }
   },
   "outputs": [],
   "source": [
    "import pandapower as ppower\n",
    "import pandapipes as ppipes\n",
    "\n",
    "p2g_id_el = ppower.create_load(net_power, bus=3, p_mw=2, name=\"power to gas consumption\")\n",
    "p2g_id_gas = ppipes.create_source(net_gas, junction=1, mdot_kg_per_s=0, name=\"power to gas feed in\", fluid=\"hydrogen\")\n",
    "\n",
    "g2p_id_gas = ppipes.create_sink(net_gas, junction=1, mdot_kg_per_s=0.1, name=\"gas to power consumption\")\n",
    "g2p_id_el = ppower.create_sgen(net_power, bus=5, p_mw=0, name=\"fuel cell feed in\")"
   ]
  },
  {
   "cell_type": "markdown",
   "metadata": {},
   "source": [
    "Now, the coupling controllers are imported and initialized. We hand over the IDs of the\n",
    "P2G unit in the power grid (i.e., which load element represents the electrolyser)\n",
    "and in the gas grid (i.e., which source elements represents the P2G feed-in).\n",
    "Analogously, a G2P controller is created."
   ]
  },
  {
   "cell_type": "code",
   "execution_count": 7,
   "metadata": {
    "pycharm": {
     "name": "#%%\n"
    }
   },
   "outputs": [
    {
     "name": "stderr",
     "output_type": "stream",
     "text": [
      "hp.pandapower.control.util.auxiliary - INFO: Creating controller 0 of type <class 'pandapipes.multinet.control.controller.multinet_control.P2GControlMultiEnergy'> \n",
      "hp.pandapower.control.util.auxiliary - INFO: Creating controller 1 of type <class 'pandapipes.multinet.control.controller.multinet_control.G2PControlMultiEnergy'> \n"
     ]
    }
   ],
   "source": [
    "from pandapipes.multinet.control.controller.multinet_control import P2GControlMultiEnergy, \\\n",
    "    G2PControlMultiEnergy\n",
    "\n",
    "p2g_ctrl = P2GControlMultiEnergy(multinet, p2g_id_el, p2g_id_gas, efficiency=0.7,\n",
    "                          name_power_net=\"power\", name_gas_net=\"gas\")\n",
    "\n",
    "g2p_ctrl = G2PControlMultiEnergy(multinet, g2p_id_el, g2p_id_gas, efficiency=0.65,\n",
    "                          name_power_net=\"power\", name_gas_net=\"gas\")"
   ]
  },
  {
   "cell_type": "markdown",
   "metadata": {
    "pycharm": {
     "name": "#%% md\n"
    }
   },
   "source": [
    "Internally, both controllers calculate with the higher heating value of the gas. (It is a\n",
    "a property of the gas ('fluid') in the gas network and provided in the file\n",
    "*pandapipes/properties/[fluid_name]/higher_heating_value.txt*)\n",
    "\n",
    "It is also possible to order the controllers hierarchical,\n",
    " (cf. the [Control chapter in the pandapower documentation](https://pandapower.readthedocs.io/en/latest/control/control_loop.html))"
   ]
  },
  {
   "cell_type": "markdown",
   "metadata": {
    "pycharm": {
     "name": "#%% md\n"
    }
   },
   "source": [
    "## Run simulation\n",
    "Now, the simulation can be run. As there are different `run` functions required (power flow or\n",
    "pipe flow), we simply execute `run_control` for the multinet. This collects all nets and\n",
    "controllers and conducts the corresponding run function."
   ]
  },
  {
   "cell_type": "code",
   "execution_count": 8,
   "metadata": {
    "pycharm": {
     "name": "#%%\n"
    }
   },
   "outputs": [
    {
     "data": {
      "text/html": [
       "<div>\n",
       "<style scoped>\n",
       "    .dataframe tbody tr th:only-of-type {\n",
       "        vertical-align: middle;\n",
       "    }\n",
       "\n",
       "    .dataframe tbody tr th {\n",
       "        vertical-align: top;\n",
       "    }\n",
       "\n",
       "    .dataframe thead th {\n",
       "        text-align: right;\n",
       "    }\n",
       "</style>\n",
       "<table border=\"1\" class=\"dataframe\">\n",
       "  <thead>\n",
       "    <tr style=\"text-align: right;\">\n",
       "      <th></th>\n",
       "      <th>name</th>\n",
       "      <th>junction</th>\n",
       "      <th>p_bar</th>\n",
       "      <th>t_k</th>\n",
       "      <th>fluid</th>\n",
       "      <th>in_service</th>\n",
       "      <th>type</th>\n",
       "    </tr>\n",
       "  </thead>\n",
       "  <tbody>\n",
       "    <tr>\n",
       "      <th>0</th>\n",
       "      <td>None</td>\n",
       "      <td>0</td>\n",
       "      <td>30</td>\n",
       "      <td>283.15</td>\n",
       "      <td>hydrogen</td>\n",
       "      <td>True</td>\n",
       "      <td>pt</td>\n",
       "    </tr>\n",
       "  </tbody>\n",
       "</table>\n",
       "</div>"
      ],
      "text/plain": [
       "   name  junction  p_bar     t_k     fluid  in_service type\n",
       "0  None         0     30  283.15  hydrogen        True   pt"
      ]
     },
     "execution_count": 8,
     "metadata": {},
     "output_type": "execute_result"
    }
   ],
   "source": [
    "from pandapipes.multinet.control.run_control_multinet import run_control\n",
    "#run_control(multinet)\n",
    "net_gas.ext_grid"
   ]
  },
  {
   "cell_type": "markdown",
   "metadata": {
    "pycharm": {
     "name": "#%% md\n"
    }
   },
   "source": [
    "Now, the output values have been updated and equal the power input times efficiency (and\n",
    "consideration of unit conversion):"
   ]
  },
  {
   "cell_type": "code",
   "execution_count": 9,
   "metadata": {
    "pycharm": {
     "name": "#%%\n"
    }
   },
   "outputs": [
    {
     "name": "stdout",
     "output_type": "stream",
     "text": [
      "0.0\n",
      "0.0\n"
     ]
    }
   ],
   "source": [
    "print(net_gas.source.loc[p2g_id_gas, 'mdot_kg_per_s'])\n",
    "print(net_power.sgen.loc[g2p_id_el, 'p_mw'])"
   ]
  },
  {
   "cell_type": "markdown",
   "metadata": {
    "pycharm": {
     "name": "#%% md\n"
    }
   },
   "source": [
    "In summary:"
   ]
  },
  {
   "cell_type": "code",
   "execution_count": 11,
   "metadata": {
    "pycharm": {
     "name": "#%%\n"
    }
   },
   "outputs": [
    {
     "name": "stderr",
     "output_type": "stream",
     "text": [
      "hp.pandapower.control.util.auxiliary - INFO: Creating controller 0 of type <class 'pandapipes.multinet.control.controller.multinet_control.P2GControlMultiEnergy'> \n",
      "hp.pandapower.control.util.auxiliary - INFO: Creating controller 1 of type <class 'pandapipes.multinet.control.controller.multinet_control.G2PControlMultiEnergy'> \n"
     ]
    }
   ],
   "source": [
    "import pandapipes as ppipes\n",
    "import pandapower as ppower\n",
    "\n",
    "from pandapipes import networks as g_nw\n",
    "from pandapower import networks as e_nw\n",
    "from pandapipes.multinet.create_multinet import create_empty_multinet, add_net_to_multinet\n",
    "from pandapipes.multinet.control.controller.multinet_control import P2GControlMultiEnergy, G2PControlMultiEnergy\n",
    "from pandapipes.multinet.control.run_control_multinet import run_control\n",
    "\n",
    "# get networks:\n",
    "net_power = e_nw.example_simple()\n",
    "net_gas = g_nw.gas_meshed_square()\n",
    "# some adjustments:\n",
    "net_gas.junction.pn_bar = net_gas.ext_grid.p_bar = 30\n",
    "net_gas.pipe.diameter_m = 0.4\n",
    "net_gas.controller.rename(columns={'controller': 'object'}, inplace=True) # due to new version\n",
    "net_gas.ext_grid.fluid='hydrogen'\n",
    "\n",
    "# set fluid:\n",
    "ppipes.create_fluid_from_lib(net_gas, 'hydrogen', overwrite=True)\n",
    "\n",
    "# create multinet and add networks:\n",
    "multinet = create_empty_multinet('tutorial_multinet')\n",
    "add_net_to_multinet(multinet, net_power, 'power')\n",
    "add_net_to_multinet(multinet, net_gas, 'gas')\n",
    "\n",
    "# create elements corresponding to conversion units:\n",
    "p2g_id_el = ppower.create_load(net_power, bus=3, p_mw=2, name=\"power to gas consumption\")\n",
    "p2g_id_gas = ppipes.create_source(net_gas, junction=1, mdot_kg_per_s=0, name=\"power to gas feed in\", fluid=\"hydrogen\")\n",
    "\n",
    "g2p_id_gas = ppipes.create_sink(net_gas, junction=1, mdot_kg_per_s=0.1, name=\"gas to power consumption\")\n",
    "g2p_id_el = ppower.create_sgen(net_power, bus=5, p_mw=0, name=\"fuel cell feed in\")\n",
    "\n",
    "# create coupling controllers:\n",
    "p2g_ctrl = P2GControlMultiEnergy(multinet, p2g_id_el, p2g_id_gas, efficiency=0.7,\n",
    "                                 name_power_net=\"power\", name_gas_net=\"gas\")\n",
    "\n",
    "g2p_ctrl = G2PControlMultiEnergy(multinet, g2p_id_el, g2p_id_gas, efficiency=0.65,\n",
    "                                 name_power_net=\"power\", name_gas_net=\"gas\")\n",
    "\n",
    "# run simulation:\n",
    "run_control(multinet)"
   ]
  },
  {
   "cell_type": "markdown",
   "metadata": {
    "pycharm": {
     "name": "#%% md\n"
    }
   },
   "source": [
    "## Time series simulation\n",
    "Sometimes, the input values (and the corresponding outputs) for conversion units change over time,\n",
    "e.g. during a time series simulation. The MultiEnergy controllers themselves cannot handle time\n",
    "series inputs. However, they can easily be combined with a ConstController that updates the input\n",
    " values according to a time series. After the update of the values, the MultiEnergy controller is\n",
    " executed to\n",
    " calculate and write the output value to the other net. The convenience functions to create both\n",
    " controllers in one step are `coupled_p2g_const_control` and `coupled_g2p_const_control`."
   ]
  },
  {
   "cell_type": "markdown",
   "metadata": {
    "pycharm": {
     "name": "#%% md\n"
    }
   },
   "source": [
    "Here is an example for a coupled time series simulation.\n",
    "First, the nets are prepared like before:"
   ]
  },
  {
   "cell_type": "code",
   "execution_count": 12,
   "metadata": {
    "pycharm": {
     "name": "#%%\n"
    }
   },
   "outputs": [],
   "source": [
    "# prepare just like before\n",
    "net_power = e_nw.example_simple()\n",
    "net_gas = g_nw.gas_meshed_square()\n",
    "net_gas.junction.pn_bar = net_gas.ext_grid.p_bar = 30\n",
    "net_gas.pipe.diameter_m = 0.4\n",
    "net_gas.ext_grid.fluid = 'hydrogen'\n",
    "net_gas.controller.rename(columns={'controller': 'object'}, inplace=True) # due to new version\n",
    "ppipes.create_fluid_from_lib(net_gas, 'hydrogen', overwrite=True)\n",
    "multinet = create_empty_multinet('tutorial_multinet')\n",
    "add_net_to_multinet(multinet, net_power, 'power_net')\n",
    "add_net_to_multinet(multinet, net_gas, 'gas_net')\n",
    "\n",
    "p2g_id_el = ppower.create_load(net_power, bus=3, p_mw=2, name=\"power to gas consumption\")\n",
    "p2g_id_gas = ppipes.create_source(net_gas, junction=1, mdot_kg_per_s=0, name=\"power to gas feed in\", fluid='hydrogen')\n",
    "g2p_id_gas = ppipes.create_sink(net_gas, junction=1, mdot_kg_per_s=0.1, name=\"gas to power consumption\")\n",
    "g2p_id_el = ppower.create_sgen(net_power, bus=5, p_mw=0, name=\"fuel cell feed in\")"
   ]
  },
  {
   "cell_type": "markdown",
   "metadata": {
    "pycharm": {
     "name": "#%% md\n"
    }
   },
   "source": [
    "For the time series, some example data is created and defined as data source."
   ]
  },
  {
   "cell_type": "code",
   "execution_count": 13,
   "metadata": {
    "pycharm": {
     "name": "#%%\n"
    }
   },
   "outputs": [],
   "source": [
    "from pandas import DataFrame\n",
    "from numpy.random import random\n",
    "from pandapower.timeseries import DFData\n",
    "\n",
    "def create_data_source(n_timesteps=10):\n",
    "    profiles = DataFrame()\n",
    "    profiles['power to gas consumption'] = random(n_timesteps) * 2 + 1\n",
    "    profiles['gas to power consumption'] = random(n_timesteps) * 0.1\n",
    "    ds = DFData(profiles)\n",
    "\n",
    "    return profiles, ds\n",
    "\n",
    "profiles, ds = create_data_source(10)"
   ]
  },
  {
   "cell_type": "markdown",
   "metadata": {
    "pycharm": {
     "name": "#%% md\n"
    }
   },
   "source": [
    "Then, output writers are create for the time series simulation:"
   ]
  },
  {
   "cell_type": "code",
   "execution_count": 14,
   "metadata": {
    "pycharm": {
     "name": "#%%\n"
    }
   },
   "outputs": [],
   "source": [
    "from os.path import join, dirname\n",
    "from pandapower.timeseries import OutputWriter\n",
    "\n",
    "def create_output_writers(multinet, time_steps=None):\n",
    "    nets = multinet[\"nets\"]\n",
    "    ows = dict()\n",
    "    for key_net in nets.keys():\n",
    "        ows[key_net] = {}\n",
    "        if isinstance(nets[key_net], ppower.pandapowerNet):\n",
    "            log_variables = [('res_bus', 'vm_pu'),\n",
    "                             ('res_line', 'loading_percent'),\n",
    "                             ('res_line', 'i_ka'),\n",
    "                             ('res_bus', 'p_mw'),\n",
    "                             ('res_bus', 'q_mvar'),\n",
    "                             ('res_load', 'p_mw'),\n",
    "                             ('res_load', 'q_mvar')]\n",
    "            ow = OutputWriter(nets[key_net], time_steps=time_steps,\n",
    "                              log_variables=log_variables,\n",
    "                              output_path=join(dirname('__file__'),'timeseries', 'results', 'power'),\n",
    "                              output_file_type=\".csv\")\n",
    "            ows[key_net] = ow\n",
    "        elif isinstance(nets[key_net], ppipes.pandapipesNet):\n",
    "            log_variables = [('res_sink', 'mdot_kg_per_s'),\n",
    "                             ('res_source', 'mdot_kg_per_s'),\n",
    "                             ('res_ext_grid', 'mdot_kg_per_s'),\n",
    "                             ('res_pipe', 'v_mean_m_per_s'),\n",
    "                             ('res_junction', 'p_bar'),\n",
    "                             ('res_junction', 't_k')]\n",
    "            ow = OutputWriter(nets[key_net], time_steps=time_steps,\n",
    "                              log_variables=log_variables,\n",
    "                              output_path=join(dirname('__file__'), 'timeseries', 'results', 'gas'),\n",
    "                              output_file_type=\".csv\")\n",
    "            ows[key_net] = ow\n",
    "        else:\n",
    "            raise AttributeError(\"Could not create an output writer for nets of kind \" + str(key_net))\n",
    "    return ows\n",
    "\n",
    "ows = create_output_writers(multinet, 10)"
   ]
  },
  {
   "cell_type": "markdown",
   "metadata": {
    "pycharm": {
     "name": "#%% md\n"
    }
   },
   "source": [
    "Now, we add the aforementioned combined controllers."
   ]
  },
  {
   "cell_type": "code",
   "execution_count": 15,
   "metadata": {
    "pycharm": {
     "name": "#%%\n"
    }
   },
   "outputs": [
    {
     "name": "stderr",
     "output_type": "stream",
     "text": [
      "hp.pandapower.control.util.auxiliary - INFO: Creating controller 0 of type <class 'pandapipes.multinet.control.controller.multinet_control.P2GControlMultiEnergy'> \n",
      "hp.pandapower.control.util.auxiliary - INFO: Creating controller 1 of type <class 'pandapipes.multinet.control.controller.multinet_control.G2PControlMultiEnergy'> \n"
     ]
    },
    {
     "data": {
      "text/plain": [
       "(This ConstControl has the following parameters: \n",
       " \n",
       " index:             0\n",
       " json_excludes:     ['self', '__class__'],\n",
       " This G2PControlMultiEnergy has the following parameters: \n",
       " \n",
       " index:             1\n",
       " json_excludes:     ['self', '__class__'])"
      ]
     },
     "execution_count": 15,
     "metadata": {},
     "output_type": "execute_result"
    }
   ],
   "source": [
    "from pandapipes.multinet.control.controller.multinet_control import coupled_p2g_const_control, \\\n",
    "    coupled_g2p_const_control\n",
    "coupled_p2g_const_control(multinet, p2g_id_el, p2g_id_gas,\n",
    "                          name_power_net=\"power_net\", name_gas_net=\"gas_net\",\n",
    "                          profile_name='power to gas consumption', data_source=ds,\n",
    "                          p2g_efficiency=0.7)\n",
    "coupled_g2p_const_control(multinet, g2p_id_el, g2p_id_gas,\n",
    "                          name_power_net=\"power_net\", name_gas_net=\"gas_net\",\n",
    "                          element_type_power=\"sgen\",\n",
    "                          profile_name='gas to power consumption', data_source=ds,\n",
    "                          g2p_efficiency=0.65)"
   ]
  },
  {
   "cell_type": "markdown",
   "metadata": {
    "pycharm": {
     "name": "#%% md\n"
    }
   },
   "source": [
    "The ConstControllers are stored in the separate nets, while the coupling controllers can be found\n",
    "in the multinet:"
   ]
  },
  {
   "cell_type": "code",
   "execution_count": 18,
   "metadata": {
    "pycharm": {
     "name": "#%%\n"
    }
   },
   "outputs": [
    {
     "name": "stdout",
     "output_type": "stream",
     "text": [
      "                  object  in_service  order level  initial_run  recycle\n",
      "0  P2GControlMultiEnergy        True    1.0     0        False    False\n",
      "1  G2PControlMultiEnergy        True    1.0     0        False    False\n",
      "                     object  in_service  order level  initial_run  \\\n",
      "0  ConstControl [load.p_mw]        True    0.0     0        False   \n",
      "\n",
      "                                          recycle  \n",
      "0  {'trafo': False, 'gen': False, 'bus_pq': True}  \n",
      "                              object  in_service  order level  initial_run  \\\n",
      "0  ConstControl [sink.mdot_kg_per_s]        True    0.0     0        False   \n",
      "\n",
      "   recycle  \n",
      "0    False  \n"
     ]
    },
    {
     "data": {
      "text/plain": [
       "This pandapipes network includes the following parameter tables:\n",
       "   - controller (1 elements)\n",
       "   - junction (6 elements)\n",
       "   - junction_geodata (6 elements)\n",
       "   - pipe (6 elements)\n",
       "   - ext_grid (1 elements)\n",
       "   - sink (2 elements)\n",
       "   - source (1 elements)\n",
       "   - output_writer (1 elements).\n",
       "It contains the following fluids: \n",
       "Fluid STANET_fluid (gas) with properties:\n",
       "   - density (Constant)\n",
       "   - viscosity (Constant)\n",
       "   - heat_capacity (Constant)\n",
       "   - der_compressibility (Constant)\n",
       "   - compressibility (Constant)\n",
       "Fluid hydrogen (gas) with properties:\n",
       "   - density (InterExtra)\n",
       "   - viscosity (InterExtra)\n",
       "   - heat_capacity (InterExtra)\n",
       "   - molar_mass (Constant)\n",
       "   - compressibility (Linear)\n",
       "   - der_compressibility (Constant)\n",
       "   - lhv (Constant)\n",
       "   - hhv (Constant)\n",
       "   - critical_data (Constant)\n",
       "and uses the following component models:\n",
       "   - Junction\n",
       "   - Pipe\n",
       "   - ExtGrid\n",
       "   - Sink"
      ]
     },
     "execution_count": 18,
     "metadata": {},
     "output_type": "execute_result"
    }
   ],
   "source": [
    "print(multinet.controller)\n",
    "print(net_power.controller)\n",
    "print(net_gas.controller)\n",
    "net_gas"
   ]
  },
  {
   "cell_type": "markdown",
   "metadata": {
    "pycharm": {
     "name": "#%% md\n"
    }
   },
   "source": [
    "The time series is calculated with a `run_timeseries` function that has been adapted for multinets:"
   ]
  },
  {
   "cell_type": "code",
   "execution_count": 19,
   "metadata": {
    "pycharm": {
     "name": "#%%\n"
    }
   },
   "outputs": [
    {
     "name": "stderr",
     "output_type": "stream",
     "text": [
      "\n",
      "  0%|                                                                                           | 0/10 [00:00<?, ?it/s]\u001b[A"
     ]
    },
    {
     "ename": "AttributeError",
     "evalue": "'pandapipesNet' instance has no attribute '_fluid'",
     "output_type": "error",
     "traceback": [
      "\u001b[1;31m---------------------------------------------------------------------------\u001b[0m",
      "\u001b[1;31mAttributeError\u001b[0m                            Traceback (most recent call last)",
      "Cell \u001b[1;32mIn[19], line 2\u001b[0m\n\u001b[0;32m      1\u001b[0m \u001b[38;5;28;01mfrom\u001b[39;00m \u001b[38;5;21;01mpandapipes\u001b[39;00m\u001b[38;5;21;01m.\u001b[39;00m\u001b[38;5;21;01mmultinet\u001b[39;00m\u001b[38;5;21;01m.\u001b[39;00m\u001b[38;5;21;01mtimeseries\u001b[39;00m\u001b[38;5;21;01m.\u001b[39;00m\u001b[38;5;21;01mrun_time_series_multinet\u001b[39;00m \u001b[38;5;28;01mimport\u001b[39;00m run_timeseries\n\u001b[1;32m----> 2\u001b[0m \u001b[43mrun_timeseries\u001b[49m\u001b[43m(\u001b[49m\u001b[43mmultinet\u001b[49m\u001b[43m,\u001b[49m\u001b[43m \u001b[49m\u001b[43mtime_steps\u001b[49m\u001b[38;5;241;43m=\u001b[39;49m\u001b[38;5;28;43mrange\u001b[39;49m\u001b[43m(\u001b[49m\u001b[38;5;241;43m10\u001b[39;49m\u001b[43m)\u001b[49m\u001b[43m,\u001b[49m\u001b[43m \u001b[49m\u001b[43moutput_writers\u001b[49m\u001b[38;5;241;43m=\u001b[39;49m\u001b[43mows\u001b[49m\u001b[43m)\u001b[49m\n",
      "File \u001b[1;32m~\\git\\pandapipes\\pandapipes\\multinet\\timeseries\\run_time_series_multinet.py:129\u001b[0m, in \u001b[0;36mrun_timeseries\u001b[1;34m(multinet, time_steps, continue_on_divergence, verbose, **kwargs)\u001b[0m\n\u001b[0;32m    126\u001b[0m \u001b[38;5;28;01mfor\u001b[39;00m net_name \u001b[38;5;129;01min\u001b[39;00m multinet[\u001b[38;5;124m'\u001b[39m\u001b[38;5;124mnets\u001b[39m\u001b[38;5;124m'\u001b[39m]\u001b[38;5;241m.\u001b[39mkeys():\n\u001b[0;32m    127\u001b[0m     control_diagnostic(multinet[\u001b[38;5;124m'\u001b[39m\u001b[38;5;124mnets\u001b[39m\u001b[38;5;124m'\u001b[39m][net_name])\n\u001b[1;32m--> 129\u001b[0m run_loop(multinet, ts_variables, run_control, _call_output_writer, \u001b[38;5;241m*\u001b[39m\u001b[38;5;241m*\u001b[39mkwargs)\n\u001b[0;32m    131\u001b[0m \u001b[38;5;66;03m# cleanup functions after the last time step was calculated\u001b[39;00m\n\u001b[0;32m    132\u001b[0m \u001b[38;5;28;01mfor\u001b[39;00m net_name \u001b[38;5;129;01min\u001b[39;00m multinet[\u001b[38;5;124m'\u001b[39m\u001b[38;5;124mnets\u001b[39m\u001b[38;5;124m'\u001b[39m]\u001b[38;5;241m.\u001b[39mkeys():\n",
      "File \u001b[1;32m~\\git\\pandapower\\pandapower\\timeseries\\run_time_series.py:324\u001b[0m, in \u001b[0;36mrun_loop\u001b[1;34m(net, ts_variables, run_control_fct, output_writer_fct, **kwargs)\u001b[0m\n\u001b[0;32m    321\u001b[0m \u001b[38;5;28;01mfor\u001b[39;00m i, time_step \u001b[38;5;129;01min\u001b[39;00m \u001b[38;5;28menumerate\u001b[39m(ts_variables[\u001b[38;5;124m\"\u001b[39m\u001b[38;5;124mtime_steps\u001b[39m\u001b[38;5;124m\"\u001b[39m]):\n\u001b[0;32m    322\u001b[0m     print_progress(i, time_step, ts_variables[\u001b[38;5;124m\"\u001b[39m\u001b[38;5;124mtime_steps\u001b[39m\u001b[38;5;124m\"\u001b[39m], ts_variables[\u001b[38;5;124m\"\u001b[39m\u001b[38;5;124mverbose\u001b[39m\u001b[38;5;124m\"\u001b[39m], ts_variables\u001b[38;5;241m=\u001b[39mts_variables,\n\u001b[0;32m    323\u001b[0m                    \u001b[38;5;241m*\u001b[39m\u001b[38;5;241m*\u001b[39mkwargs)\n\u001b[1;32m--> 324\u001b[0m     run_time_step(net, time_step, ts_variables, run_control_fct, output_writer_fct, \u001b[38;5;241m*\u001b[39m\u001b[38;5;241m*\u001b[39mkwargs)\n",
      "File \u001b[1;32m~\\git\\pandapower\\pandapower\\timeseries\\run_time_series.py:129\u001b[0m, in \u001b[0;36mrun_time_step\u001b[1;34m(net, time_step, ts_variables, run_control_fct, output_writer_fct, **kwargs)\u001b[0m\n\u001b[0;32m    125\u001b[0m control_time_step(ts_variables[\u001b[38;5;124m'\u001b[39m\u001b[38;5;124mcontroller_order\u001b[39m\u001b[38;5;124m'\u001b[39m], time_step)\n\u001b[0;32m    127\u001b[0m \u001b[38;5;28;01mtry\u001b[39;00m:\n\u001b[0;32m    128\u001b[0m     \u001b[38;5;66;03m# calls controller init, control steps and run function (runpp usually is called in here)\u001b[39;00m\n\u001b[1;32m--> 129\u001b[0m     run_control_fct(net, ctrl_variables\u001b[38;5;241m=\u001b[39mts_variables, \u001b[38;5;241m*\u001b[39m\u001b[38;5;241m*\u001b[39mkwargs)\n\u001b[0;32m    130\u001b[0m \u001b[38;5;28;01mexcept\u001b[39;00m ControllerNotConverged:\n\u001b[0;32m    131\u001b[0m     ctrl_converged \u001b[38;5;241m=\u001b[39m \u001b[38;5;28;01mFalse\u001b[39;00m\n",
      "File \u001b[1;32m~\\git\\pandapipes\\pandapipes\\multinet\\control\\run_control_multinet.py:165\u001b[0m, in \u001b[0;36mrun_control\u001b[1;34m(multinet, ctrl_variables, max_iter, **kwargs)\u001b[0m\n\u001b[0;32m    162\u001b[0m ctrl_variables \u001b[38;5;241m=\u001b[39m net_initialization_multinet(multinet, ctrl_variables, \u001b[38;5;241m*\u001b[39m\u001b[38;5;241m*\u001b[39mkwargs)\n\u001b[0;32m    164\u001b[0m \u001b[38;5;66;03m# run each controller step in given controller order\u001b[39;00m\n\u001b[1;32m--> 165\u001b[0m control_implementation(multinet, controller_order, ctrl_variables, max_iter,\n\u001b[0;32m    166\u001b[0m                        evaluate_net_fct\u001b[38;5;241m=\u001b[39m_evaluate_multinet, \u001b[38;5;241m*\u001b[39m\u001b[38;5;241m*\u001b[39mkwargs)\n\u001b[0;32m    168\u001b[0m \u001b[38;5;66;03m# call finalize function of each controller\u001b[39;00m\n\u001b[0;32m    169\u001b[0m control_finalization(controller_order)\n",
      "File \u001b[1;32m~\\git\\pandapower\\pandapower\\control\\run_control.py:214\u001b[0m, in \u001b[0;36mcontrol_implementation\u001b[1;34m(net, controller_order, ctrl_variables, max_iter, evaluate_net_fct, **kwargs)\u001b[0m\n\u001b[0;32m    212\u001b[0m run_count \u001b[38;5;241m=\u001b[39m \u001b[38;5;241m0\u001b[39m\n\u001b[0;32m    213\u001b[0m \u001b[38;5;28;01mwhile\u001b[39;00m \u001b[38;5;129;01mnot\u001b[39;00m ctrl_converged \u001b[38;5;129;01mand\u001b[39;00m run_count \u001b[38;5;241m<\u001b[39m\u001b[38;5;241m=\u001b[39m max_iter \u001b[38;5;129;01mand\u001b[39;00m converged:\n\u001b[1;32m--> 214\u001b[0m     ctrl_converged \u001b[38;5;241m=\u001b[39m \u001b[43m_control_step\u001b[49m\u001b[43m(\u001b[49m\u001b[43mlevelorder\u001b[49m\u001b[43m,\u001b[49m\u001b[43m \u001b[49m\u001b[43mrun_count\u001b[49m\u001b[43m)\u001b[49m\n\u001b[0;32m    215\u001b[0m     \u001b[38;5;66;03m# call to run function (usually runpp) after each controller was called\u001b[39;00m\n\u001b[0;32m    216\u001b[0m     \u001b[38;5;66;03m# this function is called at least once per level\u001b[39;00m\n\u001b[0;32m    217\u001b[0m     \u001b[38;5;28;01mif\u001b[39;00m \u001b[38;5;129;01mnot\u001b[39;00m ctrl_converged:\n",
      "File \u001b[1;32m~\\git\\pandapower\\pandapower\\control\\run_control.py:239\u001b[0m, in \u001b[0;36m_control_step\u001b[1;34m(levelorder, run_count)\u001b[0m\n\u001b[0;32m    236\u001b[0m \u001b[38;5;28;01mfor\u001b[39;00m ctrl, net \u001b[38;5;129;01min\u001b[39;00m levelorder:\n\u001b[0;32m    237\u001b[0m     \u001b[38;5;66;03m# call control step while controller ist not converged yet\u001b[39;00m\n\u001b[0;32m    238\u001b[0m     \u001b[38;5;28;01mif\u001b[39;00m \u001b[38;5;129;01mnot\u001b[39;00m ctrl\u001b[38;5;241m.\u001b[39mis_converged(net):\n\u001b[1;32m--> 239\u001b[0m         \u001b[43mctrl\u001b[49m\u001b[38;5;241;43m.\u001b[39;49m\u001b[43mcontrol_step\u001b[49m\u001b[43m(\u001b[49m\u001b[43mnet\u001b[49m\u001b[43m)\u001b[49m\n\u001b[0;32m    240\u001b[0m         converged \u001b[38;5;241m=\u001b[39m \u001b[38;5;28;01mFalse\u001b[39;00m\n\u001b[0;32m    241\u001b[0m \u001b[38;5;28;01mreturn\u001b[39;00m converged\n",
      "File \u001b[1;32m~\\git\\pandapipes\\pandapipes\\multinet\\control\\controller\\multinet_control.py:91\u001b[0m, in \u001b[0;36mP2GControlMultiEnergy.control_step\u001b[1;34m(self, multinet)\u001b[0m\n\u001b[0;32m     90\u001b[0m \u001b[38;5;28;01mdef\u001b[39;00m \u001b[38;5;21mcontrol_step\u001b[39m(\u001b[38;5;28mself\u001b[39m, multinet):\n\u001b[1;32m---> 91\u001b[0m     \u001b[38;5;28;01mif\u001b[39;00m \u001b[38;5;28mlen\u001b[39m(\u001b[43mmultinet\u001b[49m\u001b[38;5;241;43m.\u001b[39;49m\u001b[43mnets\u001b[49m\u001b[43m[\u001b[49m\u001b[38;5;28;43mself\u001b[39;49m\u001b[38;5;241;43m.\u001b[39;49m\u001b[43mname_net_gas\u001b[49m\u001b[43m]\u001b[49m\u001b[38;5;241;43m.\u001b[39;49m\u001b[43m_fluid\u001b[49m) \u001b[38;5;241m!=\u001b[39m \u001b[38;5;241m1\u001b[39m:\n\u001b[0;32m     92\u001b[0m         net \u001b[38;5;241m=\u001b[39m multinet\u001b[38;5;241m.\u001b[39mnets[\u001b[38;5;28mself\u001b[39m\u001b[38;5;241m.\u001b[39mname_net_gas]\n\u001b[0;32m     93\u001b[0m         w \u001b[38;5;241m=\u001b[39m get_lookup(net, \u001b[38;5;124m'\u001b[39m\u001b[38;5;124mnode\u001b[39m\u001b[38;5;124m'\u001b[39m, \u001b[38;5;124m'\u001b[39m\u001b[38;5;124mw\u001b[39m\u001b[38;5;124m'\u001b[39m)\n",
      "File \u001b[1;32m~\\git\\pandapower\\pandapower\\auxiliary.py:186\u001b[0m, in \u001b[0;36mADict.__getattr__\u001b[1;34m(self, key)\u001b[0m\n\u001b[0;32m    182\u001b[0m \u001b[38;5;250m\u001b[39m\u001b[38;5;124;03m\"\"\"\u001b[39;00m\n\u001b[0;32m    183\u001b[0m \u001b[38;5;124;03mAccess an item as an attribute.\u001b[39;00m\n\u001b[0;32m    184\u001b[0m \u001b[38;5;124;03m\"\"\"\u001b[39;00m\n\u001b[0;32m    185\u001b[0m \u001b[38;5;28;01mif\u001b[39;00m key \u001b[38;5;129;01mnot\u001b[39;00m \u001b[38;5;129;01min\u001b[39;00m \u001b[38;5;28mself\u001b[39m \u001b[38;5;129;01mor\u001b[39;00m \u001b[38;5;129;01mnot\u001b[39;00m \u001b[38;5;28mself\u001b[39m\u001b[38;5;241m.\u001b[39m_valid_name(key):\n\u001b[1;32m--> 186\u001b[0m     \u001b[38;5;28;01mraise\u001b[39;00m \u001b[38;5;167;01mAttributeError\u001b[39;00m(\n\u001b[0;32m    187\u001b[0m         \u001b[38;5;124m\"\u001b[39m\u001b[38;5;124m'\u001b[39m\u001b[38;5;132;01m{cls}\u001b[39;00m\u001b[38;5;124m'\u001b[39m\u001b[38;5;124m instance has no attribute \u001b[39m\u001b[38;5;124m'\u001b[39m\u001b[38;5;132;01m{name}\u001b[39;00m\u001b[38;5;124m'\u001b[39m\u001b[38;5;124m\"\u001b[39m\u001b[38;5;241m.\u001b[39mformat(\n\u001b[0;32m    188\u001b[0m             \u001b[38;5;28mcls\u001b[39m\u001b[38;5;241m=\u001b[39m\u001b[38;5;28mself\u001b[39m\u001b[38;5;241m.\u001b[39m\u001b[38;5;18m__class__\u001b[39m\u001b[38;5;241m.\u001b[39m\u001b[38;5;18m__name__\u001b[39m, name\u001b[38;5;241m=\u001b[39mkey\n\u001b[0;32m    189\u001b[0m         )\n\u001b[0;32m    190\u001b[0m     )\n\u001b[0;32m    192\u001b[0m \u001b[38;5;28;01mreturn\u001b[39;00m \u001b[38;5;28mself\u001b[39m\u001b[38;5;241m.\u001b[39m_build(\u001b[38;5;28mself\u001b[39m[key])\n",
      "\u001b[1;31mAttributeError\u001b[0m: 'pandapipesNet' instance has no attribute '_fluid'"
     ]
    }
   ],
   "source": [
    "from pandapipes.multinet.timeseries.run_time_series_multinet import run_timeseries\n",
    "run_timeseries(multinet, time_steps=range(10), output_writers=ows)"
   ]
  },
  {
   "cell_type": "code",
   "execution_count": null,
   "metadata": {},
   "outputs": [],
   "source": []
  }
 ],
 "metadata": {
  "kernelspec": {
   "display_name": "Python 3 (ipykernel)",
   "language": "python",
   "name": "python3"
  },
  "language_info": {
   "codemirror_mode": {
    "name": "ipython",
    "version": 3
   },
   "file_extension": ".py",
   "mimetype": "text/x-python",
   "name": "python",
   "nbconvert_exporter": "python",
   "pygments_lexer": "ipython3",
   "version": "3.10.8"
  }
 },
 "nbformat": 4,
 "nbformat_minor": 1
}

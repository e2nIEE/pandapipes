{
 "cells": [
  {
   "cell_type": "markdown",
   "metadata": {},
   "source": [
    "# Creating a pandapipes network including height differences"
   ]
  },
  {
   "cell_type": "markdown",
   "metadata": {},
   "source": [
    "This tutorial shows how to define junctions on different height levels. The following network will be created.\n",
    "\n",
    "<img src=\"pics/rng_height.png\">"
   ]
  },
  {
   "cell_type": "markdown",
   "metadata": {},
   "source": [
    "### Empty network"
   ]
  },
  {
   "cell_type": "markdown",
   "metadata": {},
   "source": [
    "At first, pandapipes is imported. We will then create an empty network container and specify the\n",
    "fluid. The fluid water from the pandapipes library is used."
   ]
  },
  {
   "cell_type": "code",
   "execution_count": 1,
   "metadata": {
    "scrolled": true
   },
   "outputs": [],
   "source": [
    "import pandapipes as pp"
   ]
  },
  {
   "cell_type": "code",
   "execution_count": 2,
   "metadata": {},
   "outputs": [],
   "source": [
    "net = pp.create_empty_network(fluid=\"water\") # create an empty network"
   ]
  },
  {
   "cell_type": "markdown",
   "metadata": {},
   "source": [
    "The <span style=\"color:blue\">create</span> functions are used to create more components. The components will be added to the corresponding component tables."
   ]
  },
  {
   "cell_type": "markdown",
   "metadata": {},
   "source": [
    "### Junctions"
   ]
  },
  {
   "cell_type": "code",
   "execution_count": 3,
   "metadata": {},
   "outputs": [],
   "source": [
    "junction1 = pp.create_junction(net, pn_bar=1.0, tfluid_k=293.15, height_m = 352, name=\"Junction 1\")\n",
    "junction2 = pp.create_junction(net, pn_bar=1.0, tfluid_k=293.15, height_m = 358, name=\"Junction 2\")\n",
    "junction3 = pp.create_junction(net, pn_bar=1.0, tfluid_k=293.15, height_m = 361, name=\"Junction 3\")\n",
    "junction4 = pp.create_junction(net, pn_bar=1.0, tfluid_k=293.15, height_m = 346, name=\"Junction 4\")\n",
    "junction5 = pp.create_junction(net, pn_bar=1.0, tfluid_k=293.15, height_m = 400, name=\"Junction 5\")"
   ]
  },
  {
   "cell_type": "markdown",
   "metadata": {},
   "source": [
    "The junctions are now stored in the net and can be called. Some parameters, which were not explicitly mentioned in the last section, were defined using default values. Note that the parameters of the junctions above contain the parameter height_m, which defines the height above sea level of the junction. The stored potential energy is automatically respected by pandapipes."
   ]
  },
  {
   "cell_type": "code",
   "execution_count": 4,
   "metadata": {},
   "outputs": [
    {
     "data": {
      "text/plain": "         name  pn_bar  tfluid_k  height_m  in_service      type\n0  Junction 1     1.0    293.15     352.0        True  junction\n1  Junction 2     1.0    293.15     358.0        True  junction\n2  Junction 3     1.0    293.15     361.0        True  junction\n3  Junction 4     1.0    293.15     346.0        True  junction\n4  Junction 5     1.0    293.15     400.0        True  junction",
      "text/html": "<div>\n<style scoped>\n    .dataframe tbody tr th:only-of-type {\n        vertical-align: middle;\n    }\n\n    .dataframe tbody tr th {\n        vertical-align: top;\n    }\n\n    .dataframe thead th {\n        text-align: right;\n    }\n</style>\n<table border=\"1\" class=\"dataframe\">\n  <thead>\n    <tr style=\"text-align: right;\">\n      <th></th>\n      <th>name</th>\n      <th>pn_bar</th>\n      <th>tfluid_k</th>\n      <th>height_m</th>\n      <th>in_service</th>\n      <th>type</th>\n    </tr>\n  </thead>\n  <tbody>\n    <tr>\n      <th>0</th>\n      <td>Junction 1</td>\n      <td>1.0</td>\n      <td>293.15</td>\n      <td>352.0</td>\n      <td>True</td>\n      <td>junction</td>\n    </tr>\n    <tr>\n      <th>1</th>\n      <td>Junction 2</td>\n      <td>1.0</td>\n      <td>293.15</td>\n      <td>358.0</td>\n      <td>True</td>\n      <td>junction</td>\n    </tr>\n    <tr>\n      <th>2</th>\n      <td>Junction 3</td>\n      <td>1.0</td>\n      <td>293.15</td>\n      <td>361.0</td>\n      <td>True</td>\n      <td>junction</td>\n    </tr>\n    <tr>\n      <th>3</th>\n      <td>Junction 4</td>\n      <td>1.0</td>\n      <td>293.15</td>\n      <td>346.0</td>\n      <td>True</td>\n      <td>junction</td>\n    </tr>\n    <tr>\n      <th>4</th>\n      <td>Junction 5</td>\n      <td>1.0</td>\n      <td>293.15</td>\n      <td>400.0</td>\n      <td>True</td>\n      <td>junction</td>\n    </tr>\n  </tbody>\n</table>\n</div>"
     },
     "execution_count": 4,
     "metadata": {},
     "output_type": "execute_result"
    }
   ],
   "source": [
    "net.junction # show junction table"
   ]
  },
  {
   "cell_type": "markdown",
   "metadata": {},
   "source": [
    "In the next steps, more components are added."
   ]
  },
  {
   "cell_type": "markdown",
   "metadata": {},
   "source": [
    "### External Grid"
   ]
  },
  {
   "cell_type": "markdown",
   "metadata": {},
   "source": [
    "In the example, the external grid is connected to junction5. The pressure is at 0.5 bar."
   ]
  },
  {
   "cell_type": "code",
   "execution_count": 5,
   "metadata": {},
   "outputs": [
    {
     "data": {
      "text/plain": "              name  junction  p_bar     t_k  in_service type\n0  Grid Connection         4    0.5  293.15        True   pt",
      "text/html": "<div>\n<style scoped>\n    .dataframe tbody tr th:only-of-type {\n        vertical-align: middle;\n    }\n\n    .dataframe tbody tr th {\n        vertical-align: top;\n    }\n\n    .dataframe thead th {\n        text-align: right;\n    }\n</style>\n<table border=\"1\" class=\"dataframe\">\n  <thead>\n    <tr style=\"text-align: right;\">\n      <th></th>\n      <th>name</th>\n      <th>junction</th>\n      <th>p_bar</th>\n      <th>t_k</th>\n      <th>in_service</th>\n      <th>type</th>\n    </tr>\n  </thead>\n  <tbody>\n    <tr>\n      <th>0</th>\n      <td>Grid Connection</td>\n      <td>4</td>\n      <td>0.5</td>\n      <td>293.15</td>\n      <td>True</td>\n      <td>pt</td>\n    </tr>\n  </tbody>\n</table>\n</div>"
     },
     "execution_count": 5,
     "metadata": {},
     "output_type": "execute_result"
    }
   ],
   "source": [
    "medium_pressure_grid = pp.create_ext_grid(net, junction=junction5, p_bar=0.5, t_k=293.15, name=\"Grid Connection\")\n",
    "\n",
    "net.ext_grid # show external grid table"
   ]
  },
  {
   "cell_type": "markdown",
   "metadata": {},
   "source": [
    "### Pipes"
   ]
  },
  {
   "cell_type": "markdown",
   "metadata": {},
   "source": [
    "The network contains four pipes. The lenghts and the junctions are displayed on the network\n",
    "figure. Pipe 4 is defined using a roughness k_mm of 0.5 mm, which deviates from the default\n",
    "value of 1 mm."
   ]
  },
  {
   "cell_type": "code",
   "execution_count": 6,
   "metadata": {},
   "outputs": [],
   "source": [
    "pipe1 = pp.create_pipe_from_parameters(net, from_junction=junction1, to_junction=junction2, length_km=0.545, diameter_m=0.2,  name=\"Pipe 1\")\n",
    "pipe2 = pp.create_pipe_from_parameters(net, from_junction=junction2, to_junction=junction3, length_km=0.095, diameter_m=0.15, name=\"Pipe 2\")\n",
    "pipe3 = pp.create_pipe_from_parameters(net, from_junction=junction1, to_junction=junction4, length_km=0.285, diameter_m=0.15, name=\"Pipe 3\")\n",
    "pipe4 = pp.create_pipe_from_parameters(net, from_junction=junction1, to_junction=junction5, length_km=0.43, diameter_m=0.15, k_mm=0.5, name=\"Pipe 4\")"
   ]
  },
  {
   "cell_type": "markdown",
   "metadata": {},
   "source": [
    "Up to now, the pipe components table looks like the table displayed in the following section:"
   ]
  },
  {
   "cell_type": "code",
   "execution_count": 7,
   "metadata": {},
   "outputs": [
    {
     "data": {
      "text/plain": "     name  from_junction  to_junction std_type  length_km  diameter_m  k_mm  \\\n0  Pipe 1              0            1     None      0.545        0.20   1.0   \n1  Pipe 2              1            2     None      0.095        0.15   1.0   \n2  Pipe 3              0            3     None      0.285        0.15   1.0   \n3  Pipe 4              0            4     None      0.430        0.15   0.5   \n\n   loss_coefficient  u_w_per_m2k  text_k  qext_w  sections  in_service  \\\n0               0.0              0.0   293.0     0.0         1        True   \n1               0.0              0.0   293.0     0.0         1        True   \n2               0.0              0.0   293.0     0.0         1        True   \n3               0.0              0.0   293.0     0.0         1        True   \n\n   type  \n0  pipe  \n1  pipe  \n2  pipe  \n3  pipe  ",
      "text/html": "<div>\n<style scoped>\n    .dataframe tbody tr th:only-of-type {\n        vertical-align: middle;\n    }\n\n    .dataframe tbody tr th {\n        vertical-align: top;\n    }\n\n    .dataframe thead th {\n        text-align: right;\n    }\n</style>\n<table border=\"1\" class=\"dataframe\">\n  <thead>\n    <tr style=\"text-align: right;\">\n      <th></th>\n      <th>name</th>\n      <th>from_junction</th>\n      <th>to_junction</th>\n      <th>std_type</th>\n      <th>length_km</th>\n      <th>diameter_m</th>\n      <th>k_mm</th>\n      <th>loss_coefficient</th>\n      <th>u_w_per_m2k</th>\n      <th>text_k</th>\n      <th>qext_w</th>\n      <th>sections</th>\n      <th>in_service</th>\n      <th>type</th>\n    </tr>\n  </thead>\n  <tbody>\n    <tr>\n      <th>0</th>\n      <td>Pipe 1</td>\n      <td>0</td>\n      <td>1</td>\n      <td>None</td>\n      <td>0.545</td>\n      <td>0.20</td>\n      <td>1.0</td>\n      <td>0.0</td>\n      <td>0.0</td>\n      <td>293.0</td>\n      <td>0.0</td>\n      <td>1</td>\n      <td>True</td>\n      <td>pipe</td>\n    </tr>\n    <tr>\n      <th>1</th>\n      <td>Pipe 2</td>\n      <td>1</td>\n      <td>2</td>\n      <td>None</td>\n      <td>0.095</td>\n      <td>0.15</td>\n      <td>1.0</td>\n      <td>0.0</td>\n      <td>0.0</td>\n      <td>293.0</td>\n      <td>0.0</td>\n      <td>1</td>\n      <td>True</td>\n      <td>pipe</td>\n    </tr>\n    <tr>\n      <th>2</th>\n      <td>Pipe 3</td>\n      <td>0</td>\n      <td>3</td>\n      <td>None</td>\n      <td>0.285</td>\n      <td>0.15</td>\n      <td>1.0</td>\n      <td>0.0</td>\n      <td>0.0</td>\n      <td>293.0</td>\n      <td>0.0</td>\n      <td>1</td>\n      <td>True</td>\n      <td>pipe</td>\n    </tr>\n    <tr>\n      <th>3</th>\n      <td>Pipe 4</td>\n      <td>0</td>\n      <td>4</td>\n      <td>None</td>\n      <td>0.430</td>\n      <td>0.15</td>\n      <td>0.5</td>\n      <td>0.0</td>\n      <td>0.0</td>\n      <td>293.0</td>\n      <td>0.0</td>\n      <td>1</td>\n      <td>True</td>\n      <td>pipe</td>\n    </tr>\n  </tbody>\n</table>\n</div>"
     },
     "execution_count": 7,
     "metadata": {},
     "output_type": "execute_result"
    }
   ],
   "source": [
    "net.pipe # show pipe table"
   ]
  },
  {
   "cell_type": "markdown",
   "metadata": {},
   "source": [
    "The parameters `from_junction` and `to_junction` define the orientation of the pipe. If the flow\n",
    "enters the pipe at the `from_junction` node and leaves it through the `to_junction` node, the\n",
    "velocity will have a positive sign. Otherwise, it has a negative sign."
   ]
  },
  {
   "cell_type": "markdown",
   "metadata": {},
   "source": [
    "### Sinks\n"
   ]
  },
  {
   "cell_type": "markdown",
   "metadata": {},
   "source": [
    "With a sink, a constant mass flow can be defined. Here, we will create two sinks with mass flows of\n",
    "277 g/s and 139 g/s. Sinks and sources are always assigned to a specific junction. The sign of the\n",
    "mass flow is positive, if a mass flow is removed from the system."
   ]
  },
  {
   "cell_type": "code",
   "execution_count": 8,
   "metadata": {},
   "outputs": [
    {
     "data": {
      "text/plain": "     name  junction  mdot_kg_per_s  scaling  in_service  type\n0  Sink 1         3          0.277      1.0        True  sink\n1  Sink 2         2          0.139      1.0        True  sink",
      "text/html": "<div>\n<style scoped>\n    .dataframe tbody tr th:only-of-type {\n        vertical-align: middle;\n    }\n\n    .dataframe tbody tr th {\n        vertical-align: top;\n    }\n\n    .dataframe thead th {\n        text-align: right;\n    }\n</style>\n<table border=\"1\" class=\"dataframe\">\n  <thead>\n    <tr style=\"text-align: right;\">\n      <th></th>\n      <th>name</th>\n      <th>junction</th>\n      <th>mdot_kg_per_s</th>\n      <th>scaling</th>\n      <th>in_service</th>\n      <th>type</th>\n    </tr>\n  </thead>\n  <tbody>\n    <tr>\n      <th>0</th>\n      <td>Sink 1</td>\n      <td>3</td>\n      <td>0.277</td>\n      <td>1.0</td>\n      <td>True</td>\n      <td>sink</td>\n    </tr>\n    <tr>\n      <th>1</th>\n      <td>Sink 2</td>\n      <td>2</td>\n      <td>0.139</td>\n      <td>1.0</td>\n      <td>True</td>\n      <td>sink</td>\n    </tr>\n  </tbody>\n</table>\n</div>"
     },
     "execution_count": 8,
     "metadata": {},
     "output_type": "execute_result"
    }
   ],
   "source": [
    "sink = pp.create_sink(net, junction=junction4, mdot_kg_per_s=0.277, name=\"Sink 1\")\n",
    "sink = pp.create_sink(net, junction=junction3, mdot_kg_per_s=0.139, name=\"Sink 2\")\n",
    "net.sink"
   ]
  },
  {
   "cell_type": "markdown",
   "metadata": {},
   "source": [
    "The calculation is now started. The pipe friction can be respected using different models. By default, the Nikuradse model is used. A distinction between laminar and turbulent flow is not implemented in pandapipes. Typically, pipe calculation software detects the kind of flow. However, for pandapipes applications, we usually can expect turbulent flow conditions.\n",
    "\n",
    "Nevertheless, a distinction between laminar and turbulent flow will be added in the future."
   ]
  },
  {
   "cell_type": "code",
   "execution_count": 9,
   "metadata": {
    "pycharm": {
     "name": "#%%\n"
    }
   },
   "outputs": [],
   "source": [
    "pp.pipeflow(net, friction_model=\"nikuradse\")"
   ]
  },
  {
   "cell_type": "markdown",
   "metadata": {
    "pycharm": {
     "name": "#%% md\n"
    }
   },
   "source": [
    "The results are ready now and can be displayed with the following commands:"
   ]
  },
  {
   "cell_type": "code",
   "execution_count": 10,
   "metadata": {
    "pycharm": {
     "name": "#%%\n"
    }
   },
   "outputs": [
    {
     "data": {
      "text/plain": "      p_bar     t_k\n0  5.194289  293.15\n1  4.607432  293.15\n2  4.314000  293.15\n3  5.780977  293.15\n4  0.500000  293.15",
      "text/html": "<div>\n<style scoped>\n    .dataframe tbody tr th:only-of-type {\n        vertical-align: middle;\n    }\n\n    .dataframe tbody tr th {\n        vertical-align: top;\n    }\n\n    .dataframe thead th {\n        text-align: right;\n    }\n</style>\n<table border=\"1\" class=\"dataframe\">\n  <thead>\n    <tr style=\"text-align: right;\">\n      <th></th>\n      <th>p_bar</th>\n      <th>t_k</th>\n    </tr>\n  </thead>\n  <tbody>\n    <tr>\n      <th>0</th>\n      <td>5.194289</td>\n      <td>293.15</td>\n    </tr>\n    <tr>\n      <th>1</th>\n      <td>4.607432</td>\n      <td>293.15</td>\n    </tr>\n    <tr>\n      <th>2</th>\n      <td>4.314000</td>\n      <td>293.15</td>\n    </tr>\n    <tr>\n      <th>3</th>\n      <td>5.780977</td>\n      <td>293.15</td>\n    </tr>\n    <tr>\n      <th>4</th>\n      <td>0.500000</td>\n      <td>293.15</td>\n    </tr>\n  </tbody>\n</table>\n</div>"
     },
     "execution_count": 10,
     "metadata": {},
     "output_type": "execute_result"
    }
   ],
   "source": [
    "net.res_junction  # calculated pressure and temperature at junctions"
   ]
  },
  {
   "cell_type": "code",
   "execution_count": 11,
   "metadata": {
    "pycharm": {
     "name": "#%%\n"
    }
   },
   "outputs": [
    {
     "data": {
      "text/plain": "   v_mean_m_per_s  p_from_bar  p_to_bar  t_from_k  t_to_k  mdot_from_kg_per_s  \\\n0        0.004433    5.194289  4.607432    293.15  293.15               0.139   \n1        0.007880    4.607432  4.314000    293.15  293.15               0.139   \n2        0.015704    5.194289  5.780977    293.15  293.15               0.277   \n3       -0.023584    5.194289  0.500000    293.15  293.15              -0.416   \n\n   mdot_to_kg_per_s  vdot_norm_m3_per_s     reynolds    lambda  \n0            -0.139            0.000139   886.106589  0.102569  \n1            -0.139            0.000139  1181.475451  0.087337  \n2            -0.277            0.000278  2354.451079  0.060350  \n3             0.416           -0.000417  3535.926531  0.045036  ",
      "text/html": "<div>\n<style scoped>\n    .dataframe tbody tr th:only-of-type {\n        vertical-align: middle;\n    }\n\n    .dataframe tbody tr th {\n        vertical-align: top;\n    }\n\n    .dataframe thead th {\n        text-align: right;\n    }\n</style>\n<table border=\"1\" class=\"dataframe\">\n  <thead>\n    <tr style=\"text-align: right;\">\n      <th></th>\n      <th>v_mean_m_per_s</th>\n      <th>p_from_bar</th>\n      <th>p_to_bar</th>\n      <th>t_from_k</th>\n      <th>t_to_k</th>\n      <th>mdot_from_kg_per_s</th>\n      <th>mdot_to_kg_per_s</th>\n      <th>vdot_norm_m3_per_s</th>\n      <th>reynolds</th>\n      <th>lambda</th>\n    </tr>\n  </thead>\n  <tbody>\n    <tr>\n      <th>0</th>\n      <td>0.004433</td>\n      <td>5.194289</td>\n      <td>4.607432</td>\n      <td>293.15</td>\n      <td>293.15</td>\n      <td>0.139</td>\n      <td>-0.139</td>\n      <td>0.000139</td>\n      <td>886.106589</td>\n      <td>0.102569</td>\n    </tr>\n    <tr>\n      <th>1</th>\n      <td>0.007880</td>\n      <td>4.607432</td>\n      <td>4.314000</td>\n      <td>293.15</td>\n      <td>293.15</td>\n      <td>0.139</td>\n      <td>-0.139</td>\n      <td>0.000139</td>\n      <td>1181.475451</td>\n      <td>0.087337</td>\n    </tr>\n    <tr>\n      <th>2</th>\n      <td>0.015704</td>\n      <td>5.194289</td>\n      <td>5.780977</td>\n      <td>293.15</td>\n      <td>293.15</td>\n      <td>0.277</td>\n      <td>-0.277</td>\n      <td>0.000278</td>\n      <td>2354.451079</td>\n      <td>0.060350</td>\n    </tr>\n    <tr>\n      <th>3</th>\n      <td>-0.023584</td>\n      <td>5.194289</td>\n      <td>0.500000</td>\n      <td>293.15</td>\n      <td>293.15</td>\n      <td>-0.416</td>\n      <td>0.416</td>\n      <td>-0.000417</td>\n      <td>3535.926531</td>\n      <td>0.045036</td>\n    </tr>\n  </tbody>\n</table>\n</div>"
     },
     "execution_count": 11,
     "metadata": {},
     "output_type": "execute_result"
    }
   ],
   "source": [
    "net.res_pipe  # velocities, mass flows through pipes and other results"
   ]
  },
  {
   "cell_type": "markdown",
   "metadata": {},
   "source": [
    "## Plotting\n",
    "\n",
    "Using matplotlib, the network can easily be plotted."
   ]
  },
  {
   "cell_type": "code",
   "execution_count": 12,
   "metadata": {},
   "outputs": [
    {
     "name": "stderr",
     "output_type": "stream",
     "text": [
      "hp.pandapipes.plotting.simple_plot - WARNING: No or insufficient geodata available --> Creating artificial coordinates. This may take some time\n"
     ]
    },
    {
     "data": {
      "text/plain": "<Figure size 720x576 with 1 Axes>",
      "image/png": "[encoded data removed]"
     },
     "metadata": {},
     "output_type": "display_data"
    },
    {
     "data": {
      "text/plain": "<AxesSubplot:>"
     },
     "execution_count": 12,
     "metadata": {},
     "output_type": "execute_result"
    }
   ],
   "source": [
    "import matplotlib\n",
    "from pandapipes.plotting.simple_plot import simple_plot as sp\n",
    "\n",
    "sp(net, plot_sinks = True)"
   ]
  },
  {
   "cell_type": "markdown",
   "metadata": {},
   "source": [
    "As long as no coordinates have been explicitly added to the junctions, automatically generated coordinates are used."
   ]
  }
 ],
 "metadata": {
  "kernelspec": {
   "display_name": "Python 3",
   "language": "python",
   "name": "python3"
  },
  "language_info": {
   "codemirror_mode": {
    "name": "ipython",
    "version": 3
   },
   "file_extension": ".py",
   "mimetype": "text/x-python",
   "name": "python",
   "nbconvert_exporter": "python",
   "pygments_lexer": "ipython3",
   "version": "3.7.4"
  }
 },
 "nbformat": 4,
 "nbformat_minor": 2
}
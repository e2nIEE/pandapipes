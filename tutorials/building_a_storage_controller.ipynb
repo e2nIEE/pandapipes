{
 "cells": [
  {
   "cell_type": "markdown",
   "metadata": {},
   "source": [
    "# Building a Controller for a storage unit"
   ]
  },
  {
   "cell_type": "markdown",
   "metadata": {},
   "source": [
    "The following documents the development of a new controller.\n",
    "In this case we are going to implement an arbitrary controllable storage unit.\n",
    "This could be a water tank, an underground cavern storage or some sort of reservoir storage.\n",
    "The purpose of this storage is to store mass (of a fluid). The temperature or changes in the\n",
    "composition are neglected."
   ]
  },
  {
   "cell_type": "markdown",
   "metadata": {},
   "source": [
    "## Modelling a mass storage\n",
    "\n",
    "In order to simulate a storage system we use the mass storage element of pandapipes. The mass flow\n",
    "of a storage can be positive or negative.\n",
    "\n",
    "For storage elements the signing is based on the consumer viewpoint (positive flow means \"charging\"\n",
    "of the storage, negative flow means that the fluid is leaving the storage).\n",
    "\n",
    "As pandapipes is not a time dependent simulation tool and there is no time domain parameter in\n",
    "default pipe flow calculations, the amount of stored mass is not updated during any regular pipe\n",
    "flow calculation. In order to update the \"filling level\" (State of Charge) (`m_stored_kg`),\n",
    "we build our own storage controller and keep track of the SoC."
   ]
  },
  {
   "cell_type": "markdown",
   "metadata": {},
   "source": [
    "## Controller init\n",
    "First we start by creating a new file *control/storage_control.py*, containing our new class."
   ]
  },
  {
   "cell_type": "markdown",
   "metadata": {},
   "source": [
    "We import and inherit from the parent class `Controller` (from pandapower) and override methods that are only dummy methods in the parent class.\n",
    "\n",
    "The most important methods are\n",
    "- `time_step`,\n",
    "which will be called by `run_time_series` -> `run_loop` -> `run_time_step` -> `control_time_step` -> `Controller.time_step(net, timestep)`\n",
    "- `write_to_net`,\n",
    "which will afterwards be called by `run_time_series` -> `run_loop` -> `run_time_step` -> `run_control_fct` -> `control_implementation` -> `_control_step` -> `Controller.control_step(net)`.\n",
    "\n",
    "Depending on the particular storage design, they may need to be adapted to specify the storage's\n",
    "charging behavior or to include more, user-defined variables, i.e. filling height."
   ]
  },
  {
   "cell_type": "code",
   "execution_count": 20,
   "metadata": {},
   "outputs": [],
   "source": [
    "import pandapipes as pp\n",
    "from pandapower.control.basic_controller import Controller\n",
    "\n",
    "\n",
    "class StorageController(Controller):\n",
    "    \"\"\"\n",
    "        Example class of a Storage-Controller. Models an abstract mass storage.\n",
    "    \"\"\"\n",
    "    def __init__(self, net, sid, data_source=None, mdot_profile=None, in_service=True,\n",
    "                 recycle=False, order=0, level=0, duration_timestep_h=1, **kwargs):\n",
    "        super().__init__(net, in_service=in_service, recycle=recycle, order=order, level=level,\n",
    "                    initial_pipeflow = True, **kwargs)\n",
    "        \n",
    "        # read storage attributes from net\n",
    "        self.sid = sid  # index of the controlled storage\n",
    "        self.junction = net.mass_storage.at[sid, \"junction\"]\n",
    "        self.mdot_kg_per_s = net.mass_storage.at[sid, \"mdot_kg_per_s\"]\n",
    "        self.name = net.mass_storage.at[sid, \"name\"]\n",
    "        self.storage_type = net.mass_storage.at[sid, \"type\"]\n",
    "        self.in_service = net.mass_storage.at[sid, \"in_service\"]\n",
    "        self.scaling = net.mass_storage.at[sid, \"scaling\"]\n",
    "        self.applied = False\n",
    "\n",
    "        # specific attributes\n",
    "        self.max_m_kg = net.mass_storage.at[sid, \"max_m_stored_kg\"]\n",
    "        self.min_m_kg = net.mass_storage.at[sid, \"min_m_stored_kg\"]\n",
    "        self.m_stored_kg = net.mass_storage.at[sid, \"init_m_stored_kg\"]\n",
    "\n",
    "        # profile attributes\n",
    "        self.data_source = data_source\n",
    "        self.mdot_profile = mdot_profile\n",
    "        self.last_time_step = 0\n",
    "        self.duration_ts_sec = duration_timestep_h * 3600\n",
    "\n",
    "    # In a time-series simulation the mass storage should read new flow values from a profile and keep track\n",
    "    # of its amount of stored mass as depicted below.\n",
    "    def time_step(self, net, time):\n",
    "        # keep track of the stored mass (the duration of one time step is given as input to the controller)\n",
    "        if self.last_time_step is not None:\n",
    "            # The amount of mass that flowed into or out of the storage in the last timestep is added\n",
    "            # requested change of mass:\n",
    "            self.delta_m_kg_req = (self.mdot_kg_per_s * (time - self.last_time_step)\n",
    "                                   * self.duration_ts_sec)\n",
    "            # limit by available mass and free capacity in the storage:\n",
    "            if self.delta_m_kg_req > 0:  # \"charging\"\n",
    "                self.delta_m_kg_real = min(self.delta_m_kg_req, self.max_m_kg - self.m_stored_kg)\n",
    "            else:  # \"discharging\", delta < 0\n",
    "                self.delta_m_kg_real = max(self.delta_m_kg_req, self.min_m_kg - self.m_stored_kg)\n",
    "            self.m_stored_kg += self.delta_m_kg_real\n",
    "            self.mdot_kg_per_s = self.delta_m_kg_real / ((time - self.last_time_step)\n",
    "                                                         * self.duration_ts_sec)\n",
    "        self.last_time_step = time\n",
    "\n",
    "        # read new values from a profile\n",
    "        if self.data_source:\n",
    "            if self.mdot_profile is not None:\n",
    "                self.mdot_kg_per_s = self.data_source.get_time_step_value(time_step=time,\n",
    "                                                                          profile_name=self.mdot_profile)\n",
    "                self.m_stored_kg *= self.scaling * self.in_service\n",
    "\n",
    "        self.applied = False  # reset applied variable\n",
    "\n",
    "    # Some convenience methods to calculate indicators for the state of charge:\n",
    "    def get_stored_mass(self):\n",
    "        # return the absolute stored mass\n",
    "        return self.m_stored_kg\n",
    "\n",
    "    def get_free_stored_mass(self):\n",
    "        # return the stored mass excl. minimum filling level\n",
    "        return self.m_stored_kg - self.min_m_kg\n",
    "\n",
    "    def get_filling_level_percent(self):\n",
    "        # return the ratio of absolute stored mass and total maximum storable mass in Percent\n",
    "        return 100 * self.get_stored_mass() / self.max_m_kg\n",
    "\n",
    "    def get_free_filling_level_percent(self):\n",
    "        # return the ratio of available stored mass (i.e. excl. min_m_stored_kg) and difference between max and min in Percent\n",
    "        return 100 * self.get_free_stored_mass() / (self.max_m_kg - self.min_m_kg)\n",
    "\n",
    "    # Define which values in the net shall be updated\n",
    "    def write_to_net(self, net):\n",
    "        # write mdot_kg_per_s, m_stored_kg to the table in the net\n",
    "        net.mass_storage.at[self.sid, \"mdot_kg_per_s\"] = self.mdot_kg_per_s\n",
    "        net.mass_storage.at[self.sid, \"m_stored_kg\"] = self.m_stored_kg\n",
    "        net.mass_storage.at[self.sid, \"filling_level_percent\"] = \\\n",
    "            self.get_free_filling_level_percent()\n",
    "        # Note: a pipeflow will automatically be conducted in the run_timeseries / run_control procedure.\n",
    "        # This will then update the result table (net.res_mass_storage).\n",
    "        # If something was written to net.res_mass_storage in this method here, the pipeflow would overwrite it.\n",
    "\n",
    "    # In case the controller is not yet converged (i.e. in the first iteration,\n",
    "    # maybe also more iterations for more complex controllers), the control step is executed.\n",
    "    # In the example it simply adopts a new value according to the previously calculated target\n",
    "    # and writes back to the net.\n",
    "    def control_step(self, net):\n",
    "        # Call write_to_net and set the applied variable True\n",
    "        self.write_to_net(net)\n",
    "        self.applied = True\n",
    "\n",
    "    # convergence check\n",
    "    def is_converged(self, net):\n",
    "        # check if controller already was applied\n",
    "        return self.applied\n"
   ]
  },
  {
   "cell_type": "markdown",
   "metadata": {},
   "source": [
    "We are now ready to create objects of our newly implemented class and use it in a simulation:"
   ]
  },
  {
   "cell_type": "code",
   "execution_count": 21,
   "metadata": {},
   "outputs": [
    {
     "name": "stderr",
     "output_type": "stream",
     "text": [
      "hp.pandapower.control.util.auxiliary - INFO: Creating controller 0 of type <class '__main__.StorageController'> \n"
     ]
    }
   ],
   "source": [
    "import pandas as pd\n",
    "\n",
    "import pandapower.timeseries as ts\n",
    "# importing a grid from the library\n",
    "from pandapipes.networks import gas_meshed_square\n",
    "\n",
    "# loading the network\n",
    "net = gas_meshed_square()\n",
    "pp.pipeflow(net)\n",
    "\n",
    "# creating a simple time series\n",
    "framedata = pd.DataFrame([0.1, .05, -0.1, .005, -0.2, 0], columns=['mdot_storage'])\n",
    "datasource = ts.DFData(framedata)\n",
    "\n",
    "# creating storage unit in the grid, which will be controlled by our controller\n",
    "store_mass = pp.create_mass_storage(net, junction=3,\n",
    "                                    mdot_kg_per_s=0, init_m_stored_kg=2, min_m_stored_kg=0, max_m_stored_kg=500,\n",
    "                                    type=\"classical mass storage\")\n",
    "\n",
    "# creating an Object of our new build storage controller, controlling the storage unit\n",
    "ctrl = StorageController(net=net, sid=store_mass, data_source=datasource, mdot_profile='mdot_storage')"
   ]
  },
  {
   "cell_type": "markdown",
   "source": [
    "If required, we could also pass other arguments to the `create_mass_storage` function as key word arguments, i.e. the floor area of the storage, and use them in the `StorageController` class."
   ],
   "metadata": {
    "collapsed": false
   }
  },
  {
   "cell_type": "markdown",
   "metadata": {},
   "source": [
    "Now we run a small time-series-simulation and track the results using the outputwriter:"
   ]
  },
  {
   "cell_type": "code",
   "execution_count": 22,
   "metadata": {},
   "outputs": [
    {
     "name": "stderr",
     "output_type": "stream",
     "text": [
      "  0%|          | 0/6 [00:00<?, ?it/s]C:\\Users\\e2n236\\AppData\\Local\\Temp\\ipykernel_14224\\856783411.py:50: RuntimeWarning: invalid value encountered in double_scalars\n",
      "  self.mdot_kg_per_s = self.delta_m_kg_real / ((time - self.last_time_step)\n",
      "100%|██████████| 6/6 [00:00<00:00, 73.58it/s]\n"
     ]
    }
   ],
   "source": [
    "from pandapipes.timeseries import run_timeseries\n",
    "# defining an OutputWriter to track certain variables\n",
    "log_variables = [(\"mass_storage\", \"mdot_kg_per_s\"), (\"res_mass_storage\", \"mdot_kg_per_s\"),\n",
    "                 (\"mass_storage\", \"m_stored_kg\")]\n",
    "ow = ts.OutputWriter(net, log_variables=log_variables)\n",
    "\n",
    "# starting time series simulation\n",
    "run_timeseries(net, time_steps=range(0, 6))"
   ]
  },
  {
   "cell_type": "markdown",
   "metadata": {},
   "source": [
    "To visualize the results we plot directly with the dataframe:"
   ]
  },
  {
   "cell_type": "code",
   "execution_count": 23,
   "metadata": {},
   "outputs": [
    {
     "data": {
      "text/plain": "<matplotlib.legend.Legend at 0x219c607cd00>"
     },
     "execution_count": 23,
     "metadata": {},
     "output_type": "execute_result"
    },
    {
     "data": {
      "text/plain": "<Figure size 432x288 with 1 Axes>",
      "image/png": "[encoded data removed]"
     },
     "metadata": {
      "needs_background": "light"
     },
     "output_type": "display_data"
    }
   ],
   "source": [
    "# plotting the state of charge\n",
    "ow.output['mass_storage.m_stored_kg'].columns = ['mass_storage']\n",
    "ax = ow.output['mass_storage.m_stored_kg'].plot()\n",
    "ax.set_xlabel('Time in 60 min Steps')\n",
    "ax.set_ylabel('stored mass in kg')\n",
    "ax.legend()"
   ]
  }
 ],
 "metadata": {
  "kernelspec": {
   "display_name": "Python 3",
   "language": "python",
   "name": "python3"
  },
  "language_info": {
   "codemirror_mode": {
    "name": "ipython",
    "version": 3
   },
   "file_extension": ".py",
   "mimetype": "text/x-python",
   "name": "python",
   "nbconvert_exporter": "python",
   "pygments_lexer": "ipython3",
   "version": "3.8.6"
  }
 },
 "nbformat": 4,
 "nbformat_minor": 2
}

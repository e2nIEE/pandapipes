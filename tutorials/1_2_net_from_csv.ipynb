{
 "cells": [
  {
   "cell_type": "markdown",
   "metadata": {},
   "source": [
    "# pandapipes net from .csv tables\n",
    "### using _plural_ create functions (e.g. `create_junctions`) instead of _singular_ ones ( e.g. `create_junction`)\n",
    "\n",
    "It has been demonstrated in previous tutorials how a pandapipes net can be created step-by-step by creating each component individually with its respective `create...` function.\n",
    "In many cases however, pandapipes will be integrated into a tool chain. For larger studies, grid data will likely be downloaded from somewhere, exported from other tools or might be received from another party. One established format for these exchanges is the [.csv-file format](https://en.wikipedia.org/wiki/Comma-separated_values).\n",
    "\n",
    "This tutorial guides through the creation of a pandapipes net while taking example .csv-files as input.\n",
    "To make the process more convenient and efficient, _plural_ create functions (e.g. create_junctions) are used.\n",
    "\n",
    "The .csv files specifying the network are loaded from the \"files/example_gas_net_csvs\" folder which is located in the same folder as this notebook. They determine the [components](https://pandapipes.readthedocs.io/en/latest/components.html) of the example network used to illustrate this tutorial(see picture below): the junctions (i.e. nodes), the pipes, the external grids and the sinks.\n",
    "\n",
    "The example network covers an imaginary development area and is designed as shown in the picture:\n",
    "\n",
    "<img src=\"pics/gas_example_Longniddry.jpg\" width=\"30%\">"
   ]
  },
  {
   "cell_type": "markdown",
   "metadata": {},
   "source": [
    "#### Import the necessary packages"
   ]
  },
  {
   "cell_type": "code",
   "execution_count": 1,
   "metadata": {},
   "outputs": [],
   "source": [
    "import pandas as pd\n",
    "import os\n",
    "import pandapipes as ppi\n",
    "from pandapipes.plotting import simple_plot"
   ]
  },
  {
   "cell_type": "markdown",
   "metadata": {},
   "source": [
    "#### Create an empty pandapipes network"
   ]
  },
  {
   "cell_type": "code",
   "execution_count": 2,
   "metadata": {},
   "outputs": [],
   "source": [
    "fluid = 'hgas'  # other possible fluids: water, lgas, hydrogen\n",
    "net = ppi.create_empty_network('gas test network', fluid=fluid) # create empty network"
   ]
  },
  {
   "cell_type": "markdown",
   "metadata": {},
   "source": [
    "#### Extract the data from the .csv files as pandas DataFrames\n",
    "\n",
    "The data are extracted as DataFrames using the pandas function `read_csv`. Let's start with the junctions' data."
   ]
  },
  {
   "cell_type": "code",
   "execution_count": 3,
   "metadata": {},
   "outputs": [],
   "source": [
    "pre_path = r\".\\files\\example_gas_net_csvs\"\n",
    "junctions_df = pd.read_csv(os.path.join(pre_path,'example_net-junctions.csv'))"
   ]
  },
  {
   "cell_type": "markdown",
   "metadata": {},
   "source": [
    "Let's take a look at what is in the `junctions_df` DataFrame. The `head()` (from the pandas package) method displays the first 5 rows of the DataFrame, avoiding a crammed output."
   ]
  },
  {
   "cell_type": "code",
   "execution_count": 4,
   "metadata": {},
   "outputs": [
    {
     "data": {
      "text/plain": "  Name          lat          lon  height\n0   b0  6270716.410  2760327.163     0.0\n1   b1  6270591.372  2759948.189     0.3\n2   b2  6270456.361  2760038.450     0.6\n3   b3  6270313.571  2760136.418     0.9\n4   b4  6270214.431  2760177.492     1.2",
      "text/html": "<div>\n<style scoped>\n    .dataframe tbody tr th:only-of-type {\n        vertical-align: middle;\n    }\n\n    .dataframe tbody tr th {\n        vertical-align: top;\n    }\n\n    .dataframe thead th {\n        text-align: right;\n    }\n</style>\n<table border=\"1\" class=\"dataframe\">\n  <thead>\n    <tr style=\"text-align: right;\">\n      <th></th>\n      <th>Name</th>\n      <th>lat</th>\n      <th>lon</th>\n      <th>height</th>\n    </tr>\n  </thead>\n  <tbody>\n    <tr>\n      <th>0</th>\n      <td>b0</td>\n      <td>6270716.410</td>\n      <td>2760327.163</td>\n      <td>0.0</td>\n    </tr>\n    <tr>\n      <th>1</th>\n      <td>b1</td>\n      <td>6270591.372</td>\n      <td>2759948.189</td>\n      <td>0.3</td>\n    </tr>\n    <tr>\n      <th>2</th>\n      <td>b2</td>\n      <td>6270456.361</td>\n      <td>2760038.450</td>\n      <td>0.6</td>\n    </tr>\n    <tr>\n      <th>3</th>\n      <td>b3</td>\n      <td>6270313.571</td>\n      <td>2760136.418</td>\n      <td>0.9</td>\n    </tr>\n    <tr>\n      <th>4</th>\n      <td>b4</td>\n      <td>6270214.431</td>\n      <td>2760177.492</td>\n      <td>1.2</td>\n    </tr>\n  </tbody>\n</table>\n</div>"
     },
     "execution_count": 4,
     "metadata": {},
     "output_type": "execute_result"
    }
   ],
   "source": [
    "junctions_df.head()"
   ]
  },
  {
   "cell_type": "markdown",
   "metadata": {},
   "source": [
    "The data of the other types of elements is also extracted"
   ]
  },
  {
   "cell_type": "code",
   "execution_count": 19,
   "metadata": {},
   "outputs": [
    {
     "data": {
      "text/plain": "           junction  pressure\nName                         \next_grid1         0         1\next_grid2        14         1",
      "text/html": "<div>\n<style scoped>\n    .dataframe tbody tr th:only-of-type {\n        vertical-align: middle;\n    }\n\n    .dataframe tbody tr th {\n        vertical-align: top;\n    }\n\n    .dataframe thead th {\n        text-align: right;\n    }\n</style>\n<table border=\"1\" class=\"dataframe\">\n  <thead>\n    <tr style=\"text-align: right;\">\n      <th></th>\n      <th>junction</th>\n      <th>pressure</th>\n    </tr>\n    <tr>\n      <th>Name</th>\n      <th></th>\n      <th></th>\n    </tr>\n  </thead>\n  <tbody>\n    <tr>\n      <th>ext_grid1</th>\n      <td>0</td>\n      <td>1</td>\n    </tr>\n    <tr>\n      <th>ext_grid2</th>\n      <td>14</td>\n      <td>1</td>\n    </tr>\n  </tbody>\n</table>\n</div>"
     },
     "execution_count": 19,
     "metadata": {},
     "output_type": "execute_result"
    }
   ],
   "source": [
    "pipes_df = pd.read_csv(os.path.join(pre_path, 'example_net-pipes.csv'))\n",
    "sinks_df = pd.read_csv(os.path.join(pre_path, 'example_net-sinks.csv'))\n",
    "ext_grids_df = pd.read_csv(os.path.join(pre_path, 'example_net-ext_grid.csv'))\n",
    "valves_df = pd.read_csv(os.path.join(pre_path, 'example_net-valves.csv'))\n",
    "\n",
    "pipes_df.head()"
   ]
  },
  {
   "cell_type": "markdown",
   "metadata": {},
   "source": [
    "#### Create the network junctions and pipes based on the DataFrames\n",
    "After having created an empty network, the next steps is always to create junctions. This is because all other elements are attached to junctions and cannot be created if their junctions do not yet exist.\n",
    "\n",
    "We can now create all junctions based on the junctions-DataFrame at once, without any for-loop. Since no temperature is given, 10°C is assumed. For the plural-create-function, a single value, list or pandas-Series can be passed as input arguments."
   ]
  },
  {
   "cell_type": "code",
   "execution_count": 7,
   "metadata": {},
   "outputs": [],
   "source": [
    "amb_temp = 283.15\n",
    "geodata = junctions_df[['lon', 'lat']].values\n",
    "junctions = ppi.create_junctions(net, nr_junctions=len(junctions_df), pn_bar=1, tfluid_k=amb_temp,\n",
    "                         height_m=junctions_df['height'], geodata=geodata)"
   ]
  },
  {
   "cell_type": "markdown",
   "source": [
    "The .csv data do not specify any diameter for the pipes. Therefore, a uniform diameter of 0.05 m is assumed for all pipes. Passing a single value as an argument for the diameter assigns this diameter to all pipes. It is alternatively possible to pass an iterable to assign different diameters to different pipes - the iterable would need to have exactly the same length as the other passed iterables.\n",
    "This is valid for all other relevant parameters for junctions, pipes, sinks, sources..."
   ],
   "metadata": {
    "collapsed": false
   }
  },
  {
   "cell_type": "code",
   "execution_count": 8,
   "metadata": {},
   "outputs": [],
   "source": [
    "pipes = ppi.create_pipes_from_parameters(net, pipes_df['from_junction'], pipes_df['to_junction'],\n",
    "                                     length_km=pipes_df['length_km'], diameter_m=0.05, k_mm=0.2)"
   ]
  },
  {
   "cell_type": "markdown",
   "metadata": {},
   "source": [
    "Note: There are two [functions to create pipes](https://pandapipes.readthedocs.io/en/latest/components/pipe/pipe_component.html) in pandapipes: `create_pipes_from_parameters` and `create_pipes` (and there are their equivalent _singular_ versions). The former creates pipes while passing the diameters as arguments (the user specifies the diameters while creating the pipes), while the latter creates pipes based on predefined [standard types](https://pandapipes.readthedocs.io/en/latest/standard_types/std_types_in_pandapipes.html).\n",
    "\n",
    "Let's take a look at the pipes pandapipes table. The `head()` method can also be employed here. This table displays all the input parameters that specifies a pipe. Some are filled with default values since no specific data has been passed to the create function."
   ]
  },
  {
   "cell_type": "code",
   "execution_count": 9,
   "metadata": {},
   "outputs": [
    {
     "data": {
      "text/plain": "   name  from_junction  to_junction std_type  length_km  diameter_m  k_mm  \\\n0  None              0            1     None       0.20        0.05   0.2   \n1  None              1            2     None       0.05        0.05   0.2   \n2  None              2            3     None       0.05        0.05   0.2   \n3  None              3            4     None       0.05        0.05   0.2   \n4  None              2            5     None       0.05        0.05   0.2   \n\n   loss_coefficient  alpha_w_per_m2k  text_k  qext_w  sections  in_service  \\\n0               0.0              0.0   293.0     0.0         1        True   \n1               0.0              0.0   293.0     0.0         1        True   \n2               0.0              0.0   293.0     0.0         1        True   \n3               0.0              0.0   293.0     0.0         1        True   \n4               0.0              0.0   293.0     0.0         1        True   \n\n   type  \n0  pipe  \n1  pipe  \n2  pipe  \n3  pipe  \n4  pipe  ",
      "text/html": "<div>\n<style scoped>\n    .dataframe tbody tr th:only-of-type {\n        vertical-align: middle;\n    }\n\n    .dataframe tbody tr th {\n        vertical-align: top;\n    }\n\n    .dataframe thead th {\n        text-align: right;\n    }\n</style>\n<table border=\"1\" class=\"dataframe\">\n  <thead>\n    <tr style=\"text-align: right;\">\n      <th></th>\n      <th>name</th>\n      <th>from_junction</th>\n      <th>to_junction</th>\n      <th>std_type</th>\n      <th>length_km</th>\n      <th>diameter_m</th>\n      <th>k_mm</th>\n      <th>loss_coefficient</th>\n      <th>alpha_w_per_m2k</th>\n      <th>text_k</th>\n      <th>qext_w</th>\n      <th>sections</th>\n      <th>in_service</th>\n      <th>type</th>\n    </tr>\n  </thead>\n  <tbody>\n    <tr>\n      <th>0</th>\n      <td>None</td>\n      <td>0</td>\n      <td>1</td>\n      <td>None</td>\n      <td>0.20</td>\n      <td>0.05</td>\n      <td>0.2</td>\n      <td>0.0</td>\n      <td>0.0</td>\n      <td>293.0</td>\n      <td>0.0</td>\n      <td>1</td>\n      <td>True</td>\n      <td>pipe</td>\n    </tr>\n    <tr>\n      <th>1</th>\n      <td>None</td>\n      <td>1</td>\n      <td>2</td>\n      <td>None</td>\n      <td>0.05</td>\n      <td>0.05</td>\n      <td>0.2</td>\n      <td>0.0</td>\n      <td>0.0</td>\n      <td>293.0</td>\n      <td>0.0</td>\n      <td>1</td>\n      <td>True</td>\n      <td>pipe</td>\n    </tr>\n    <tr>\n      <th>2</th>\n      <td>None</td>\n      <td>2</td>\n      <td>3</td>\n      <td>None</td>\n      <td>0.05</td>\n      <td>0.05</td>\n      <td>0.2</td>\n      <td>0.0</td>\n      <td>0.0</td>\n      <td>293.0</td>\n      <td>0.0</td>\n      <td>1</td>\n      <td>True</td>\n      <td>pipe</td>\n    </tr>\n    <tr>\n      <th>3</th>\n      <td>None</td>\n      <td>3</td>\n      <td>4</td>\n      <td>None</td>\n      <td>0.05</td>\n      <td>0.05</td>\n      <td>0.2</td>\n      <td>0.0</td>\n      <td>0.0</td>\n      <td>293.0</td>\n      <td>0.0</td>\n      <td>1</td>\n      <td>True</td>\n      <td>pipe</td>\n    </tr>\n    <tr>\n      <th>4</th>\n      <td>None</td>\n      <td>2</td>\n      <td>5</td>\n      <td>None</td>\n      <td>0.05</td>\n      <td>0.05</td>\n      <td>0.2</td>\n      <td>0.0</td>\n      <td>0.0</td>\n      <td>293.0</td>\n      <td>0.0</td>\n      <td>1</td>\n      <td>True</td>\n      <td>pipe</td>\n    </tr>\n  </tbody>\n</table>\n</div>"
     },
     "execution_count": 9,
     "metadata": {},
     "output_type": "execute_result"
    }
   ],
   "source": [
    "net.pipe.head()"
   ]
  },
  {
   "cell_type": "markdown",
   "metadata": {},
   "source": [
    "The input parameters can however be extended. Let's consider a slightly different .csv file for the pipes (namely _example_net-pipes_companies.CSV_) where the company owning each pipe is specified. This is not a parameter built in `create_pipes_from_parameters` function. This information can however be passed as keyword argument to the create function as follows:"
   ]
  },
  {
   "cell_type": "code",
   "execution_count": 10,
   "metadata": {},
   "outputs": [
    {
     "name": "stderr",
     "output_type": "stream",
     "text": [
      "hp.pandapipes.toolbox - INFO: dropped 29 pipes\n"
     ]
    },
    {
     "data": {
      "text/plain": "   name  from_junction  to_junction std_type  length_km  diameter_m  k_mm  \\\n0  None              0            1     None       0.20        0.05   0.2   \n1  None              1            2     None       0.05        0.05   0.2   \n2  None              2            3     None       0.05        0.05   0.2   \n3  None              3            4     None       0.05        0.05   0.2   \n4  None              2            5     None       0.05        0.05   0.2   \n\n   loss_coefficient  alpha_w_per_m2k  text_k  qext_w  sections  in_service  \\\n0               0.0              0.0   293.0     0.0         1        True   \n1               0.0              0.0   293.0     0.0         1        True   \n2               0.0              0.0   293.0     0.0         1        True   \n3               0.0              0.0   293.0     0.0         1        True   \n4               0.0              0.0   293.0     0.0         1        True   \n\n   type    company  \n0  pipe  company B  \n1  pipe  company A  \n2  pipe  company B  \n3  pipe  company C  \n4  pipe  company B  ",
      "text/html": "<div>\n<style scoped>\n    .dataframe tbody tr th:only-of-type {\n        vertical-align: middle;\n    }\n\n    .dataframe tbody tr th {\n        vertical-align: top;\n    }\n\n    .dataframe thead th {\n        text-align: right;\n    }\n</style>\n<table border=\"1\" class=\"dataframe\">\n  <thead>\n    <tr style=\"text-align: right;\">\n      <th></th>\n      <th>name</th>\n      <th>from_junction</th>\n      <th>to_junction</th>\n      <th>std_type</th>\n      <th>length_km</th>\n      <th>diameter_m</th>\n      <th>k_mm</th>\n      <th>loss_coefficient</th>\n      <th>alpha_w_per_m2k</th>\n      <th>text_k</th>\n      <th>qext_w</th>\n      <th>sections</th>\n      <th>in_service</th>\n      <th>type</th>\n      <th>company</th>\n    </tr>\n  </thead>\n  <tbody>\n    <tr>\n      <th>0</th>\n      <td>None</td>\n      <td>0</td>\n      <td>1</td>\n      <td>None</td>\n      <td>0.20</td>\n      <td>0.05</td>\n      <td>0.2</td>\n      <td>0.0</td>\n      <td>0.0</td>\n      <td>293.0</td>\n      <td>0.0</td>\n      <td>1</td>\n      <td>True</td>\n      <td>pipe</td>\n      <td>company B</td>\n    </tr>\n    <tr>\n      <th>1</th>\n      <td>None</td>\n      <td>1</td>\n      <td>2</td>\n      <td>None</td>\n      <td>0.05</td>\n      <td>0.05</td>\n      <td>0.2</td>\n      <td>0.0</td>\n      <td>0.0</td>\n      <td>293.0</td>\n      <td>0.0</td>\n      <td>1</td>\n      <td>True</td>\n      <td>pipe</td>\n      <td>company A</td>\n    </tr>\n    <tr>\n      <th>2</th>\n      <td>None</td>\n      <td>2</td>\n      <td>3</td>\n      <td>None</td>\n      <td>0.05</td>\n      <td>0.05</td>\n      <td>0.2</td>\n      <td>0.0</td>\n      <td>0.0</td>\n      <td>293.0</td>\n      <td>0.0</td>\n      <td>1</td>\n      <td>True</td>\n      <td>pipe</td>\n      <td>company B</td>\n    </tr>\n    <tr>\n      <th>3</th>\n      <td>None</td>\n      <td>3</td>\n      <td>4</td>\n      <td>None</td>\n      <td>0.05</td>\n      <td>0.05</td>\n      <td>0.2</td>\n      <td>0.0</td>\n      <td>0.0</td>\n      <td>293.0</td>\n      <td>0.0</td>\n      <td>1</td>\n      <td>True</td>\n      <td>pipe</td>\n      <td>company C</td>\n    </tr>\n    <tr>\n      <th>4</th>\n      <td>None</td>\n      <td>2</td>\n      <td>5</td>\n      <td>None</td>\n      <td>0.05</td>\n      <td>0.05</td>\n      <td>0.2</td>\n      <td>0.0</td>\n      <td>0.0</td>\n      <td>293.0</td>\n      <td>0.0</td>\n      <td>1</td>\n      <td>True</td>\n      <td>pipe</td>\n      <td>company B</td>\n    </tr>\n  </tbody>\n</table>\n</div>"
     },
     "execution_count": 10,
     "metadata": {},
     "output_type": "execute_result"
    }
   ],
   "source": [
    "ppi.drop_pipes(net, net.pipe.index) # initially drop all the previously created pipes out of the network\n",
    "\n",
    "pipes_df = pd.read_csv(os.path.join(pre_path,'example_net-pipes_companies.csv')) # path to the csv file containing the pipes' and additionally the company owning/operating) them\n",
    "\n",
    "ppi.create_pipes_from_parameters(net, pipes_df['from_junction'], pipes_df['to_junction'],\n",
    "                                 length_km=pipes_df['length_km'], diameter_m=0.05, k_mm=0.2,\n",
    "                                 company = pipes_df['company']) # \"company\" is declared as a new keyword argument\n",
    "net.pipe.head()"
   ]
  },
  {
   "cell_type": "markdown",
   "metadata": {},
   "source": [
    "The elements creation is done in the next code cell for the sinks, external grids and valves.\n",
    "\n",
    "NB: The create functions return the indices of the elements they create. To avoid displaying this output below the cells, the output of these function is assigned to the variables `junctions`, `pipes`, `sinks`, `ext_grids`, and `valves`. These variables have therefore no functional purpose in the present tutorial, only a cosmetic one."
   ]
  },
  {
   "cell_type": "code",
   "execution_count": 11,
   "metadata": {},
   "outputs": [],
   "source": [
    "sinks = ppi.create_sinks(net, sinks_df['junction'], mdot_kg_per_s=sinks_df['m_dot'])\n",
    "ext_grids = ppi.create_ext_grids(net, junctions=ext_grids_df['junction'], p_bar=ext_grids_df['pressure'], t_k=amb_temp)\n",
    "valves = ppi.create_valves(net, valves_df['from_junction'], valves_df['to_junction'], diameter_m=valves_df['diameter'])"
   ]
  },
  {
   "cell_type": "markdown",
   "source": [
    "Now, all the data from the csv-files has been converted into pandapipes-components.\n",
    "It should be checked whether the network is actually feasible, i.e. a pipeflow can be properly calculated."
   ],
   "metadata": {
    "collapsed": false
   }
  },
  {
   "cell_type": "markdown",
   "metadata": {},
   "source": [
    "#### Run a pipeflow\n",
    "\n",
    "The pipeflow function is responsible for computing the pressures at the nodes and flow rates through the pipes of the network."
   ]
  },
  {
   "cell_type": "code",
   "execution_count": 12,
   "metadata": {},
   "outputs": [],
   "source": [
    "ppi.pipeflow(net)"
   ]
  },
  {
   "cell_type": "markdown",
   "metadata": {},
   "source": [
    "#### Display the results of the pipeflow calculation\n",
    "\n",
    "Running the pipeflow while among others create _res_ (for results) tables for every type of element. The results for the junctions  and the pipes are displayed as done in the next two cells."
   ]
  },
  {
   "cell_type": "code",
   "execution_count": 13,
   "metadata": {},
   "outputs": [
    {
     "data": {
      "text/plain": "       p_bar     t_k\n0   1.000000  283.15\n1   0.999943  283.15\n2   0.999926  283.15\n3   0.999916  283.15\n4   0.999913  283.15\n5   0.999908  283.15\n6   0.999899  283.15\n7   0.999939  283.15\n8   0.999909  283.15\n9   0.999890  283.15\n10  0.999914  283.15\n11  0.999895  283.15\n12  0.999871  283.15\n13  0.999858  283.15\n14  1.000000  283.15\n15  0.999930  283.15\n16  0.999929  283.15\n17  0.999928  283.15\n18  0.999928  283.15\n19  0.999915  283.15\n20  0.999909  283.15\n21  0.999908  283.15\n22  0.999908  283.15\n23  0.999909  283.15\n24  0.999902  283.15\n25  0.999914  283.15\n26  0.999908  283.15\n27  0.999908  283.15\n28  0.999908  283.15\n29  0.999908  283.15\n30  0.999902  283.15",
      "text/html": "<div>\n<style scoped>\n    .dataframe tbody tr th:only-of-type {\n        vertical-align: middle;\n    }\n\n    .dataframe tbody tr th {\n        vertical-align: top;\n    }\n\n    .dataframe thead th {\n        text-align: right;\n    }\n</style>\n<table border=\"1\" class=\"dataframe\">\n  <thead>\n    <tr style=\"text-align: right;\">\n      <th></th>\n      <th>p_bar</th>\n      <th>t_k</th>\n    </tr>\n  </thead>\n  <tbody>\n    <tr>\n      <th>0</th>\n      <td>1.000000</td>\n      <td>283.15</td>\n    </tr>\n    <tr>\n      <th>1</th>\n      <td>0.999943</td>\n      <td>283.15</td>\n    </tr>\n    <tr>\n      <th>2</th>\n      <td>0.999926</td>\n      <td>283.15</td>\n    </tr>\n    <tr>\n      <th>3</th>\n      <td>0.999916</td>\n      <td>283.15</td>\n    </tr>\n    <tr>\n      <th>4</th>\n      <td>0.999913</td>\n      <td>283.15</td>\n    </tr>\n    <tr>\n      <th>5</th>\n      <td>0.999908</td>\n      <td>283.15</td>\n    </tr>\n    <tr>\n      <th>6</th>\n      <td>0.999899</td>\n      <td>283.15</td>\n    </tr>\n    <tr>\n      <th>7</th>\n      <td>0.999939</td>\n      <td>283.15</td>\n    </tr>\n    <tr>\n      <th>8</th>\n      <td>0.999909</td>\n      <td>283.15</td>\n    </tr>\n    <tr>\n      <th>9</th>\n      <td>0.999890</td>\n      <td>283.15</td>\n    </tr>\n    <tr>\n      <th>10</th>\n      <td>0.999914</td>\n      <td>283.15</td>\n    </tr>\n    <tr>\n      <th>11</th>\n      <td>0.999895</td>\n      <td>283.15</td>\n    </tr>\n    <tr>\n      <th>12</th>\n      <td>0.999871</td>\n      <td>283.15</td>\n    </tr>\n    <tr>\n      <th>13</th>\n      <td>0.999858</td>\n      <td>283.15</td>\n    </tr>\n    <tr>\n      <th>14</th>\n      <td>1.000000</td>\n      <td>283.15</td>\n    </tr>\n    <tr>\n      <th>15</th>\n      <td>0.999930</td>\n      <td>283.15</td>\n    </tr>\n    <tr>\n      <th>16</th>\n      <td>0.999929</td>\n      <td>283.15</td>\n    </tr>\n    <tr>\n      <th>17</th>\n      <td>0.999928</td>\n      <td>283.15</td>\n    </tr>\n    <tr>\n      <th>18</th>\n      <td>0.999928</td>\n      <td>283.15</td>\n    </tr>\n    <tr>\n      <th>19</th>\n      <td>0.999915</td>\n      <td>283.15</td>\n    </tr>\n    <tr>\n      <th>20</th>\n      <td>0.999909</td>\n      <td>283.15</td>\n    </tr>\n    <tr>\n      <th>21</th>\n      <td>0.999908</td>\n      <td>283.15</td>\n    </tr>\n    <tr>\n      <th>22</th>\n      <td>0.999908</td>\n      <td>283.15</td>\n    </tr>\n    <tr>\n      <th>23</th>\n      <td>0.999909</td>\n      <td>283.15</td>\n    </tr>\n    <tr>\n      <th>24</th>\n      <td>0.999902</td>\n      <td>283.15</td>\n    </tr>\n    <tr>\n      <th>25</th>\n      <td>0.999914</td>\n      <td>283.15</td>\n    </tr>\n    <tr>\n      <th>26</th>\n      <td>0.999908</td>\n      <td>283.15</td>\n    </tr>\n    <tr>\n      <th>27</th>\n      <td>0.999908</td>\n      <td>283.15</td>\n    </tr>\n    <tr>\n      <th>28</th>\n      <td>0.999908</td>\n      <td>283.15</td>\n    </tr>\n    <tr>\n      <th>29</th>\n      <td>0.999908</td>\n      <td>283.15</td>\n    </tr>\n    <tr>\n      <th>30</th>\n      <td>0.999902</td>\n      <td>283.15</td>\n    </tr>\n  </tbody>\n</table>\n</div>"
     },
     "execution_count": 13,
     "metadata": {},
     "output_type": "execute_result"
    }
   ],
   "source": [
    "net.res_junction"
   ]
  },
  {
   "cell_type": "code",
   "execution_count": 14,
   "metadata": {},
   "outputs": [
    {
     "data": {
      "text/plain": "   v_from_m_per_s  v_to_m_per_s  v_mean_m_per_s  p_from_bar  p_to_bar  \\\n0        0.139734      0.139741        0.139738    1.000000  0.999943   \n1        0.139741      0.139745        0.139743    0.999943  0.999926   \n2        0.064891      0.064892        0.064892    0.999926  0.999916   \n3       -0.009963     -0.009963       -0.009963    0.999916  0.999913   \n4        0.074854      0.074858        0.074856    0.999926  0.999908   \n\n   t_from_k  t_to_k  mdot_from_kg_per_s  mdot_to_kg_per_s  vdot_norm_m3_per_s  \\\n0    283.15  283.15            0.000373         -0.000373            0.000528   \n1    283.15  283.15            0.000373         -0.000373            0.000528   \n2    283.15  283.15            0.000173         -0.000173            0.000245   \n3    283.15  283.15           -0.000027          0.000027           -0.000038   \n4    283.15  283.15            0.000200         -0.000200            0.000283   \n\n     reynolds    lambda  normfactor_from  normfactor_to  \n0  887.107091  0.100526         0.519405       0.519430  \n1  887.107091  0.100526         0.519430       0.519443  \n2  411.547674  0.183892         0.519443       0.519455  \n3   64.011744  1.028198         0.519455       0.519465  \n4  475.559418  0.162959         0.519443       0.519476  ",
      "text/html": "<div>\n<style scoped>\n    .dataframe tbody tr th:only-of-type {\n        vertical-align: middle;\n    }\n\n    .dataframe tbody tr th {\n        vertical-align: top;\n    }\n\n    .dataframe thead th {\n        text-align: right;\n    }\n</style>\n<table border=\"1\" class=\"dataframe\">\n  <thead>\n    <tr style=\"text-align: right;\">\n      <th></th>\n      <th>v_from_m_per_s</th>\n      <th>v_to_m_per_s</th>\n      <th>v_mean_m_per_s</th>\n      <th>p_from_bar</th>\n      <th>p_to_bar</th>\n      <th>t_from_k</th>\n      <th>t_to_k</th>\n      <th>mdot_from_kg_per_s</th>\n      <th>mdot_to_kg_per_s</th>\n      <th>vdot_norm_m3_per_s</th>\n      <th>reynolds</th>\n      <th>lambda</th>\n      <th>normfactor_from</th>\n      <th>normfactor_to</th>\n    </tr>\n  </thead>\n  <tbody>\n    <tr>\n      <th>0</th>\n      <td>0.139734</td>\n      <td>0.139741</td>\n      <td>0.139738</td>\n      <td>1.000000</td>\n      <td>0.999943</td>\n      <td>283.15</td>\n      <td>283.15</td>\n      <td>0.000373</td>\n      <td>-0.000373</td>\n      <td>0.000528</td>\n      <td>887.107091</td>\n      <td>0.100526</td>\n      <td>0.519405</td>\n      <td>0.519430</td>\n    </tr>\n    <tr>\n      <th>1</th>\n      <td>0.139741</td>\n      <td>0.139745</td>\n      <td>0.139743</td>\n      <td>0.999943</td>\n      <td>0.999926</td>\n      <td>283.15</td>\n      <td>283.15</td>\n      <td>0.000373</td>\n      <td>-0.000373</td>\n      <td>0.000528</td>\n      <td>887.107091</td>\n      <td>0.100526</td>\n      <td>0.519430</td>\n      <td>0.519443</td>\n    </tr>\n    <tr>\n      <th>2</th>\n      <td>0.064891</td>\n      <td>0.064892</td>\n      <td>0.064892</td>\n      <td>0.999926</td>\n      <td>0.999916</td>\n      <td>283.15</td>\n      <td>283.15</td>\n      <td>0.000173</td>\n      <td>-0.000173</td>\n      <td>0.000245</td>\n      <td>411.547674</td>\n      <td>0.183892</td>\n      <td>0.519443</td>\n      <td>0.519455</td>\n    </tr>\n    <tr>\n      <th>3</th>\n      <td>-0.009963</td>\n      <td>-0.009963</td>\n      <td>-0.009963</td>\n      <td>0.999916</td>\n      <td>0.999913</td>\n      <td>283.15</td>\n      <td>283.15</td>\n      <td>-0.000027</td>\n      <td>0.000027</td>\n      <td>-0.000038</td>\n      <td>64.011744</td>\n      <td>1.028198</td>\n      <td>0.519455</td>\n      <td>0.519465</td>\n    </tr>\n    <tr>\n      <th>4</th>\n      <td>0.074854</td>\n      <td>0.074858</td>\n      <td>0.074856</td>\n      <td>0.999926</td>\n      <td>0.999908</td>\n      <td>283.15</td>\n      <td>283.15</td>\n      <td>0.000200</td>\n      <td>-0.000200</td>\n      <td>0.000283</td>\n      <td>475.559418</td>\n      <td>0.162959</td>\n      <td>0.519443</td>\n      <td>0.519476</td>\n    </tr>\n  </tbody>\n</table>\n</div>"
     },
     "execution_count": 14,
     "metadata": {},
     "output_type": "execute_result"
    }
   ],
   "source": [
    "net.res_pipe.head()"
   ]
  },
  {
   "cell_type": "markdown",
   "source": [
    "By using pandas `concat` function, it is possible to display input parameters and results in the same DataFrame:"
   ],
   "metadata": {
    "collapsed": false
   }
  },
  {
   "cell_type": "code",
   "execution_count": 20,
   "outputs": [
    {
     "data": {
      "text/plain": "    from_junction  to_junction  v_mean_m_per_s\n0               0            1        0.139738\n1               1            2        0.139743\n2               2            3        0.064892\n3               3            4       -0.009963\n4               2            5        0.074856\n5               3            6        0.074858\n6               0            7        0.287235\n7               7            8        0.212401\n8               8            9        0.137546\n9               7           10        0.074862\n10             10           11        0.074868\n11              8           12        0.074868\n12             12           13        0.074875\n13             14           15        0.171842\n14             15           16        0.019313\n15             16           17        0.009350\n16             17           18        0.000000\n17             15           19        0.152532\n18             19           20        0.077682\n19             20           21        0.002830\n20             21           22        0.002830\n21             19           23        0.074851\n22             20           24        0.074852\n23             17           25        0.146872\n24             25           26        0.072021\n25             26           27       -0.002830\n26             27           28       -0.002830\n27             25           29        0.074852\n28             26           30        0.074852",
      "text/html": "<div>\n<style scoped>\n    .dataframe tbody tr th:only-of-type {\n        vertical-align: middle;\n    }\n\n    .dataframe tbody tr th {\n        vertical-align: top;\n    }\n\n    .dataframe thead th {\n        text-align: right;\n    }\n</style>\n<table border=\"1\" class=\"dataframe\">\n  <thead>\n    <tr style=\"text-align: right;\">\n      <th></th>\n      <th>from_junction</th>\n      <th>to_junction</th>\n      <th>v_mean_m_per_s</th>\n    </tr>\n  </thead>\n  <tbody>\n    <tr>\n      <th>0</th>\n      <td>0</td>\n      <td>1</td>\n      <td>0.139738</td>\n    </tr>\n    <tr>\n      <th>1</th>\n      <td>1</td>\n      <td>2</td>\n      <td>0.139743</td>\n    </tr>\n    <tr>\n      <th>2</th>\n      <td>2</td>\n      <td>3</td>\n      <td>0.064892</td>\n    </tr>\n    <tr>\n      <th>3</th>\n      <td>3</td>\n      <td>4</td>\n      <td>-0.009963</td>\n    </tr>\n    <tr>\n      <th>4</th>\n      <td>2</td>\n      <td>5</td>\n      <td>0.074856</td>\n    </tr>\n    <tr>\n      <th>5</th>\n      <td>3</td>\n      <td>6</td>\n      <td>0.074858</td>\n    </tr>\n    <tr>\n      <th>6</th>\n      <td>0</td>\n      <td>7</td>\n      <td>0.287235</td>\n    </tr>\n    <tr>\n      <th>7</th>\n      <td>7</td>\n      <td>8</td>\n      <td>0.212401</td>\n    </tr>\n    <tr>\n      <th>8</th>\n      <td>8</td>\n      <td>9</td>\n      <td>0.137546</td>\n    </tr>\n    <tr>\n      <th>9</th>\n      <td>7</td>\n      <td>10</td>\n      <td>0.074862</td>\n    </tr>\n    <tr>\n      <th>10</th>\n      <td>10</td>\n      <td>11</td>\n      <td>0.074868</td>\n    </tr>\n    <tr>\n      <th>11</th>\n      <td>8</td>\n      <td>12</td>\n      <td>0.074868</td>\n    </tr>\n    <tr>\n      <th>12</th>\n      <td>12</td>\n      <td>13</td>\n      <td>0.074875</td>\n    </tr>\n    <tr>\n      <th>13</th>\n      <td>14</td>\n      <td>15</td>\n      <td>0.171842</td>\n    </tr>\n    <tr>\n      <th>14</th>\n      <td>15</td>\n      <td>16</td>\n      <td>0.019313</td>\n    </tr>\n    <tr>\n      <th>15</th>\n      <td>16</td>\n      <td>17</td>\n      <td>0.009350</td>\n    </tr>\n    <tr>\n      <th>16</th>\n      <td>17</td>\n      <td>18</td>\n      <td>0.000000</td>\n    </tr>\n    <tr>\n      <th>17</th>\n      <td>15</td>\n      <td>19</td>\n      <td>0.152532</td>\n    </tr>\n    <tr>\n      <th>18</th>\n      <td>19</td>\n      <td>20</td>\n      <td>0.077682</td>\n    </tr>\n    <tr>\n      <th>19</th>\n      <td>20</td>\n      <td>21</td>\n      <td>0.002830</td>\n    </tr>\n    <tr>\n      <th>20</th>\n      <td>21</td>\n      <td>22</td>\n      <td>0.002830</td>\n    </tr>\n    <tr>\n      <th>21</th>\n      <td>19</td>\n      <td>23</td>\n      <td>0.074851</td>\n    </tr>\n    <tr>\n      <th>22</th>\n      <td>20</td>\n      <td>24</td>\n      <td>0.074852</td>\n    </tr>\n    <tr>\n      <th>23</th>\n      <td>17</td>\n      <td>25</td>\n      <td>0.146872</td>\n    </tr>\n    <tr>\n      <th>24</th>\n      <td>25</td>\n      <td>26</td>\n      <td>0.072021</td>\n    </tr>\n    <tr>\n      <th>25</th>\n      <td>26</td>\n      <td>27</td>\n      <td>-0.002830</td>\n    </tr>\n    <tr>\n      <th>26</th>\n      <td>27</td>\n      <td>28</td>\n      <td>-0.002830</td>\n    </tr>\n    <tr>\n      <th>27</th>\n      <td>25</td>\n      <td>29</td>\n      <td>0.074852</td>\n    </tr>\n    <tr>\n      <th>28</th>\n      <td>26</td>\n      <td>30</td>\n      <td>0.074852</td>\n    </tr>\n  </tbody>\n</table>\n</div>"
     },
     "execution_count": 20,
     "metadata": {},
     "output_type": "execute_result"
    }
   ],
   "source": [
    "pd.concat([net.pipe[[\"from_junction\", \"to_junction\"]], net.res_pipe.v_mean_m_per_s], axis=1)"
   ],
   "metadata": {
    "collapsed": false
   }
  },
  {
   "cell_type": "markdown",
   "metadata": {},
   "source": [
    "#### Plot the network\n",
    "The parameters `plot_sinks` enable the plotting of sinks. The plotted size of the valves and junctions is tuned via the parameters `valve_size` and `junction_size`."
   ]
  },
  {
   "cell_type": "code",
   "execution_count": 16,
   "metadata": {},
   "outputs": [
    {
     "data": {
      "text/plain": "<Figure size 720x576 with 1 Axes>",
      "image/png": "[encoded data removed]"
     },
     "metadata": {},
     "output_type": "display_data"
    },
    {
     "data": {
      "text/plain": "<AxesSubplot:>"
     },
     "execution_count": 16,
     "metadata": {},
     "output_type": "execute_result"
    }
   ],
   "source": [
    "simple_plot(net, plot_sinks=True, valve_size=0.6, junction_size=0.2)"
   ]
  },
  {
   "cell_type": "markdown",
   "metadata": {},
   "source": [
    "#### Save and load the network\n",
    "\n",
    "It is possible to save the network as .json file and to load it later. Loading a network from json is much faster than creating the whole network from csv-files again.\n",
    "\n",
    "The network is saved as the file \"from_csv_example_gas.json\"."
   ]
  },
  {
   "cell_type": "code",
   "execution_count": 17,
   "metadata": {},
   "outputs": [],
   "source": [
    "ppi.to_json(net, \"from_csv_example_gas.json\")"
   ]
  },
  {
   "cell_type": "code",
   "execution_count": null,
   "outputs": [],
   "source": [
    "loaded_net = ppi.from_json(\"from_csv_example_gas.json\")"
   ],
   "metadata": {
    "collapsed": false
   }
  }
 ],
 "metadata": {
  "kernelspec": {
   "display_name": "Python 3 (ipykernel)",
   "language": "python",
   "name": "python3"
  },
  "language_info": {
   "codemirror_mode": {
    "name": "ipython",
    "version": 3
   },
   "file_extension": ".py",
   "mimetype": "text/x-python",
   "name": "python",
   "nbconvert_exporter": "python",
   "pygments_lexer": "ipython3",
   "version": "3.9.15"
  }
 },
 "nbformat": 4,
 "nbformat_minor": 1
}
